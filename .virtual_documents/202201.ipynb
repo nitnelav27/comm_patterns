


%load_ext autoreload
%autoreload 2

import numpy as np
import pandas as pd
import datetime as dt
import os
import matplotlib.pyplot as plt
import phonecalls as pc
import scipy.stats as stats
import scipy.interpolate as interpol
import statsmodels.api as sm
import pymannkendall as mk
import time
import copy
import math
import pickle


plt.rcParams['figure.figsize'] = (20, 10)
markers = ['o', 'v', 's', 'P', '*', 'X', 'd', 'x', 'D', '2', '+']
colors = ['#348ABD', '#A60628', '#7A68A6', '#467821', '#D55E00', '#CC79A7', '#56B4E9', '#009E73', '#F0E442', '#0072B2']

unfiltered = pd.read_pickle('unfiltered.pkl')

tmpunf = pd.read_pickle('../itdata/mtl_unfiltered.pickle')
    
unfiltered.update(tmpunf)

itdffa15 = pd.read_pickle('../itdata/mtl_dffa15.pickle')
itdffa30 = pd.read_pickle('../itdata/mtl_dffa30.pickle')
itlives = pd.read_pickle('../itdata/mtl_livesd.pickle')
# unfiltered['mit'] = pc.allcalls('../usadata/CallLog.csv', ('type', 'outgoing', 'outgoing+', 'missed'), 'participantID.A', 'number.hash', 
#                                 ['local_time'], "%Y-%m-%d %H:%M:%S", header=True, min_activity=1)
unfiltered['mit'] = pd.read_csv("data/USc.txt", sep="\t", parse_dates=[3, 4]).rename({'a': 'aclock', 't': 'uclock'}, axis='columns')
# unfiltered['uk12'] = pd.DataFrame()
# for c in ['uk1', 'uk2']:
#     df = unfiltered[c].copy(deep=True)
#     df['ego'] = df['ego'].map(lambda i: f'{dict({"uk1": "a", "uk2": "b"})[c]}{i}')
#     unfiltered['uk12'] = unfiltered['uk12'].append(df)

L = {'uk': 300, 'uk1': 300, 'uk2': 270, 'it': 365, 'itb': 365, 'mit': 220}
calls = {}
for c in ['uk', 'uk1', 'uk2', 'it', 'mit']:
    df = unfiltered[c].copy(deep=True)
    df['ea'] = list(zip(df['ego'], df['alter']))
    lf = df.groupby('ea')[['aclock']].max()
    keep = lf.loc[lf['aclock'] <= L[c]]
    df = df[df['ea'].isin(keep.index)]
    calls[c] = pc.apply_filters(df, 60, 1)
# calls['uk12'] = pd.DataFrame()
# for c in ['uk1', 'uk2']:
#     df = calls[c].copy(deep=True)
#     df['ego'] = df['ego'].map(lambda i: f'{dict({"uk1": "a", "uk2": "b"})[c]}{i}')
#     calls['uk12'] = calls['uk12'].append(df)
    
    
globalt0 = dt.datetime.now()


unfiltered['uk'].head()


for c in ['uk2', 'it', 'mit']:
    df = calls[c].copy(deep=True)
    df['pair'] = list(zip(df['ego'], df['alter']))
    print(c, len(df['pair'].unique()))


for c in ['uk', 'uk2', 'it', 'mit']:
    print(c, min(unfiltered[c]['time']), max(unfiltered[c]['time']), max(unfiltered[c]['uclock']) - min(unfiltered[c]['uclock']))





for c in ['it', 'mit']:
    # No Filter
    df = unfiltered[c].copy(deep=True)
    df['ea'] = list(zip(df['ego'], df['alter']))
    print(c, len(df['ea'].unique()))
    # L
    lf = df.groupby('ea')[['aclock']].max()
    keep = lf.loc[lf['aclock'] <= L[c]]
    df = df[df['ea'].isin(keep.index)]
    print(c, len(df['ea'].unique()))
    # ncalls = df.groupby('ea')[['time']].count()
    # keep = ncalls.loc[ncalls['time'] >= 3]
    # df = df[df['ea'].isin(keep.index)]
    # calls[{'it': 'itL', 'mit': 'mitL'}[c]] = df
    # print(c, len(df['ea'].unique()))
    # Delta t to the left (by ego)
    t0i = df.groupby('ego')['uclock'].min()
    print(t0i[24])
    t0x = df.groupby('ea')[['uclock']].min()
    t0x['dif'] = t0x.index.map(lambda i: t0x.at[i, 'uclock'] - t0i[i[0]])
    keep = t0x.loc[t0x['dif'] > 50]
    df = df[df['ea'].isin(keep.index)]
    print(len(df['ea'].unique()))
    # Delta t to the right
    df = pc.apply_filters(df, 60)
    df['ea'] = list(zip(df['ego'], df['alter']))
    print(len(df['ea'].unique()))
    calls[{'it': 'itb', 'mit': 'mitb'}[c]] = df


tmp = calls['itb'].copy(deep=True)
tmp['ea'] = list(zip(tmp['ego'], tmp['alter']))
t0i = tmp.groupby('ego')['uclock'].min()
t0x = tmp.groupby('ea')[['uclock']].min()
t0x['t0'] = t0x.index.map(lambda i: t0x.at[i, 'uclock'] - t0i[i[0]])
tmp2 = t0x.loc[t0x['t0'] > 50]
df = tmp[tmp['ea'].isin(tmp2.index)]


t0i[24]


df.loc[df['ea'] == (24, '86103645de92f7239441067a8cb8146')]


# npairs = {}
# for c in ['itu', 'mitu', 'itu3', 'mitu3', 'it', 'itb', 'itL', 'mit', 'mitb', 'mitL']:
#     if c in ['itu', 'mitu']:
#         df = unfiltered[{'itu': 'it', 'mitu': 'mit'}[c]].copy(deep=True)
#     elif c in ['itu3', 'mitu3']:
#         df = unfiltered[{'itu3': 'it', 'mitu3': 'mit'}[c]].copy(deep=True)
#         df['ea'] = list(zip(df['ego'], df['alter']))
#         ncalls = df.groupby('ea')[['time']].count()
#         keep = ncalls.loc[ncalls['time'] >= 3]
#         df = df[df['ea'].isin(keep.index)]
#     else:
#         df = calls[c].copy(deep=True)
#     df['ea'] = list(zip(df['ego'], df['alter']))
#     npairs[c] = len(df['ea'].unique())
    
# print('itu to itu3', (npairs['itu'] - npairs['itu3']), (npairs['itu'] - npairs['itu3']) / npairs['itu'])    
# print('itu3 to it', (npairs['itu3'] - npairs['it']), (npairs['itu3'] - npairs['it']) / npairs['itu3'])
# print('itu3 to itb', (npairs['itu3'] - npairs['itb']), (npairs['itu3'] - npairs['itb']) / npairs['itu3'])
# print('itu3 to itL', (npairs['itu3'] - npairs['itL']), (npairs['itu3'] - npairs['itL']) / npairs['itu3'])
# print('itL to it', (npairs['itL'] - npairs['it']), (npairs['itL'] - npairs['it']) / npairs['itL'])
# print('it to itb', (npairs['it'] - npairs['itb']), (npairs['it'] - npairs['itb']) / npairs['it'])
# print('itL to itb', (npairs['itL'] - npairs['itb']), (npairs['itL'] - npairs['itb']) / npairs['itL'])
# print('mitu to mitu3', (npairs['mitu'] - npairs['mitu3']), (npairs['mitu'] - npairs['mitu3']) / npairs['mitu'])
# print('mitu3 to mitL', (npairs['mitu'] - npairs['mitL']), (npairs['mitu'] - npairs['mitL']) / npairs['mitu'])
# print('mitu3 to mit', (npairs['mitu3'] - npairs['mit']), (npairs['mitu3'] - npairs['mit']) / npairs['mitu3'])
# print('mitu3 to mitb', (npairs['mitu3'] - npairs['mitb']), (npairs['mitu3'] - npairs['mitb']) / npairs['mitu3'])
# print('mitL to mit', (npairs['mitL'] - npairs['mit']), (npairs['mitL'] - npairs['mit']) / npairs['mitL'])
# print('mit to mitb', (npairs['mit'] - npairs['mitb']), (npairs['mit'] - npairs['mitb']) / npairs['mit'])
# print('mitL to mitb', (npairs['mitL'] - npairs['mitb']), (npairs['mitL'] - npairs['mitb']) / npairs['mitL'])


# npairs['it'] / 143


for c in ['uk2', 'it', 'mit']:
    print(c, unfiltered[c].columns)


for c in ['uk2', 'itb', 'it', 'mit']:
    df = calls[c].copy(deep=True)
    df['pair'] = list(zip(df['ego'], df['alter']))
    print(c, len(df['pair'].unique()))


lives = {}
lives['all'] = {}
for c in ['uk2', 'itb', 'it', 'mit']:
    lives[c] = pc.lives_dictionary(calls[c])
    lives['all'].update(lives[c])


limits = {}
for c in ['uk2', 'itb', 'it', 'mit']:
    limits[c] = []
    limits[c].append((0, 50))
    limits[c].append((L[c] // 2 - 25, L[c]//2 + 25))
    limits[c].append((L[c] - 50, L[c]))
limits


# limits['it'] = [(0, 50), (150, 200), (270, 320)]


t0 = dt.datetime.now()
fig1 = {}
for c in ['uk2', 'itb', 'it', 'mit']:
    fig1[c] = {}
    for i in range(3):
        fig1[c][i] = pc.get_fal(calls[c], limits[c][i][0], limits[c][i][1], 15, countalters=True)
print(f'Took {dt.datetime.now() - t0}')


fig1['uk2'][2].keys()





t0 = dt.datetime.now()
nsample = len(fig1['itb'][2]['fi'].keys())
allsamples = []
for _ in range(1000):
    egosample = np.random.choice(list(fig1['itb'][2]['fi'].keys()), size=nsample, replace=True)
    fdf = pd.DataFrame()
    c = 0
    for ego in egosample:
        fdf = fdf.merge(fig1['itb'][2]['fi'][ego].rename({'f': f'f{c}'}, axis='columns'), left_index=True, right_index=True, how='outer')
        c += 1
    fdf['f'] = fdf.mean(axis=1)
    allsamples.append(fdf['f'])
print(f'Took {dt.datetime.now() - t0}')


# for idx in range(25):
#     thisa = []
#     for i in range(len(allsamples)):
#         thisa.append(allsamples[i][idx])
#     fig1['itb'][2]['f'].at[idx, 'bootbe'] = np.percentile(thisa, 0.025)
#     fig1['itb'][2]['f'].at[idx, 'bootab'] = np.percentile(thisa, 0.975)


# t0 = dt.datetime.now()
# nsample = len(fig1['mit'][2]['fi'].keys())
# allsamples = []
# for _ in range(1000):
#     egosample = np.random.choice(list(fig1['mit'][2]['fi'].keys()), size=nsample, replace=True)
#     fdf = pd.DataFrame()
#     c = 0
#     for ego in egosample:
#         fdf = fdf.merge(fig1['mit'][2]['fi'][ego].rename({'f': f'f{c}'}, axis='columns'), left_index=True, right_index=True, how='outer')
#         c += 1
#     fdf['f'] = fdf.mean(axis=1)
#     allsamples.append(fdf['f'])
    
# for idx in range(max(allsamples[0].index) + 1):
#     thisa = []
#     for i in range(len(allsamples)):
#         if idx in allsamples[i].index:
#             thisa.append(allsamples[i][idx])
#     fig1['mit'][2]['f'].at[idx, 'bootbe'] = np.percentile(thisa, 0.025)
#     fig1['mit'][2]['f'].at[idx, 'bootab'] = np.percentile(thisa, 0.975)
# print(f'Took {dt.datetime.now() - t0}')


# plt.figure(figsize=(13,12))
# plt.subplot(211)
# plt.title("Long Life MIT")
# plt.xlabel("$a$")
# plt.ylabel("$f$")
# plt.semilogy()
# plt.plot(fig1['mit'][2]['f'].index, fig1['mit'][2]['f']['f'], marker="o", markersize=13, ls="solid", lw=4)
# plt.fill_between(fig1['mit'][2]['f'].index, fig1['mit'][2]['f']['bootbe'], fig1['mit'][2]['f']['bootab'], color=colors[0], alpha=0.3)

# plt.subplot(212)
# plt.title("Long Life ITn")
# plt.xlabel("$a$")
# plt.ylabel("$f$")
# plt.semilogy()
# plt.plot(fig1['itb'][2]['f'].index, fig1['itb'][2]['f']['f'], marker="o", markersize=13, ls="solid", lw=4)
# plt.fill_between(fig1['itb'][2]['f'].index, fig1['itb'][2]['f']['bootbe'], fig1['itb'][2]['f']['bootab'], color=colors[0], alpha=0.3)
# plt.tight_layout()


dashed = {}
for c in ['uk2', 'itb', 'it', 'mit']:
    dashed[c] = {}
    print(f'======================={c}=====================')
    for lamb in fig1[c].keys():
        if lamb >= 0:
            points = pc.get_b_slopes(fig1[c][lamb]['f'])
            print(pc.get_b_mk(fig1[c][lamb]['f']))
            dashed[c][lamb] = points
            print(f'\draw[dashed, {["charmander", "squirtle", "ekans"][lamb]}, ultra thick] (axis cs: {points[0][0]}, {points[1][0]}) -- (axis cs: {points[0][1]}, {points[1][1]});')


plt.figure(figsize=(20*2, 10*2))
p = 1
for c in ['uk2', 'itb', 'it', 'mit']:
    plt.subplot(2, 2, p)
    plt.ylim(10**(-1), 10**1)
    plt.semilogy()
    #plt.xlim(-0.5, 26.5)
    plt.xlabel(fr'$a, \Delta a  = 15$. Cohort {c}')
    plt.ylabel(r'$\bar{f}$')
    for i in range(3):
        plt.plot(fig1[c][i]['f'].index, fig1[c][i]['f']['f'], marker=markers[i], ls="solid", lw=3, markersize=13, c=colors[i], label=fr'${limits[c][i][0]}\leq \ell \leq {limits[c][i][1]} ({fig1[c][i]["nalters"]})$')
        if i > 0:
            plt.plot(dashed[c][i][0], dashed[c][i][1], marker="", ls="--", lw=3, c=colors[i])
    plt.legend()
    p += 1
# plt.savefig("/home/vsvh/Desktop/B.png", dpi=200, pad_inches=2)


# for c in fig1.keys():
#     tmp = pd.DataFrame()
#     for l in fig1[c].keys():
#         df = fig1[c][l]['f']
#         if len(df.columns) == 3:
#             df.columns = [f'l{int(l)}', f'lbe{int(l)}', f'lab{int(l)}']
#         else:
#             df.columns = [f'l{int(l)}', f'lbe{int(l)}', f'lab{int(l)}',f'bootbe{int(l)}', f'bootab{int(l)}']
#         if len(tmp) == 0:
#             tmp = tmp.append(df)
#         else:
#             tmp = tmp.merge(df, left_index=True, right_index=True, how='outer')
#     tmp.index.rename('a', inplace=True)
#     tmp.fillna('nan', inplace=True)
#     # tmp.to_csv(f"../commpatterns/PNAS_paper/figs/fig1_{c}.dat", header=True, sep="\t")


lifetimes = {}
for c in ['uk2', 'itb', 'it', 'mit']:
    lifetimes[c] = {}
    df = calls[c].copy()
    df['pair'] = list(zip(df['ego'], df['alter']))
    lf = df.groupby('pair')[['aclock']].max().rename({'aclock': 'ell'}, axis='columns')
    lifetimes[c] = pc.histogram(lf['ell'], 20, log=False)


plt.figure(figsize=(13,6))
plt.xlabel(r"$\ell$")
plt.semilogy()
for c in lifetimes.keys():
    plt.plot(lifetimes[c]['label'], lifetimes[c]['pmf'], marker="o", markersize=13, ls="solid", lw=4, label=c)
plt.legend()





ksp = {}
for c in ['uk2', 'itb', 'it', 'mit']:
    ksp[c] = {}
    series = fig1[c][1]['fi']
    for ego in series.keys():
        df = series[ego]
        idx = sorted(list(df.index))[1:-1]
        if len(idx) > 0:
            mid = len(idx) // 2
            lims = ((idx[0], idx[mid]), (idx[mid], idx[-1]))
            left = df.loc[(df.index >= lims[0][0]) & (df.index <= lims[0][1])]
            right = df.loc[(df.index >= lims[1][0]) & (df.index <= lims[1][1])]
            if (len(left) >= 1) and (len(right) >= 1):
                ksp[c]['m'] = ksp[c].get('m', [])
                ksp[c]['m'].append(stats.ks_2samp(left['f'], right['f'])[1])
    series = fig1[c][2]['fi']
    for ego in series.keys():
        df = series[ego]
        idx = sorted(list(df.index))[1:-1]
        if len(idx) > 0:
            mid = len(idx) // 2
            lims = ((idx[0], idx[mid]), (idx[mid], idx[-1]))
            left = df.loc[(df.index >= lims[0][0]) & (df.index <= lims[0][1])]
            right = df.loc[(df.index >= lims[1][0]) & (df.index <= lims[1][1])]
            if (len(left) >= 1) and (len(right) >= 1):
                ksp[c]['l'] = ksp[c].get('l', [])
                ksp[c]['l'].append(stats.ks_2samp(left['f'], right['f'])[1])


tmp = pd.DataFrame(index=range(111))
lists = []
for c in ksp.keys():
    for k in ['m', 'l']:
        thelist = ksp[c][k]
        lists.append(thelist)
        for i in range(len(thelist)):
            tmp.at[i, f'{c}{k}'] = thelist[i]


for c in ksp.keys():
    for k in ksp[c].keys():
        lista = ksp[c][k]
        count = 0
        for i in lista:
            if i < 0.05:
                count += 1
        print(c, k, count/len(lista), np.mean(lista))


# tmp = tmp.fillna('nan')
# tmp.to_csv("../commpatterns/PNAS_paper/figs/fig2.dat", index=False, header=True, sep="\t")


def histogram(array, bins, log=True):
    xl = sorted(list(array))
    xo = xl[0]
    xf = xl[-1]
    if log:
        lmu = np.log10(xf / xo) / bins
        mu = 10**lmu
    dx = (xf - xo) / bins
    h = {}
    if log:
        for x in xl:
            if x == xf:
                h[bins - 1] = h.get(bins - 1, 0) + 1
            else:
                i = np.log10(x / xo) // lmu
                h[i] = h.get(i, 0) + 1
    else:
        for x in xl:
            if x == xf:
                h[bins - 1] = h.get(bins - 1, 0) + 1
            else:
                i = int((x - xo) // dx)
                h[i] = h.get(i, 0) + 1
    df = pd.DataFrame.from_dict(h, orient='index', columns=['h'])
    df['pmf'] = df['h'].div(sum(df['h']))
    for i in df.index:
        if log:
            df.at[i, 'label'] = xo*(mu**i)
        else:
            df.at[i, 'label'] = xo + (dx * (i))
    return df


bhist = {}
for c in fig1.keys():
    bhist[c] = {}
    for lamb in fig1[c].keys():
        bhist[c][lamb] = []
        for ego in fig1[c][lamb]['fi'].keys():
            curve = fig1[c][lamb]['fi'][ego]
            if len(curve > 1):
                b = pc.get_b_slopes(curve)
                if (b is not None) and (not pd.isna(b[1][1])):
                    bhist[c][lamb].append(b[1][1])


for c in bhist.keys():
    for lamb in bhist[c].keys():
        if lamb > 0:
            print(c, lamb, np.mean(bhist[c][lamb]))


cols = {1: 'm', 2: 'l'}
tmp = pd.DataFrame(index=range(111))
lists = []
for c in bhist.keys():
    for ell in [1, 2]:
        thelist = bhist[c][ell]
        for i in range(len(thelist)):
            tmp.at[i, f'{c}{cols[ell]}'] = thelist[i]
# tmp = tmp.fillna('nan')
# tmp.to_csv("../commpatterns/PNAS_paper/figs/fig2down.dat", index=False, header=True, sep="\t")


tmp


tmp


cols = ['uk2m', 'itbm', 'itm', 'mitm', 'uk2l', 'itbl', 'itl', 'mitl']
pos = [0,3,6,9,1,4,7,10]
tmp2 = pd.DataFrame({'c': cols, 'pos': pos})
idx = list(tmp2.index)
for i in idx:
    mean = np.mean(tmp[cols[i]].dropna())
    sd = np.std(tmp[cols[i]].dropna())
    tmp2.at[i, 'mean'] = mean
    tmp2.at[i, 'sd'] = sd
tmp2.index.name = 'idx'
a = tmp2.loc[tmp2.index < 4]
b = tmp2.loc[tmp2.index >= 4]
# a.to_csv("../commpatterns/PNAS_paper/figs/fig2bmdown.dat", index=True, header=True, sep="\t")
# b.to_csv("../commpatterns/PNAS_paper/figs/fig2bldown.dat", index=True, header=True, sep="\t")


a


dashed





calls['all'] = pd.DataFrame()
for c in ['uk2', 'it', 'mit']:
    calls['all'] = calls['all'].append(calls[c])


len(calls['all']) == len(calls['uk2']) + len(calls['mit']) + len(calls['it'])


fig3b = {}
for c in ['all', 'uk2', 'itb', 'it', 'mit']:
    fig3b[c] = pc.get_survival2(calls[c], 30, 60, maxell = 220, base = 3)


plt.xlabel(r'$\ell, \Delta \ell = 10$')
plt.ylabel(r'$P$')
for i in range(4):
    plt.plot(fig3b['all'][i].index, fig3b['all'][i]['p'], marker=markers[i], markersize=13, ls="dashed", lw=3, label=fr'${3**i} \leq g < {3**(i + 1)}$')
plt.legend()


tmp = pd.DataFrame({'lc': list(fig3b['all'][0].index)})
for s in range(4):
    df = fig3b['all'][s]
    tmp[f'p{int(s)}'] = df['p']
# tmp.to_csv(f'../commpatterns/PNAS_paper/figs/allsurvival.dat', header=True, index=False, sep="\t")





callsUM = pd.DataFrame()
for c in ['uk2', 'mit']:
    callsUM = callsUM.append(calls[c])
    
surv_cont = pc.get_survival2(callsUM, 30, 60, maxell=220, base = 3)


tmp = pd.DataFrame()
for s in range(4):
    df = surv_cont[s].reset_index()
    df.columns = ['lc', 'p']
    df['lc'] *= 10
    df['f'] = 3**s
    ttmmpp = pd.DataFrame({'x': df['f'], 'y': df['lc'], 'z': df['p']})
    tmp = tmp.append(ttmmpp).reset_index(drop=True)
# tmp.to_csv(f"../commpatterns/PNAS_paper/figs/contour.dat", header=False, index=False, sep="\t")


points_it = pc.get_survival2(calls['it'], 30, 60, binned=False, maxell=220)

tmp = pd.DataFrame()
for s in points_it.keys():
    if s < 3**4 + 1:
        df = points_it[s].reset_index()
        df.columns = ['lc', 'p']
        df['lc'] *= 10
        df['f'] = s
        ttmmpp = pd.DataFrame({'x': df['f'], 'y': df['lc'], 'z': df['p']})
        tmp = tmp.append(ttmmpp).reset_index(drop=True)
sub = [(i/4, (i + 1)/4) for i in range(4)]
# p = 0
# for s in sub:
#     df = tmp.loc[(tmp['z'] > s[0]) & (tmp['z'] <= s[1])]
#     df = df.drop(columns='z')
#     df.to_csv(f'../commpatterns/PNAS_paper/figs/points{p}.dat', header=False, index=False, sep="\t")
#     print(s)
#     p += 1








t0 = dt.datetime.now()
S1 = {}
for c in ['uk2', 'itb', 'it', 'mit']:
    S1[c] = {}
    if c != 'itb':
        df = unfiltered[c].copy(deep=True)
        df['ea'] = list(zip(df['ego'], df['alter']))
        lf = df.groupby('ea')[['aclock']].max()
        keep = lf.loc[lf['aclock'] <= L[c]]
        df = df[df['ea'].isin(keep.index)]
    else:
        df = unfiltered['it'].copy(deep=True)
        df['ea'] = list(zip(df['ego'], df['alter']))
        lf = df.groupby('ea')[['aclock']].max()
        keep = lf.loc[lf['aclock'] <= 365]
        df = df[df['ea'].isin(keep.index)]
        t0i = df.groupby('ego')['uclock'].min()
        t0x = df.groupby('ea')[['uclock']].min()
        t0x['dif'] = t0x.index.map(lambda i: t0x.at[i, 'uclock'] - t0i[i[0]])
        keep = t0x.loc[t0x['dif'] > 50]
        df = df[df['ea'].isin(keep.index)]
    for tw in [10, 30, 50, 60, 90]:
        S1[c][tw] = {}
        cdf = pc.apply_filters(df, tw)
        for lamb in range(3):
            S1[c][tw][lamb] = pc.get_fal(cdf, limits[c][lamb][0], limits[c][lamb][1], 15)
print(f'Took {dt.datetime.now() - t0}')


plt.figure(figsize=(12*4, 8*6))
p = 1
for Dt in S1['uk2'].keys():
    for c in S1.keys():
        plt.subplot(6, 4, p)
        plt.xlabel(fr"$\ell, \Delta \ell = 50$. Cohort {c}")
        plt.ylabel(fr'$\bar{{f}}, \Delta t_w = {Dt}$')
        plt.semilogy()
        for lamb in range(3):
            plt.plot(S1[c][Dt][lamb]['f'].index, S1[c][Dt][lamb]['f']['f'], marker="o", markersize=12, ls="dashed", lw=3, label=fr'${limits[c][lamb][0]}\leq \ell \leq {limits[c][lamb][1]}$')
        plt.legend()
        p += 1


tmp = pd.DataFrame(index=list(range(25)))
for c in S1.keys():
    for Dt in S1[c].keys():
        for i in range(3):
            idx = list(S1[c][Dt][i]['f'].index)
            series = list(S1[c][Dt][i]['f']['f'])
            colname = f'{c}{Dt}{["s", "m", "l"][i]}'
            df = pd.DataFrame({colname: series}, index=idx)
            tmp = tmp.merge(df, left_index=True, right_index=True, how='outer')
tmp = tmp.fillna('nan')
# tmp.index.rename('a', inplace=True)
# tmp.to_csv(f"../commpatterns/PNAS_paper/SI/figs/S1.dat", header=True, index=True, sep="\t")





limits


lims = {}
for c in limits.keys():
    lims[c] = {}
    for i in range(3):
        lims[c][i] = [limits[c][i]] + [(limits[c][i][0], limits[c][i][0] + Dl) for Dl in [10, 30, 70, 90]]
        
lims



S2 = {}
for c in ['uk2', 'itb', 'it', 'mit']:
    S2[c] = {}
    for i in range(3):
        S2[c][i] = {}
        for j in range(5):
            S2[c][i][j] = pc.get_fal(calls[c], lims[c][i][j][0], lims[c][i][j][1], 15)


plt.figure(figsize=(14*3, 8*4))
p = 1
for c in S2.keys():
    for lg in S2[c].keys():
        plt.subplot(4, 3, p)
        plt.xlabel(fr"$a, \Delta a  = 15$. Cohort {c}")
        plt.ylabel(r"$\bar{f}$")
        plt.semilogy()
        plt.plot(S2[c][lg][0]['f'].index, S2[c][lg][0]['f']['f'], marker="o", markersize=12, ls="solid", lw=3, c=colors[lg], label=r'$\Delta \ell = 50$')
        for i in range(1, 5):
            if S2[c][lg][i] is not None:
                plt.plot(S2[c][lg][i]['f'].index, S2[c][lg][i]['f']['f'], marker=markers[i], markersize=10, ls="dashed", lw=2, c=colors[lg], alpha=0.6, label=fr'$\Delta \ell = {[10, 30, 70, 90][i - 1]}$')
        plt.legend()
        p += 1


tmp = pd.DataFrame(index=list(range(28)))
for c in S2.keys():
    for lg in S2[c].keys():
        for i in range(5):
            df = S2[c][lg][i]
            if df is not None:
                df = df['f']
                colname = f'{c}{["s", "m", "l"][lg]}{i}'
                series = list(df['f'])
                df2 = pd.DataFrame({colname: series}, index=df.index)
                tmp = tmp.merge(df2, left_index=True, right_index=True, how='outer')
            else:
                colname = f'{c}{["s", "m", "l"][lg]}{i}'
                df2 = pd.DataFrame({colname: [np.nan  for x in range(28)]}, index=tmp.index)
                tmp = tmp.merge(df2, left_index=True, right_index=True, how='outer')
# tmp = tmp.fillna('nan')
# tmp.index.rename('a', inplace=True)
# tmp.to_csv(f"../commpatterns/PNAS_paper/SI/figs/S2.dat", header=True, index=True, sep="\t")





t0 = dt.datetime.now()
Deltaa = {}
for c in ['uk2', 'itb', 'it', 'mit']:
    Deltaa[c] = {}
    for Da in [5, 10, 15, 30, 45]:
        Deltaa[c][Da] = {}
        for i in range(3):
            Deltaa[c][Da][i] = pc.get_fal(calls[c], limits[c][i][0], limits[c][i][1], Da)
print(f'Took {dt.datetime.now() - t0}')


plt.figure(figsize=(12*4, 8*5))
p = 1
for Da in [5, 10, 15, 30, 45]:
    for c in ['uk2', 'itb', 'it', 'mit']:
        plt.subplot(5,4,p)
        plt.xlabel(fr'$\ell$. Cohort {c}')
        plt.ylabel(r'$\bar{f}$')
        plt.semilogy()
        for i in range(3):
            plt.plot(Deltaa[c][Da][i]['f'].index, Deltaa[c][Da][i]['f']['f'], label=f'{i}')
        plt.legend()
        p += 1


tmp = pd.DataFrame(index=range(60))
for c in Deltaa.keys():
    for Da in Deltaa[c].keys():
        for i in range(3):
            df = Deltaa[c][Da][i]['f']
            df.index *= Da
            df = df.reset_index()
            if c != 'uk2':
                df.columns = [f'{c}D{dict({5:"a", 10:"b", 15:"c", 30:"d", 45:"e"})[Da]}x{i}', f'{c}D{dict({5:"a", 10:"b", 15:"c", 30:"d", 45:"e"})[Da]}y{i}']
                tmp = tmp.merge(df, left_index=True, right_index=True, how='outer')
            else:
                df.columns = [f'ukbD{dict({5:"a", 10:"b", 15:"c", 30:"d", 45:"e"})[Da]}x{i}', f'ukbD{dict({5:"a", 10:"b", 15:"c", 30:"d", 45:"e"})[Da]}y{i}']
                tmp = tmp.merge(df, left_index=True, right_index=True, how='outer')

# tmp = tmp.fillna('nan')
# tmp.to_csv("../commpatterns/PNAS_paper/SI/figs/S2.5.dat", index=False, sep="\t", header=True)





time0 = dt.datetime.now()
Deltats = {}
for ts in range(10, 61, 10):
    # No Filter
    df = unfiltered['it'].copy(deep=True)
    df['ea'] = list(zip(df['ego'], df['alter']))
    # L
    lf = df.groupby('ea')[['aclock']].max()
    keep = lf.loc[lf['aclock'] <= 365]
    df = df[df['ea'].isin(keep.index)]
    # Delta t to the left (by ego)
    t0i = df.groupby('ego')['uclock'].min()
    t0x = df.groupby('ea')[['uclock']].min()
    t0x['dif'] = t0x.index.map(lambda i: t0x.at[i, 'uclock'] - t0i[i[0]])
    keep = t0x.loc[t0x['dif'] > ts]
    df = df[df['ea'].isin(keep.index)]
    # Delta t to the right
    df = pc.apply_filters(df, 60)
    Deltats[ts] = {}
    for i in range(3):
        Deltats[ts][i] = pc.get_fal(df, limits['itb'][i][0], limits['itb'][i][1], 15)
print(f'Took {dt.datetime.now() - time0}')


plt.figure(figsize=(20*2, 8*3))
p = 1
for ts in Deltats.keys():
    plt.subplot(3,2,p)
    plt.title(fr'It${{}}_n$ with $\Delta t_s = {ts}$')
    plt.xlabel(r"$a$")
    plt.ylabel(r"$\bar{f}(a, \ell)$")
    plt.semilogy()
    for i in range(3):
        plt.plot([x * 15 for x in Deltats[ts][i]['f'].index], Deltats[ts][i]['f']['f'], label=fr'${limits["itb"][i][0]} \leq \ell \leq {limits["itb"][i][1]}$')
    plt.legend()
    p += 1
# plt.savefig("../commpatterns/PNAS_paper/SI/figs/Deltats.pdf", dpi=150)


tmp = pd.DataFrame()
for ts in Deltats.keys():
    for i in range(3):
        df = Deltats[ts][i]['f'].copy(deep=True)
        df.columns = [f'y{ts}{i}']
        df[f'x{ts}{i}'] = df.index
        tmp = tmp.merge(df, left_index=True, right_index=True, how='outer')
# tmp = tmp.fillna('nan')
# tmp.to_csv("../commpatterns/PNAS_paper/SI/figs/S2.6.dat", index=False, header=True, sep="\t")





useegos = []
for e in fig1['mit'][2]['fi'].keys():
    if len(fig1['mit'][2]['fi'][e].index) >= 10:
        useegos.append(e)


np.random.seed(698)
tmp = pd.DataFrame(index=range(18))
plt.figure(figsize=(20*2, 10*2))
p = 1
for c in ['uk2', 'itb', 'it', 'mit']:
    plt.subplot(2,2, p)
    plt.ylim(10**(-1), 5*10**1)
    plt.semilogy()
    plt.xlim(-0.5, 18.5)
    plt.xlabel(fr'$a, \Delta a  = 15$. Cohort {c}')
    plt.ylabel(r'$\bar{f}$')
    for i in range(3):
        plt.plot(fig1[c][i]['f'].index, fig1[c][i]['f']['f'], marker=markers[i], ls="solid", lw=5, markersize=13, c=colors[i], label=fr'${limits[c][i][0]}\leq \ell \leq {limits[c][i][1]}$')
        df = fig1[c][i]['f'][['f']]
        df.columns = [f'{c}{i}avg']
        tmp = tmp.merge(df, left_index=True, right_index=True, how='outer')
        if c != 'sss':
            egos = np.random.choice(list(fig1[c][i]['fi'].keys()), size=10)
        else:
            egos = np.random.choice(useegos, size=10)
        en = 1
        for e in egos:
            plt.plot(fig1[c][i]['fi'][e].index, fig1[c][i]['fi'][e]['f'], marker="", ls="dotted", lw=2, c=colors[i], alpha=0.5)
            df = fig1[c][i]['fi'][e].copy(deep=True)
            df.columns = [f'{c}{i}e{en}']
            tmp = tmp.merge(df, left_index=True, right_index=True, how='outer')
            en += 1
    plt.legend()
    p += 1
# plt.savefig("../commpatterns/PNAS_paper/SI/figs/SA.pdf", dpi=200)


# tmp = tmp.fillna('nan')
# tmp.index.rename('a', inplace=True)
# tmp.to_csv(f"../commpatterns/PNAS_paper/SI/figs/S3.dat", header=True, index=True, sep="\t")


tmp





# dffcomb['all'] = {}
# for c in ['uk1', 'uk2', 'it1', 'it2', 'mit']:
#     dffcomb['all'].update(dffcomb[c])


t0 = dt.datetime.now()
b = {}
b2 = {}
converge = {}
converge2 = {}
nalt = {}
nego = {}
for c in ['uk2', 'itb', 'it', 'mit']:
    b[c] = {}
    b2[c] = {}
    converge[c] = {}
    converge2[c] = {}
    nalt[c] = {}
    nego[c] = {}
    for ell in range(366):
        curve = pc.get_fal(calls[c], ell, ell + 50, 15, countalters=True)
        if (curve is not None) and (len(curve['f']) > 2):
            points = pc.get_b_slopes(curve['f'], FlagConverge=True)
            points2 = pc.get_b_mk(curve['f'], FlagConverge=True)
            b[c][ell] = points[1][1]
            b2[c][ell] = points2[1][1]
            converge[c][ell] = points[2]
            converge2[c][ell] = points2[2]
            nalt[c][ell] = curve['nalters']
            nego[c][ell] = curve['egocount']
    b[c] = pd.DataFrame.from_dict(b[c], orient='index').sort_index().rename({0: 'slopes'}, axis='columns')
    tmpb2 = pd.DataFrame.from_dict(b2[c], orient='index').sort_index().rename({0: 'mk'}, axis='columns')
    tmp = pd.DataFrame.from_dict(converge[c], orient="index").sort_index().rename({0: 'convs'}, axis='columns')
    tmpc2 = pd.DataFrame.from_dict(converge2[c], orient="index").sort_index().rename({0: 'convm'}, axis='columns')
    tmp2 = pd.DataFrame.from_dict(nalt[c], orient="index").sort_index().rename({0: 'nalt'}, axis='columns')
    tmp3 = pd.DataFrame.from_dict(nego[c], orient="index").sort_index().rename({0: 'nego'}, axis='columns')
    b[c] = b[c].merge(tmpb2, left_index=True, right_index=True, how='outer')
    b[c] = b[c].merge(tmp, left_index=True, right_index=True, how='outer')
    b[c] = b[c].merge(tmpc2, left_index=True, right_index=True, how='outer')
    b[c] = b[c].merge(tmp2, left_index=True, right_index=True, how='outer')
    b[c] = b[c].merge(tmp3, left_index=True, right_index=True, how='outer')
    b[c]['mas'] = b[c]['slopes'].rolling(window=50).mean()
    b[c]['mam'] = b[c]['mk'].rolling(window=50).mean()
print(f'Took {dt.datetime.now() - t0}')


for c in b.keys():
    print(c, b[c]['convs'].mean())


plt.figure(figsize=(20*1, 10*2))
plt.subplot(211)
plt.semilogy()
plt.xlabel(r"Alter lifetime")
plt.ylabel(r"$b(\ell)$ using stable average")
for c in ['uk2', 'itb', 'it', 'mit']:
    df = b[c].loc[b[c]['convs'] == True]
    if c != 'all':
        plt.plot(df.index, df['slopes'], label=c)
    else:
        plt.plot(df.index, df['slopes'], ls = "dashed", c="black", lw=4, label=c)
plt.legend()

plt.subplot(212)
plt.semilogy()
plt.xlabel(r"Alter lifetime")
plt.ylabel(r"$b(\ell)$ using Mann Kendall")
for c in ['uk2', 'itb', 'it', 'mit']:
    df = b[c].loc[b[c]['convs'] == True]
    if c != 'all':
        plt.plot(df.index, df['mk'], label=c)
    else:
        plt.plot(df.index, df['mk'], ls = "dashed", c="black", lw=4, label=c)
plt.legend()


binsize = 50
bbins = {}
for c in b.keys():
    df = b[c].loc[b[c]['convs'] == True]
    df2 = df[['slopes', 'mk']].copy()
    df2['lambda'] = df.index.map(lambda x: x // binsize)
    bbins[c] = df2.groupby('lambda').mean()
    bbins[c]['x'] = bbins[c].index.map(lambda x: (x * binsize) + (binsize // 2))


plt.figure(figsize=(20*1, 10*2))
plt.subplot(211)
plt.semilogy()
# plt.xlim(30, 370)
plt.xlabel(r"Alter lifetime")
plt.ylabel(r"$b(\ell)$ using stable average")
m = -1
for c in ['uk2', 'itb', 'it', 'mit']:
    if c != 'all':
        m += 1
        plt.plot(bbins[c]['x'], bbins[c]['slopes'], marker=markers[m], markersize=15, ls="solid", lw=3, 
                 c=colors[m], label=c)
    else:
        plt.plot(bbins[c]['x'], bbins[c]['slopes'], ls = "dashed", c="black", lw=4, label=c)
plt.legend()

plt.subplot(212)
plt.semilogy()
# plt.xlim(30, 370)
plt.xlabel(r"Alter lifetime")
plt.ylabel(r"$b(\ell)$ using Mann Kendall")
m = -1
for c in ['uk2', 'itb', 'it', 'mit']:
    if c != 'all':
        m += 1
        plt.plot(bbins[c]['x'], bbins[c]['mk'], marker=markers[m], markersize=15, ls="solid", lw=3, 
                 color=colors[m], label=c)
    else:
        plt.plot(bbins[c]['x'], bbins[c]['mk'], ls = "dashed", c="black", lw=4, label=c)
plt.legend()


tmp = pd.DataFrame()
for c in bbins.keys():
    df = bbins[c].loc[bbins[c]['x'] > 60]
    # df = bbins[c].copy(deep=True)
    df.columns = [f's{c}', f'm{c}', f'x{c}']
    tmp = tmp.merge(df, left_index=True, right_index=True, how='outer')
    
# tmp = tmp.fillna('nan')
# tmp.to_csv("../commpatterns/PNAS_paper/SI/figs/S4.dat", index=False, header=True, sep="\t")


tmp





def histogram(array, bins, log=True):
    xl = sorted(list(array))
    xo = xl[0]
    xf = xl[-1]
    if log:
        lmu = np.log10(xf / xo) / bins
        mu = 10**lmu
    dx = (xf - xo) / bins
    h = {}
    if log:
        for x in xl:
            if x == xf:
                h[bins - 1] = h.get(bins - 1, 0) + 1
            else:
                i = np.log10(x / xo) // lmu
                h[i] = h.get(i, 0) + 1
    else:
        for x in xl:
            if x == xf:
                h[bins - 1] = h.get(bins - 1, 0) + 1
            else:
                i = int((x - xo) // dx)
                h[i] = h.get(i, 0) + 1
    df = pd.DataFrame.from_dict(h, orient='index', columns=['h'])
    df['pmf'] = df['h'].div(sum(df['h']))
    for i in df.index:
        if log:
            df.at[i, 'label'] = xo*(mu**i)
        else:
            df.at[i, 'label'] = xo + (dx * (i))
    return df


tmp = pd.DataFrame()
for c in bhist.keys():
    print(f'====================={c}========================')
    for lamb in range(3):
        H = histogram(bhist[c][lamb], 10, log=False)
        # print(c, len(H))
        # H['tmp'] = H['h'] * H['label']
        # avg = sum(H['tmp']) / sum(H['h'])
        avg = np.mean(bhist[c][lamb])
        print(f"\\addplot[dashed, {['charmander', 'squirtle', 'ekans'][lamb]}, line width = 4] coordinates {{({avg}, 0.001) ({avg}, 1)}};")
        H = H[['pmf', 'label']]
        H.columns = [f'{c}y{lamb}', f'{c}x{lamb}']
        tmp = tmp.merge(H, left_index=True, right_index=True, how='outer')


# tmp = tmp.fillna('nan')
# tmp.to_csv("../commpatterns/PNAS_paper/SI/figs/S5.dat", index=False, header=True, sep="\t")


tmp





bhist2 = {}
for c in fig1.keys():
    bhist2[c] = {}
    for lamb in fig1[c].keys():
        bhist2[c][lamb] = []
        for ego in fig1[c][lamb]['fi'].keys():
            curve2 = fig1[c][lamb]['fi'][ego]
            if len(curve2) > 1:
                b = pc.get_b_mk(curve2)
                if (b is not None) and (not pd.isna(b[1][1])):
                    bhist2[c][lamb].append(b[1][1])


tmp = pd.DataFrame()
for c in bhist2.keys():
    print(f'====================={c}========================')
    for lamb in range(3):
        H = histogram(bhist2[c][lamb], 10, log=False)
        # print(c, len(H))
        # H['tmp'] = H['h'] * H['label']
        # avg = sum(H['tmp']) / sum(H['h'])
        avg = np.mean(bhist2[c][lamb])
        print(f"\\addplot[dashed, {['charmander', 'squirtle', 'ekans'][lamb]}, line width = 4] coordinates {{({avg}, 0.001) ({avg}, 1)}};")
        H = H[['pmf', 'label']]
        H.columns = [f'{c}y{lamb}', f'{c}x{lamb}']
        tmp = tmp.merge(H, left_index=True, right_index=True, how='outer')
tmp = tmp.fillna('nan')
# tmp.to_csv("../commpatterns/PNAS_paper/SI/figs/S5b.dat", index=False, header=True, sep="\t")





ksp = {}
for c in ['uk2', 'itb', 'it', 'mit']:
    ksp[c] = {}
    series = fig1[c][1]['fi']
    for ego in series.keys():
        df = series[ego]
        idx = sorted(list(df.index))[1:-1]
        if len(idx) > 0:
            mid = len(idx) // 2
            lims = ((idx[0], idx[mid]), (idx[mid], idx[-1]))
            left = df.loc[(df.index >= lims[0][0]) & (df.index <= lims[0][1])]
            right = df.loc[(df.index >= lims[1][0]) & (df.index <= lims[1][1])]
            if (len(left) >= 1) and (len(right) >= 1):
                ksp[c]['m'] = ksp[c].get('m', [])
                ksp[c]['m'].append(stats.ks_2samp(left['f'], right['f'])[1])
    series = fig1[c][2]['fi']
    for ego in series.keys():
        df = series[ego]
        idx = sorted(list(df.index))[1:-1]
        if len(idx) > 0:
            mid = len(idx) // 2
            lims = ((idx[0], idx[mid]), (idx[mid], idx[-1]))
            left = df.loc[(df.index >= lims[0][0]) & (df.index <= lims[0][1])]
            right = df.loc[(df.index >= lims[1][0]) & (df.index <= lims[1][1])]
            if (len(left) >= 1) and (len(right) >= 1):
                ksp[c]['l'] = ksp[c].get('l', [])
                ksp[c]['l'].append(stats.ks_2samp(left['f'], right['f'])[1])


tmp = pd.DataFrame(index=range(10))
plt.figure(figsize=(20*2, 10*2))
p = 1
for c in ksp.keys():
    print(f'============\t{c.upper()}\t=================')
    plt.subplot(2,2, p)
    plt.semilogy()
    plt.xlim(0, 1)
    plt.ylim(10**(-2), 1)
    plt.xlabel(fr"$p$ values. Cohort {c}")
    plt.ylabel(r'$H(p)$')
    m = 0
    for s in ['m', 'l']:
        H = pc.histogram(ksp[c][s], 10, log=False)
        
        # print(np.mean(ksp[c][s]))
        # H['tmp'] = H['label'] * H['h']
        # print(c, len(H))
        # avg = sum(H['tmp']) / sum(H['h'])
        avg = np.mean(ksp[c][s])
        tmp[f'{c}x{s}'] = H['label']
        tmp[f'{c}y{s}'] = H['pmf']
        print(f'\\addplot[{dict({"m": "squirtle", "l": "ekans"})[s]}, dashed, line width = 4] coordinates{{({avg}, 0.001) ({avg}, 1)}};')
        plt.plot(H['label'], H['pmf'], marker=markers[0], markersize=13, ls="dashed", lw=3, c=colors[m], label=f"{s} Lifetime ({sum(H['pmf'])})")
        plt.axvline(avg, ls="solid", lw=4, c=colors[m])
        m += 1
    plt.legend()
    p += 1


len(ksp['uk2']['l'])


H = pc.histogram(ksp['uk2']['l'], 10, log=False)
H['pdf'] = H['pmf'] / H['label'].diff()[1]
H


plt.semilogy()
# plt.ylim(10**(-2), 1)
plt.plot(H['label'], H['pdf'], "o-")


ar = 0



sum(H['pdf'] * H['label'].diff()[1])


plt.semilogy()
plt.xlabel("p")
# plt.ylim(10**(-2), 1)
plt.plot(H['label'], H['pdf'], "o-")
# plt.savefig("/Users/vsvh/Desktop/S12extract.pdf")


# ar = 0
# ar += ((H['label'][1] - H['label'][0]) * H['pdf'][1]) / 2
# ar += ((H['label'][2] - H['label'][1]) * H['pdf'][2]) / 2
# ar += ((H['label'][3] - H['label'][2]) * H['pdf'][3])
# ar += ((H['label'][4] - H['label'][3]) * H['pdf'][3])
# ar += ((H['label'][5] - H['label'][4]) * H['pdf'][5]) / 2
# ar += ((H['label'][6] - H['label'][5]) * H['pdf'][5]) / 2
# ar += ((H['label'][7] - H['label'][6]) * H['pdf'][6])
# ar += ((H['label'][8] - H['label'][7]) * H['pdf'][7])
# ar += ((H['label'][9] - H['label'][8]) * H['pdf'][9]) / 2
# ar


H


# tmp = tmp.fillna('nan')
# tmp.to_csv("../commpatterns/PNAS_paper/SI/figs/S6.dat", index=False, header=True, sep="\t")





def get_ells(bdf, col, lookforward=15):
    df = bdf[[col]].rolling(lookforward).mean()
    df2 = df.loc[df[col] == 1]
    if len(df2) > 0:
        return min(df2.index)
    else:
        return None


egolist = {}
for c in ['uk2', 'itb', 'it', 'mit']:
    egolist[c] = [ego for ego in calls[c]['ego'].unique()]


t0 = dt.datetime.now()
bi = {}
bi2 = {}
convergei = {}
convergei2 = {}
niter = {}
for c in ['uk2', 'itb', 'it', 'mit']:
    bi[c] = {}
    bi2[c] = {}
    convergei[c] = {}
    convergei2[c] = {}
    niter[c] = {}
    dff = pc.get_f(calls[c], 'all', 15, 10)
    for ego in dff.keys():
        bi[c][ego] = {}
        bi2[c][ego] = {}
        convergei[c][ego] = {}
        convergei2[c][ego] = {}
        niter[c][ego] = {}
        dffl = {ego: dff[ego]}
        for ell in range(301):
            curve = pc.get_avgfa(dffl, lives[c], ell, ell + 50)
            if (curve is not None) and (len(curve) > 3):
                points = pc.get_b_slopes(curve, FlagConverge=True)
                points2 = pc.get_b_mk(curve, FlagConverge=True)
                bi[c][ego][ell] = points[1][1]
                bi2[c][ego][ell] = points2[1][1]
                convergei[c][ego][ell] = points[2]
                convergei2[c][ego][ell] = points2[2]
                niter[c][ego][ell] =  points2[3]
        if len(bi[c][ego].keys()) > 0:
            bi[c][ego] = pd.DataFrame.from_dict(bi[c][ego], orient='index').sort_index().rename({0: 'slopes'}, axis='columns')
            tmp = pd.DataFrame.from_dict(convergei[c][ego], orient="index").sort_index().rename({0: 'convs'}, axis='columns')
            if ego in bi2[c].keys():
                tmpb2 = pd.DataFrame.from_dict(bi2[c][ego], orient='index').sort_index().rename({0: 'mk'}, axis='columns')
                tmpc2 = pd.DataFrame.from_dict(convergei2[c][ego], orient="index").sort_index().rename({0: 'convm'}, axis='columns')
            bi[c][ego] = bi[c][ego].merge(tmp, left_index=True, right_index=True, how='outer')
            if ego in bi2[c].keys():
                bi[c][ego] = bi[c][ego].merge(tmpb2, left_index=True, right_index=True, how='outer')
                bi[c][ego] = bi[c][ego].merge(tmpc2, left_index=True, right_index=True, how='outer')
                bi[c][ego]['mam'] = bi[c][ego]['mk'].rolling(window=50).mean()
            bi[c][ego]['mas'] = bi[c][ego]['slopes'].rolling(window=50).mean()
            
print(f'Took {dt.datetime.now() - t0}')


for ego in bi['mit'].keys():
    if type(bi['mit'][ego]) == pd.core.frame.DataFrame:
        print(np.mean(bi['mit'][ego]['convs']))


bif = {}
bif['all'] = {}
for c in bi.keys():
    bif[c] = {}
    for ego in bi[c].keys():
        if type(bi[c][ego]) == pd.core.frame.DataFrame:
            bif[c][ego] = bi[c][ego]
            if c != 'itb':
                bif['all'].update(bif[c])


for c in ['uk2', 'itb', 'it', 'mit']:
    for ego in bif[c].keys():
        if ego not in bif['all'].keys():
            print('problem with', c, ego)
    else:
        print('success!', c)


ellsHs = {}
for c in bif.keys():
    ellsHs[c] = pc.histogram([get_ells(bif[c][ego], 'convs', lookforward=10) for ego in bif[c].keys() if get_ells(bif[c][ego], 'convs') is not None], 10, log=False)


plt.semilogy()
plt.xlabel(r'$\ell_s$')
plt.ylabel(r'$H(\ell_s)$')
m = 0
for c in ellsHs.keys():
    plt.plot(ellsHs[c]['label'], ellsHs[c]['pmf'], marker=markers[m], ls="solid", markersize=15, lw=3, label=f'{c}')
    m += 1
plt.legend()


ellsHm = {}
for c in bif.keys():
    listells = [get_ells(bif[c][ego], 'convm') for ego in bif[c].keys() if get_ells(bif[c][ego], 'convm') is not None]
    if len(listells) > 0:
        ellsHm[c] = pc.histogram(listells, 10, log=False)


tmp = pd.DataFrame()
for c in ellsHs.keys():
    print(f'================{c}=====================')
    H = ellsHs[c].copy(deep=True)
    H['tmp'] = H['label'] * H['h']
    avg = sum(H['tmp']) / sum(H['h'])
    print(avg)
    H = H[['label', 'pmf']]
    H = H.rename({'label': f'x{c}', 'pmf': f'y{c}'}, axis='columns')
    tmp = tmp.merge(H, left_index=True, right_index=True, how='outer')
# tmp = tmp.fillna('nan')
# tmp.to_csv("../commpatterns/PNAS_paper/SI/figs/S9.dat", index=False, header=True, sep="\t")


tmp





ellsHs['all']['logp'] = np.log(ellsHs['all']['pmf'])
ellsHs['all']


Y = np.array(ellsHs['all']['logp'])
X = np.array(ellsHs['all']['label'])
X = sm.add_constant(X)


model = sm.OLS(Y, X)
result = model.fit()
result.summary()


result.params


np.exp(result.params[0])


-1 / result.params[1]


ells = {}
for c in bif.keys():
    thelist = [get_ells(bif[c][ego], 'convs') for ego in bif[c].keys() if get_ells(bif[c][ego], 'convs') is not None]
    ells[c] = np.mean(thelist)
    print(c, np.mean(thelist), min(thelist))





plt.figure(figsize=(20*2, 10*2))
p = 1
for c in ['uk2', 'itb', 'it', 'mit']:
    plt.subplot(2,2,p)
    plt.xlabel(fr"$\ell$ Cohort {c}")
    plt.ylabel(r"$P$")
    for i in range(4):
        plt.plot(fig3b[c][i].index, fig3b[c][i]['p'], marker=markers[i], markersize=13, ls="dashed", lw=3, label=fr'${3**i} \leq g < {3**(i + 1)}$')
    plt.legend()
    p += 1


tmp = pd.DataFrame()
for c in ['uk2', 'itb', 'it', 'mit']:
    for i in range(4):
        tmp[f'{c}{i}'] = fig3b[c][i]
        
tmp.index = tmp.index * 10
tmp.index.rename('a', inplace=True)
# tmp = tmp.fillna('nan')
# tmp.to_csv("../commpatterns/PNAS_paper/SI/figs/S7.dat", index=True, header=True, sep="\t")


tmp





# plt.figure(figsize=(20*2, 10*2))
# p = 1
# for c in ['uk', 'uk2', 'it', 'mit']:
#     plt.subplot(2,2,p)
#     plt.xlabel(fr"$\ell$ Cohort {c}")
#     plt.ylabel(r"$P$")
#     for i in range(1,6):
#         plt.plot(fig3b[c][i].index, fig3b[c][i]['p'], marker=markers[i], markersize=13, ls="dashed", lw=3, label=fr'${2**i} \leq g < {2**(i + 1)}$')
#     plt.legend()
#     p += 1





elements = [(0, 15), (30, 45), (60, 75), (0, 30), (30, 60), (60, 90), (0, 45), (30, 75), (60, 105), (0, 60), (30, 90), (60, 120)]


t0 = dt.datetime.now()
Ssva = {}
for p in range(len(elements)):
    Ssva[p + 1] = pc.get_survival2(calls['all'], elements[p][0], elements[p][1], maxell=220, base=3)
print(f'Took {dt.datetime.now() - t0}')


plt.figure(figsize=(12*3, 8*4))
for p in Ssva.keys():
    plt.subplot(4,3,p)
    plt.xlabel(fr'$a_o = {elements[p-1][0]}; \quad a_f = {elements[p-1][1]}$')
    plt.ylabel(r'P')
    for i in range(4):
        plt.plot(Ssva[p][i].index, Ssva[p][i]['p'], marker=markers[i], ls="dashed", lw=4, markersize=12, label=fr'${3**i} \leq g < {3**(i + 1)}$')
    plt.legend()


tmp = pd.DataFrame()
for p in Ssva.keys():
    for i in range(4):
        df = Ssva[p][i].copy(deep=True)
        df.columns=[f'p{p}s{i}']
        tmp = tmp.merge(df, left_index=True, right_index=True, how='outer')
tmp.index = tmp.index * 10
tmp.index.rename('a', inplace=True)
# tmp = tmp.fillna('nan')
# tmp.to_csv("../commpatterns/PNAS_paper/SI/figs/S8.dat", index=True, header=True, sep='\t')


tmp





# dffsurv.keys()


gcount = {}
for c in ['uk2', 'itb', 'it', 'mit']:
    gcount[c] = {}
    df = calls[c].copy(deep=True)
    df['ea'] = list(zip(df['ego'], df['alter']))
    tot = df.groupby('ea')[['time']].count().rename({'time': 'tot'}, axis='columns')
    gcount[c]['all'] = list(tot['tot'])
    df1 = df.loc[(df['aclock'] >= 30) & (df['aclock'] <= 60)]
    samp = df1.groupby('ea')[['time']].count().rename({'time': 'samp'}, axis='columns')
    gcount[c]['sample'] = list(samp['samp'])


gcount.keys()


ghist = {}
for c in gcount.keys():
    ghist[c] = {}
    for s in gcount[c].keys():
        ghist[c][s] = {}
        glist = gcount[c][s]
        for n in glist:
            gamma = int(math.log(n, 3))
            ghist[c][s][gamma] = ghist[c][s].get(gamma, 0) + 1
        ghist[c][s] = pd.DataFrame.from_dict(ghist[c][s], orient='index').sort_index()
        ghist[c][s]['pmf'] = ghist[c][s][0].div(sum(ghist[c][s][0]))
        ghist[c][s]['label'] = 3**ghist[c][s].index


ghist['uk2']['sample']


tmp = pd.DataFrame()
plt.figure(figsize=(20*2, 10*1))
p = 1
for s in ['all', 'sample']:
    plt.subplot(1,2,p)
    plt.xscale("log", base=2)
    plt.yscale("log")
    plt.xlabel(fr'$g$ for {s}')
    for c in ghist.keys():
        df = ghist[c][s]
        df2 = df[['pmf', 'label']]
        df2.columns = [f'p{dict({"all": "a", "sample": "s"})[s]}{c}', f'x{dict({"all": "a", "sample": "s"})[s]}{c}']
        tmp = tmp.merge(df2, left_index=True, right_index=True, how='outer')
        plt.plot(df['label'], df['pmf'], label=c)
    plt.legend()
    p += 1
# tmp = tmp.fillna('nan')
# tmp.to_csv("../commpatterns/PNAS_paper/SI/figs/S10.dat", index=False, header=True, sep="\t")


for c in gcount.keys():
    print(c, max(gcount[c]['all']), max(gcount[c]['sample']))


3**6





cols = {1: 'm', 2: 'l'}
tmp = pd.DataFrame(index=range(111))
lists = []
for c in bhist2.keys():
    for ell in [1, 2]:
        thelist = bhist2[c][ell]
        for i in range(len(thelist)):
            tmp.at[i, f'{c}{cols[ell]}'] = thelist[i]
# tmp = tmp.fillna('nan')
# tmp.to_csv("../commpatterns/PNAS_paper/figs/fig2downb.dat", index=False, header=True, sep="\t")


cols = ['uk2m', 'itbm', 'itm', 'mitm', 'uk2l', 'itbl', 'itl', 'mitl']
pos = [0,3,6,9,1,4,7,10]
tmp2 = pd.DataFrame({'c': cols, 'pos': pos})
idx = list(tmp2.index)
for i in idx:
    mean = np.mean(tmp[cols[i]].dropna())
    sd = np.std(tmp[cols[i]].dropna())
    tmp2.at[i, 'mean'] = mean
    tmp2.at[i, 'sd'] = sd
tmp2.index.name = 'idx'
a = tmp2.loc[tmp2.index < 4]
b = tmp2.loc[tmp2.index >= 4]
# a.to_csv("../commpatterns/PNAS_paper/SI/figs/fig2bmdownb.dat", index=True, header=True, sep="\t")
# b.to_csv("../commpatterns/PNAS_paper/SI/figs/fig2bldownb.dat", index=True, header=True, sep="\t")





callsUI = pd.DataFrame()
for c in ['uk2', 'it']:
    callsUI = callsUI.append(calls[c])
    
surv_cont = pc.get_survival2(callsUI, 30, 60, maxell=220, base=3)


len(callsUI) == len(calls['uk2']) + len(calls['it'])


tmp = pd.DataFrame()
for s in range(4):
    df = surv_cont[s].reset_index()
    df.columns = ['lc', 'p']
    df['lc'] *= 10
    df['f'] = 3**s
    ttmmpp = pd.DataFrame({'x': df['f'], 'y': df['lc'], 'z': df['p']})
    tmp = tmp.append(ttmmpp).reset_index(drop=True)
# tmp.to_csv(f"../commpatterns/PNAS_paper/SI/fig4ac.dat", header=False, index=False, sep="\t")


points_mit = pc.get_survival2(calls['mit'], 30, 60, maxell=220, binned=False)

tmp = pd.DataFrame()
for s in points_mit.keys():
    if s <= 3**4 + 1:
        df = points_mit[s].reset_index()
        df.columns = ['lc', 'p']
        df['lc'] *= 10
        df['f'] = s
        ttmmpp = pd.DataFrame({'x': df['f'], 'y': df['lc'], 'z': df['p']})
        tmp = tmp.append(ttmmpp).reset_index(drop=True)
sub = [(i/4, (i + 1)/4) for i in range(4)]
# p = 0
# for s in sub:
#     df = tmp.loc[(tmp['z'] > s[0]) & (tmp['z'] <= s[1])]
#     df = df.drop(columns='z')
#     df.to_csv(f'../commpatterns/PNAS_paper/SI/fig4ap{p}.dat', header=False, index=False, sep="\t")
#     print(s)
#     p += 1


callsMI = pd.DataFrame()
for c in ['mit', 'it']:
    callsMI = callsMI.append(calls[c])
    
surv_cont = pc.get_survival2(callsMI, 30, 60, maxell=220, base=3)


tmp = pd.DataFrame()
for s in range(4):
    df = surv_cont[s].reset_index()
    df.columns = ['lc', 'p']
    df['lc'] *= 10
    df['f'] = 3**s
    ttmmpp = pd.DataFrame({'x': df['f'], 'y': df['lc'], 'z': df['p']})
    tmp = tmp.append(ttmmpp).reset_index(drop=True)
# tmp.to_csv(f"../commpatterns/PNAS_paper/SI/fig4bc.dat", header=False, index=False, sep="\t")


points_uk = pc.get_survival2(calls['uk'], 30, 60, maxell=220, binned=False)

tmp = pd.DataFrame()
for s in points_uk.keys():
    if s <= 3**4 + 1:
        df = points_uk[s].reset_index()
        df.columns = ['lc', 'p']
        df['lc'] *= 10
        df['f'] = s
        ttmmpp = pd.DataFrame({'x': df['f'], 'y': df['lc'], 'z': df['p']})
        tmp = tmp.append(ttmmpp).reset_index(drop=True)
sub = [(i/4, (i + 1)/4) for i in range(4)]
# p = 0
# for s in sub:
#     df = tmp.loc[(tmp['z'] > s[0]) & (tmp['z'] <= s[1])]
#     df = df.drop(columns='z')
#     df.to_csv(f'../commpatterns/PNAS_paper/SI/fig4bp{p}.dat', header=False, index=False, sep="\t")
#     print(s)
#     p += 1





plt.xlabel("Days from last communication until end of data")
plt.ylabel("proportion of alters")
last = {}
last['all'] = []
first = {}
first['all'] = []
for c in ['uk2', 'itb', 'it', 'mit']:
    last[c] = []
    first[c] = []
    df = calls[c].copy(deep=True)
    if c == 'itb':
        T = max(unfiltered['it']['uclock'])
    else:
        T = max(unfiltered[c]['uclock'])
    df['ea'] = list(zip(df['ego'], df['alter']))
    l = df.groupby('ea')[['uclock']].max()
    l['days'] = l['uclock'].map(lambda i: T - 60 - i)
    if c != 'itb':
        last['all'] += list(l['days'])
    last[c] = list(l['days'])
    f = df.groupby('ea')[['uclock']].min()
    if c != 'itb':
        first['all'] += list(f['uclock'])
    first[c] = list(f['uclock'])
    H = pc.histogram(l['uclock'], 10, log=False)
    y = H['pmf'].cumsum()
    plt.plot(H['label'], y, label=c)
plt.legend()
# plt.savefig("/home/vsvh/Desktop/A.pdf", dpi=150)


print(f'Cohort \t Mean \t\t Median \t SD')
for c in first.keys():
    for d in [first, last]:
        print(f'{c}\t {np.mean(d[c]):.4f} \t {np.median(d[c]):.4f} \t {np.std(d[c]):.4f}')


last['mit']


plt.xlabel(r"$t_0$ for each alter")
plt.ylabel("proportion of alters")
for c in ['uk2', 'itb', 'it', 'mit']:
    df = calls[c].copy(deep=True)
    df['ea'] = list(zip(df['ego'], df['alter']))
    last = df.groupby('ea')[['uclock']].max()
    last 
    first = df.groupby('ea')[['uclock']].min()
    H = pc.histogram(last['uclock'], 10, log=False)
    plt.plot(H['label'], H['pmf'], label=c)
plt.legend()
# plt.savefig("/home/vsvh/Desktop/B.pdf", dpi=150)


vis3 = {}
for c in ['uk2', 'it', 'mit']:
    vis3[c] = []
    df = calls[c].copy(deep=True)
    df['ea'] = list(zip(df['ego'], df['alter']))
    to = df.groupby('ea')[['uclock']].min()
    lf = df.groupby('ea')[['aclock']].max()
    df2 = to.merge(lf, left_index=True, right_index=True, how='left').rename({'uclock': 'to', 'aclock': 'lf'}, axis='columns')
    for i in df2.index:
        tup = (df2.at[i, 'lf'], df2.at[i, 'to'])
        vis3[c].append(tup)
    vis3[c].sort()


vis3['uk2'].index(vis3['uk2'][0])


for i in range(1, 7):
    print(i, (i - 1) % 2)


plt.figure(figsize=(20*2, 10*3))
p = 1
for c in ['uk2', 'uk2', 'it', 'it', 'mit', 'mit']:
    plt.subplot(3,2,p)
    if (p - 1) % 2 == 0:
        plt.xlabel(f"Index of the tuple in cohort {c}")
        plt.ylabel(r"$t_o + \ell$")
        for i in range(len(vis3[c])):
            x = [i, i]
            y = [vis3[c][i][0], vis3[c][i][0] + vis3[c][i][1]]
            if i == 0:
                plt.plot(x, y, color=colors[{'uk2': 0, 'it': 1, 'mit': 2}[c]], label=c)
            else:
                plt.plot(x, y, color=colors[{'uk2': 0, 'it': 1, 'mit': 2}[c]])
    else:
        plt.xlabel(fr"$t_o$ for cohort {c}")
        plt.ylabel(r"$t_o + \ell$")
        for i in range(len(vis3[c])):
            x = [vis3[c][i][0], vis3[c][i][0]]
            y = [vis3[c][i][0], vis3[c][i][0] + vis3[c][i][1]]
            if i == 0:
                plt.plot(x, y, color=colors[{'uk2': 0, 'it': 1, 'mit': 2}[c]], label=c)
            else:
                plt.plot(x, y, color=colors[{'uk2': 0, 'it': 1, 'mit': 2}[c]])
    p += 1
# plt.savefig("/home/vsvh/Desktop/C.pdf", dpi=300)


vis4 = {}
for c in ['uk2', 'it', 'mit']:
    vis4[c] = []
    df = calls[c].copy(deep=True)
    df['ea'] = list(zip(df['ego'], df['alter']))
    to = df.groupby('ea')[['uclock']].min()
    lf = df.groupby('ea')[['aclock']].max()
    df2 = to.merge(lf, left_index=True, right_index=True, how='left').rename({'uclock': 'to', 'aclock': 'lf'}, axis='columns')
    for i in df2.index:
        tup = (df2.at[i, 'to'], df2.at[i, 'lf'])
        vis4[c].append(tup)
    vis4[c].sort()


plt.figure(figsize=(20*1, 10*3))
p = 1
for c in vis4.keys():
    plt.subplot(3,1,p)
    plt.xlabel(f"Index of the tuple in cohort {c}")
    plt.ylabel(r"$t_o + \ell$")
    plt.xlim(480, 1200)
    for i in range(len(vis4[c])):
        x = [i, i]
        y = [vis4[c][i][0], vis4[c][i][0] + vis4[c][i][1]]
        if i == 0:
            plt.plot(x, y, color=colors[{'uk2': 0, 'it': 1, 'mit': 2}[c]], label=c)
        else:
            plt.plot(x, y, color=colors[{'uk2': 0, 'it': 1, 'mit': 2}[c]])
    plt.axhline(50)
    plt.axhline(200)
    p += 1
# plt.savefig("/home/vsvh/Desktop/D.pdf", dpi=300)


plt.figure(figsize=(20*1, 10*3))
p = 1
for c in vis4.keys():
    plt.subplot(3,1,p)
    plt.xlabel(fr"$t_o + \text{{index within }} t_o$ in cohort {c}")
    plt.ylabel(r"$t_o + \ell$")
    allto = []
    idx = 0
    for i in range(len(vis4[c])):
        if vis4[c][i][0] not in allto:
            allto.append(vis4[c][i][0])
            idx = 0
        x = [vis4[c][i][0] + idx, vis4[c][i][0] + idx]
        y = [vis4[c][i][0], vis4[c][i][0] + vis4[c][i][1]]
        if i == 0:
            plt.plot(x, y, color=colors[{'uk2': 0, 'it': 1, 'mit': 2}[c]], label=c)
        else:
            plt.plot(x, y, color=colors[{'uk2': 0, 'it': 1, 'mit': 2}[c]])
        idx += 1
    p += 1
# plt.savefig("/home/vsvh/Desktop/E.pdf", dpi=300)


def sort_check(l):
    x=l[0]
    dim=len(x)
    status=[]
    for s in range(dim):
        status.append(x[s])
    for elem in l:
        test=True
        for s in range(-1,-dim-1,-1):
            if elem[s]<status[s] and test:
                test=False
            if elem[s]>status[s] and (not test):
                test=True
        if (not test):
            print("Fail")
            return -1
        status=elem
        return 0


for s in range(-1, -2-1, -1):
    print(s)


for c in ['uk2', 'it', 'mit']:
    Y = [(vis4[c][i][0], vis4[c][i][0] + vis4[c][i][1]) for i in range(len(vis4[c]))]
    print(c, sort_check(Y))


vis5 = {}
for c in ['uk2', 'it', 'mit']:
    # vis5[c] = []
    df = calls[c].copy(deep=True)
    df['ea'] = list(zip(df['ego'], df['alter']))
    to = df.groupby('ea')[['uclock']].min()
    lf = df.groupby('ea')[['aclock']].max()
    df2 = to.merge(lf, left_index=True, right_index=True, how='left').rename({'uclock': 'to', 'aclock': 'ell'}, axis='columns')
    df2 = df2.sort_values(by=['to', 'ell'])
    df3 = pd.DataFrame()
    for t0 in df2['to'].unique():
        df4 = df2.loc[df2['to'] == t0]
        df4 = df4.sort_values(by='ell')
        df4['tmp'] = 1
        df4['tmp'] = df4['tmp'].cumsum()
        df4['tmp'] -= 1
        df4['toindex'] = df4['to'] + df4['tmp']
        df4['x'] = df4['toindex'].map(lambda i: (i, i))
        df4['idx'] = df4.index
        df4['y'] = df4['idx'].map(lambda idx: (df4.at[idx, 'to'], df4.at[idx, 'to'] + df4.at[idx, 'ell']))
        df3 = df3.append(df4)
    vis5[c] = df3


plt.figure(figsize=(20*1, 10*3))
p = 1
for c in vis5.keys():
    plt.subplot(3,1,p)
    plt.xlabel(fr"$t_o + \text{{index within }} t_o$ in cohort {c}")
    plt.ylabel(r"$t_o + \ell$")
    for i in vis5[c].index:
        x = vis5[c].at[i, 'x']
        y = vis5[c].at[i, 'y']
        if i == list(vis5[c].index)[0]:
            plt.plot(x, y, color=colors[{'uk2': 0, 'it': 1, 'mit': 2}[c]], label=c)
        else:
            plt.plot(x, y, color=colors[{'uk2': 0, 'it': 1, 'mit': 2}[c]])
    p += 1
# plt.savefig("/home/vsvh/Desktop/E.pdf", dpi=300)


vis5['it']


df3 = df3.append(df4)
df3





vis6 = {}
for c in ['uk2', 'it', 'mit']:
    vis6[c] = []
    df = unfiltered[c].copy(deep=True)
    df['ea'] = list(zip(df['ego'], df['alter']))
    to = df.groupby('ea')[['uclock']].min()
    lf = df.groupby('ea')[['aclock']].max()
    df2 = to.merge(lf, left_index=True, right_index=True, how='left').rename({'uclock': 'to', 'aclock': 'lf'}, axis='columns')
    for i in df2.index:
        tup = (df2.at[i, 'to'], df2.at[i, 'lf'])
        vis6[c].append(tup)
    vis6[c].sort()


plt.figure(figsize=(20*1, 10*3))
p = 1
for c in vis6.keys():
    plt.subplot(3,1,p)
    plt.xlabel(fr"$t_o + \text{{index within }} t_o$ in cohort {c}")
    plt.ylabel(r"$t_o + \ell$")
    allto = []
    idx = 0
    for i in range(len(vis6[c])):
        if vis6[c][i][0] not in allto:
            allto.append(vis6[c][i][0])
            idx = 0
        x = [vis6[c][i][0] + idx, vis6[c][i][0] + idx]
        y = [vis6[c][i][0], vis6[c][i][0] + vis6[c][i][1]]
        if i == 0:
            plt.plot(x, y, color=colors[{'uk2': 0, 'it': 1, 'mit': 2}[c]], label=c)
        else:
            plt.plot(x, y, color=colors[{'uk2': 0, 'it': 1, 'mit': 2}[c]])
        idx += 1
    p += 1


vis7 = {}
for c in ['uk2', 'it', 'mit']:
    vis7[c] = []
    df = unfiltered[c].copy(deep=True)
    df['ea'] = list(zip(df['ego'], df['alter']))
    to = df.groupby('ea')[['uclock']].min()
    lf = df.groupby('ea')[['aclock']].max()
    df2 = to.merge(lf, left_index=True, right_index=True, how='left').rename({'uclock': 'to', 'aclock': 'lf'}, axis='columns')
    for i in df2.index:
        tup = (df2.at[i, 'to'], df2.at[i, 'lf'])
        vis7[c].append(tup)
    vis7[c].sort()


plt.figure(figsize=(20*1, 10*3))
p = 1
for c in vis7.keys():
    plt.subplot(3,1,p)
    plt.xlabel(f"Index of the tuple in cohort {c}")
    plt.ylabel(r"$t_o + \ell$")
    for i in range(len(vis7[c])):
        x = [i, i]
        y = [vis7[c][i][0], vis7[c][i][0] + vis7[c][i][1]]
        if i == 0:
            plt.plot(x, y, color=colors[{'uk2': 0, 'it': 1, 'mit': 2}[c]], label=c)
        else:
            plt.plot(x, y, color=colors[{'uk2': 0, 'it': 1, 'mit': 2}[c]])
    p += 1
# plt.savefig("/home/vsvh/Desktop/Dnofilters.pdf", dpi=300)





plt.figure(figsize=(20*1, 10*3))
p = 1
for c in vis7.keys():
    plt.subplot(3,1,p)
    plt.xlabel(f"Index of the tuple in cohort {c}")
    plt.ylabel(r"$t_o + \ell$")
    plt.xlim(0,1000)
    # plt.ylim(0,100)
    for i in range(len(vis7[c])):
        x = [i, i]
        y = [vis7[c][i][0], vis7[c][i][0] + vis7[c][i][1] + 1]
        if i == 0:
            plt.plot(x, y, color=colors[{'uk2': 0, 'it': 1, 'mit': 2}[c]], label=c)
        else:
            plt.plot(x, y, color=colors[{'uk2': 0, 'it': 1, 'mit': 2}[c]])
    p += 1


vis7 = {}
for c in ['uk2', 'it', 'mit']:
    vis7[c] = []
    df = unfiltered[c].copy(deep=True)
    
    df['ea'] = list(zip(df['ego'], df['alter']))
    to = df.groupby('ea')[['uclock']].min()
    lf = df.groupby('ea')[['aclock']].max()
    df2 = to.merge(lf, left_index=True, right_index=True, how='left').rename({'uclock': 'to', 'aclock': 'lf'}, axis='columns')
    for i in df2.index:
        tup = (df2.at[i, 'to'], df2.at[i, 'lf'])
        vis7[c].append(tup)
    vis7[c].sort()





fwL = {}
df = calls['it'].copy(deep=True)
df['ea'] = list(zip(df['ego'], df['alter']))
to = df.groupby('ea')[['uclock']].min().rename({'uclock': 'to'}, axis='columns')
keep = to.loc[(to['to'] >= 60)]
df2 = df[df['ea'].isin(keep.index)]
for i in range(3):
    fwL[i] = pc.get_fal(df2, limits['it'][i][0], limits['it'][i][1], 15)


plt.xlabel(r'$a$')
plt.ylabel(r'$\bar{f}(a, \ell)$')
plt.semilogy()
for i in range(3):
    plt.plot(fwL[i]['f'].index, fwL[i]['f']['f'], label=fr'${limits["it"][i][0]} \leq \ell \leq {limits["it"][i][1]}$')
plt.legend()


plt.xlabel(r'$a$')
plt.ylabel(r'$\bar{f}(a, \ell)$')
plt.semilogy()
for i in range(3):
    plt.plot([x*15 for x in fwL[i]['f'].index], fwL[i]['f']['f'], label=fr'${limits["it"][i][0]} \leq \ell \leq {limits["it"][i][1]}$')
plt.legend()


pc.get_b_slopes(fwL[1]['f'])


fwL2 = {}
df = calls['it'].copy(deep=True)
df['ea'] = list(zip(df['ego'], df['alter']))
to = df.groupby('ea')[['uclock']].min().rename({'uclock': 'to'}, axis='columns')
keep = to.loc[(to['to'] >= 0) & (to['to'] <= 200)]
df2 = df[df['ea'].isin(keep.index)]
for i in range(3):
    fwL2[i] = pc.get_fal(df2, limits['it'][i][0], limits['it'][i][1], 15)


plt.xlabel(r'$a$')
plt.ylabel(r'$\bar{f}(a, \ell)$')
plt.semilogy()
for i in range(3):
    plt.plot([x*15 for x in fwL2[i]['f'].index], fwL2[i]['f']['f'], label=fr'${limits["it"][i][0]} \leq \ell \leq {limits["it"][i][1]}$')
plt.legend()


fwL3 = {}
df = calls['it'].copy(deep=True)
df['ea'] = list(zip(df['ego'], df['alter']))
to = df.groupby('ea')[['uclock']].min().rename({'uclock': 'to'}, axis='columns')
keep = to.loc[(to['to'] >= 20) & (to['to'] <= 200)]
df2 = df[df['ea'].isin(keep.index)]
for i in range(3):
    fwL3[i] = pc.get_fal(df2, limits['it'][i][0], limits['it'][i][1], 15)


plt.xlabel(r'$a$')
plt.ylabel(r'$\bar{f}(a, \ell)$')
plt.semilogy()
for i in range(3):
    plt.plot([x*15 for x in fwL3[i]['f'].index], fwL3[i]['f']['f'], label=fr'${limits["it"][i][0]} \leq \ell \leq {limits["it"][i][1]}$')
plt.legend()


fwL4 = {}
df = calls['it'].copy(deep=True)
df['ea'] = list(zip(df['ego'], df['alter']))
to = df.groupby('ea')[['uclock']].min().rename({'uclock': 'to'}, axis='columns')
keep = to.loc[(to['to'] >= 30) & (to['to'] <= 200)]
df2 = df[df['ea'].isin(keep.index)]
for i in range(3):
    fwL4[i] = pc.get_fal(df2, limits['it'][i][0], limits['it'][i][1], 15)
    
plt.xlabel(r'$a$')
plt.ylabel(r'$\bar{f}(a, \ell)$')
plt.semilogy()
for i in range(3):
    plt.plot([x*15 for x in fwL4[i]['f'].index], fwL4[i]['f']['f'], label=fr'${limits["it"][i][0]} \leq \ell \leq {limits["it"][i][1]}$')
plt.legend()


fwL5 = {}
df = calls['it'].copy(deep=True)
df['ea'] = list(zip(df['ego'], df['alter']))
to = df.groupby('ea')[['uclock']].min().rename({'uclock': 'to'}, axis='columns')
keep = to.loc[(to['to'] >= 21) & (to['to'] <= 200)]
df2 = df[df['ea'].isin(keep.index)]
for i in range(3):
    fwL5[i] = pc.get_fal(df2, limits['it'][i][0], limits['it'][i][1], 15)
    
plt.xlabel(r'$a$')
plt.ylabel(r'$\bar{f}(a, \ell)$')
plt.semilogy()
for i in range(3):
    plt.plot([x*15 for x in fwL5[i]['f'].index], fwL5[i]['f']['f'], label=fr'${limits["it"][i][0]} \leq \ell \leq {limits["it"][i][1]}$')
plt.legend()


min(unfiltered['it2']['time']) - min(unfiltered['it1']['time'])


egos = unfiltered['it'].groupby('ego')[['uclock']].min()


e1 = egos.loc[egos['uclock'] <= 50]
len(e1) / len(egos)


e2 = egos.loc[(egos['uclock'] > 200) & (egos['uclock'] <= 300)]
len(e2) / len(egos)





# No Filter
df = unfiltered['it'].copy(deep=True)
df['ea'] = list(zip(df['ego'], df['alter']))
print(len(df['ea'].unique()))
# L
lf = df.groupby('ea')[['aclock']].max()
keep = lf.loc[lf['aclock'] <= 365]
df = df[df['ea'].isin(keep.index)]
print(len(df['ea'].unique()))
# Delta t to the left (by ego)
t0i = df.groupby('ego')['uclock'].min()
t0x = df.groupby('ea')[['uclock']].min()
t0x['dif'] = t0x.index.map(lambda i: t0x.at[i, 'uclock'] - t0i[i[0]])
keep = t0x.loc[t0x['dif'] > 33]
df = df[df['ea'].isin(keep.index)]
print(len(df['ea'].unique()))
# # Delta t to the right (by ego)
# T0i = df.groupby('ego')['uclock'].max()
# T = max(df['uclock'])
# keep = []
# for ea in df['ea'].unique():
#     tmp = df.loc[df['ea'] == ea]
#     tmp = tmp.loc[tmp['uclock'] >= T0i[ea[0]] - 60]
#     if len(tmp) == 0:
#         keep.append(ea)
# df = df[df['ea'].isin(keep)]
# print(len(df['ea'].unique()))
# ncalls = df.groupby('ea')[['time']].count()
# keep = ncalls.loc[ncalls['time'] >= 3]
# df = df[df['ea'].isin(keep.index)]
# print(len(df['ea'].unique()))
# Delta t to the right
df = pc.apply_filters(df, 60)
df['ea'] = list(zip(df['ego'], df['alter']))
print(len(df['ea'].unique()))


a = calls['it'].copy(deep=True)
a['ea'] = list(zip(a['ego'], a['alter']))
print(len(a['ea'].unique()))


last = df.groupby('ea')[['uclock']].min()
H = pc.histogram(last['uclock'], 10, log=False)
plt.plot(H['label'], H['pmf'], label=c)


max(last['uclock'])


max(unfiltered['it']['uclock'])


limits


# limits['it'] = [(0, 50), (170, 220), (280, 330)]


fig1ns = {}
for i in range(3):
    fig1ns[i] = pc.get_fal(df, limits['it'][i][0], limits['it'][i][1], 15, countalters=True)
    
plt.xlabel(r"$a$")
plt.ylabel(r"$\bar{f}(a, \ell)$")
plt.semilogy()
for i in range(3):
    plt.plot(fig1ns[i]['f'].index, fig1ns[i]['f']['f'], 
             label=fr'${limits["it"][i][0]} \leq \ell \leq {limits["it"][i][1]} ({fig1ns[i]["nalters"]}) [{fig1ns[i]["egocount"]}] {fig1ns[i]["nalters"] / fig1ns[i]["egocount"]:.4f}$')
plt.legend()





t0 = dt.datetime.now()
itloop = {}
for i in range(3):
    itloop[i] = {}
for to in range(30, 61):
    df = unfiltered['it'].copy(deep=True)
    df['ea'] = list(zip(df['ego'], df['alter']))
    lf = df.groupby('ea')[['aclock']].max()
    keep = lf.loc[lf['aclock'] <= 365]
    df = df[df['ea'].isin(keep.index)]
    t0i = df.groupby('ego')['uclock'].min()
    t0x = df.groupby('ea')[['uclock']].min()
    t0x['dif'] = t0x.index.map(lambda i: t0x.at[i, 'uclock'] - t0i[i[0]])
    keep = t0x.loc[t0x['dif'] > to]
    df = df[df['ea'].isin(keep.index)]
    df = pc.apply_filters(df, 60)
    df['ea'] = list(zip(df['ego'], df['alter']))
    for i in range(3):
        tmp = pc.get_fal(df, limits['it'][i][0], limits['it'][i][1], 15)
        itloop[i][to] = tmp['f']
print(f'Took {dt.datetime.now() - t0}')


itavg = {}
for i in itloop.keys():
    itavg[i] = pd.DataFrame()
    for to in itloop[i].keys():
        df = itloop[i][to]
        df.columns = [f'f{to}']
        itavg[i] = itavg[i].merge(df, left_index=True, right_index=True, how='outer')
    itavg[i]['f'] = itavg[i].mean(axis=1)


plt.xlabel(r'$a$')
plt.ylabel(r'$\bar{f}(a, \ell)$ per alter per ego per $t_o$')
plt.semilogy()
for i in range(3):
    plt.plot([x * 15 for x in itavg[i].index], itavg[i]['f'], label=fr'${limits["it"][i][0]} \leq \ell \leq {limits["it"][i][1]}$')
plt.legend()
# plt.savefig("/Users/vsvh/Desktop/A.pdf", dpi=150)





tmp = pd.DataFrame()
plt.xlabel(r'$t_{o, ix}$')
plt.ylabel('Proportion of alters')
plt.semilogy()
m = 0
first = []
for c in ['uk2', 'itb', 'it', 'mit']:
    df  = calls[c].copy(deep=True)
    df['ea'] = list(zip(df['ego'], df['alter']))
    if c == 'itb':
        df2 = unfiltered['it'].copy(deep=True)
        t0i = df2.groupby('ego')['uclock'].min()
    else:
        t0i = df.groupby('ego')['uclock'].min()
    t0ix = df.groupby('ea')[['uclock']].min()
    t0ix['t0'] = t0ix.index.map(lambda i: t0ix.at[i, 'uclock'] - t0i[i[0]])
    H = pc.histogram(t0ix['t0'], 20, log=False)
    H['prod'] = H['label'] * H['h']
    avg = sum(H['prod']) / sum(H['h'])
    first += list(t0ix['t0'])
    print(c, len(t0ix.loc[t0ix['t0'] < 50]), avg, np.mean(t0ix['t0']), np.median(t0ix['t0']), np.std(t0ix['t0']))
    H['y'] = H['pmf'].cumsum()
    plt.plot(H['label'], H['y'], marker=markers[m], markersize=13, ls="solid", lw=3, label=c)
    save = H[['label', 'y']]
    save.columns = [f'x{c}', f'y{c}']
    tmp = tmp.merge(save, left_index=True, right_index=True, how='outer')
    plt.legend()
    m += 1
print('all', np.mean(first), np.median(first), np.std(first))
# tmp = tmp.fillna('nan')
# tmp.to_csv("../commpatterns/PNAS_paper/SI/figs/S0.5a.dat", index=False, header=True, sep="\t")


tmp


tmp = pd.DataFrame()
plt.xlabel(r'$T_{\mathcal{E}} - t_{f, ix}$')
plt.ylabel('Proportion of alters')
# plt.semilogy()
m = 0
last = []
for c in ['uk2', 'itb', 'it', 'mit']:
    df = calls[c].copy(deep=True)
    df['ea'] = list(zip(df['ego'], df['alter']))
    if c == 'itb':
        T = max(unfiltered['it']['uclock'])
    else:
        T = max(unfiltered[c]['uclock'])
    tf = df.groupby('ea')[['uclock']].max()
    tf['tf'] = tf['uclock'].map(lambda i: T - i)
    last += list(tf['tf'])
    H = pc.histogram(tf['tf'], 20, log=False)
    H['prod'] = H['label'] * H['h']
    avg = sum(H['prod']) / sum(H['h'])
    print(c, avg, np.mean(tf['tf']), np.median(tf['tf']), np.std(tf['tf']))
    H['y'] = H['pmf'].cumsum()
    plt.plot(H['label'], [y for y in H['y']], marker=markers[m], markersize=13, ls="solid", lw=3, label=c)
    save = H[['label', 'y']]
    save.columns = [f'x{c}', f'y{c}']
    tmp = tmp.merge(save, left_index=True, right_index=True, how='outer')
    plt.legend()
    m += 1
print('all', np.mean(last), np.median(last), np.std(last))
# tmp = tmp.fillna('nan')
# tmp.to_csv("../commpatterns/PNAS_paper/SI/figs/S0.5b.dat", index=False, header=True, sep="\t")





callsb = {}
for c in ['uk', 'uk1', 'uk2', 'it', 'mit']:
    df = unfiltered[c].copy(deep=True)
    df['ea'] = list(zip(df['ego'], df['alter']))
    lf = df.groupby('ea')[['aclock']].max()
    keep = lf.loc[lf['aclock'] <= L[c]]
    df = df[df['ea'].isin(keep.index)]
    callsb[c] = df


for c in ['uk2', 'it', 'mit']:
    T = max(callsb[c]['uclock'])
    df = callsb[c].copy(deep=True)
    T0i = df.groupby('ego')['uclock'].min()
    df['ea'] = list(zip(df['ego'], df['alter']))
    tmp = df.groupby('ea')[['uclock']].min()
    tmp['difdays'] = tmp.index.map(lambda i: tmp.at[i, 'uclock'] - T0i[i[0]])
    tmp = tmp.loc[tmp['difdays'] <= 60]
    dfl = df[df['ea'].isin(tmp.index)]
    setl = set(tmp.index)
    tmp = df.loc[df['uclock'] > T - 60]
    dfr = df[df['ea'].isin(tmp['ea'].unique())]
    setr = set(tmp['ea'].unique())
    print(c, len(setl.intersection(setr)) / (len(df['ea'].unique())))
    print(c, 'left but not right', (len(setl) - len(setl.intersection(setr))) / (len(df['ea'].unique())))
    print(c, 'right but not left', (len(setr) - len(setl.intersection(setr))) / (len(df['ea'].unique())))
    print(c, f'Left {len(dfl["ea"].unique()) / len(df["ea"].unique()):.4f}({len(dfl) / len(df):.4f})', f'Right {len(dfr["ea"].unique()) / len(df["ea"].unique()):.4f}({len(dfr) / len(df):.4f})')
    print(c, len(df['ea'].unique()))


print('left', (0.17418344094189137 * 21064 + 0.3512183115924194 * 4063)/(21064 + 4063))
print('right', (0.14047664261298898 * 21064 + 0.08466650258429732 * 4063) / (21064 + 4063))





Hto = {}
for c in ['uk2', 'it', 'mit']:
    Hto[c] = {}
    df = calls[c].copy(deep=True)
    df['ea'] = list(zip(df['ego'], df['alter']))
    lf = df.groupby('ea')[['aclock']].max().rename({'aclock': 'ell'}, axis='columns')
    for i in range(3):
        keep = lf.loc[(lf['ell'] >= limits[c][i][0]) & (lf['ell'] <= limits[c][i][1])]
        df2 = df[df['ea'].isin(keep.index)]
        to = df2.groupby('ea')[['uclock']].min().rename({'uclock': 'to'}, axis='columns')
        Hto[c][i] = pc.histogram(to['to'], 15, log=False)


plt.figure(figsize=(20*1, 10*3))
p = 1
for c in Hto.keys():
    plt.subplot(3,1,p)
    plt.xlabel(fr'$t_o$ in cohort {c}')
    plt.ylabel('Proportion of alters in lifetime group')
    for i in range(3):
        plt.plot(Hto[c][i]['label'], Hto[c][i]['pmf'], label=fr'${limits[c][i][0]} \leq \ell \leq {limits[c][i][1]}$')
    plt.legend()
    p += 1


fwL = {}
for c in ['uk2', 'it', 'mit']:
    fwL[c] = {}
    for i in range(3):
        fwL[c][i] = pc.get_fal(callsb[c], limits[c][i][0], limits[c][i][1], 15)


plt.figure(figsize=(20*1, 10*3))
p = 1
for c in fwL.keys():
    plt.subplot(3,1,p)
    plt.xlabel(r"$a$")
    plt.ylabel(r"$\bar{f}(a, \ell)$")
    for i in range(3):
        plt.plot([x * 15 for x in fwL[c][i]['f'].index], fwL[c][i]['f']['f'], label=fr'${limits[c][i][0]} \leq \ell \leq {limits[c][i][1]}$')
    plt.legend()
    p += 1








# t0 = dt.datetime.now()
# tmp = {}
# for c in ['uk2', 'it', 'mit']:
#     tmp[c] = pc.lives_dictionary(unfiltered[c])
    
# counts = {}
# for c in ['uk2', 'it', 'mit']:
#     alters = 0
#     ncalls = 0
#     a = 0
#     cc = 0
#     counts[c] = {}
#     for i in range(0, 301, 10):
#         tmpc = pc.apply_filters(unfiltered[c], i)
#         cdf = tmpc.loc[tmpc['aclock'] <= 300]
#         tmpl = pc.lives_dictionary(cdf)
#         tmpdff = pc.get_f(cdf, 'all', 15, 10)
#         for ego in tmp[c].keys():
#             for alter in tmp[c][ego].keys():
#                 vol = tmp[c][ego][alter]['nij']
#                 alters += 1
#                 ncalls += vol
#                 if (ego in tmpl.keys()) and (alter in tmpl[ego].keys()):
#                     a += 1
#                     vol = tmpl[ego][alter]['nij']
#                     cc += vol
#             counts[c][i] = (a / alters, cc / ncalls)
#     counts[c] = pd.DataFrame({'alters': [counts[c][i][0] for i in range(10, 301, 10)], 'calls': [counts[c][i][1] for i in range(10, 301, 10)]}, index=range(10, 301, 10))
    
# print(f'This block took {dt.datetime.now() - t0}')


for c in ['uk2', 'it', 'mit']:
    full = unfiltered[c].copy(deep=True)
    full['ea'] = list(zip(full['ego'], full['alter']))
    ncalls = full.groupby('ea')[['time']].count()
    keep = ncalls[ncalls['time'] >= 3]
    full = full[full['ea'].isin(keep.index)]
    altf = len(full['ea'].unique())
    callsf = len(full)
    sample = calls[c].copy(deep=True)
    sample['ea'] = list(zip(sample['ego'], sample['alter']))
    alts = len(sample['ea'].unique())
    callss = len(sample)
    print(f'{c}: \t Alters: {alts/altf:.4f} \t Calls: {callss/callsf:.4f}')





for c in ['uk2', 'itb', 'it', 'mit', 'all']:
    df = calls[c].copy(deep=True)
    df['ea'] = list(zip(df['ego'], df['alter']))
    print(c, len(df['ego'].unique()), len(df['ea'].unique()))


# for c in ['uk', 'itb', 'it', 'mit']:
    # print(c, min(unfiltered[c]['time']), max(unfiltered[c]['time']), max(unfiltered[c]['time']) - min(unfiltered[c]['time']))


# for c in ['uk', 'itb', 'it', 'mit']:
    # print(min(unfiltered[c]['uclock']))


limits





miall = []
for c in ['uk2', 'itb', 'it', 'mit', 'all']:
    df = calls[c].copy(deep=True)
    df['ea'] = list(zip(df['ego'], df['alter']))
    ell = df.groupby('ea')[['aclock']].max().rename({'aclock': 'ell'}, axis='columns')
    m2 = df.loc[(df['aclock'] >= 30) & (df['aclock'] <= 60)]
    df2 = m2.groupby('ea')[['time']].count().rename({'time': 'g'}, axis='columns')
    miall.append(df2.merge(ell, left_index=True, right_index=True, how='left'))


# def get_month2(calls, lives):
#     result = pd.DataFrame()
#     idx = 0
#     for ego in dff.keys():
#         for alter in dff[ego].keys():
#             df = dff[ego][alter].loc[(dff[ego][alter]['alpha'] >= 2) & (dff[ego][alter]['alpha'] <= 3)]
#             if (len(df) > 0) and (ego in lives.keys()):
#                 result.at[idx, 'ego'] = ego
#                 result.at[idx, 'alter'] = alter
#                 result.at[idx, 'g'] = sum(df['f'])
#                 result.at[idx, 'lambda'] = lives[ego][alter]['ell']
#                 idx += 1
#     return result


# miall = []
# for i in ['uk2', 'it', 'mit', 'all']:
#     miall.append(get_month2(dffsurv[i], lives['all']))


miall[0]['ell'].value_counts()


import sklearn.metrics as sk
miplot = []
for i in miall:
    miplot.append(sk.mutual_info_score(i['g'], i['ell']))
for i in range(len(miplot)):
    print(['uk2', 'itb', 'it', 'mit', 'all'][i],"\t", miplot[i],"\t", miplot[i]*1.44)


entropies = []
for i in miall:
    X = stats.entropy([xx / sum(i["g"]) for xx in i['g']])
    Y = stats.entropy([yy / sum(i['ell']) for yy in i['ell']])
    entropies.append(np.mean([X, Y]))
    print(X, Y, np.mean([X, Y]))


for i in range(len(miplot)):
    print(['uk2', 'itb', 'it', 'mit', 'all'][i],"\t", miplot[i],"\t", miplot[i] / entropies[i])





# for c in dffcomb.keys():
#     pairs = 0
#     for ego in dffcomb[c].keys():
#         for alter in dffcomb[c][ego].keys():
#             pairs += 1
#     print(c, pairs)





Hfap = {}
for c in ['uk', 'it', 'mit']:
    df = unfiltered[c].copy(deep=True)
    fap = df.groupby('ego')[['uclock']].min()
    Hfap[c] = pc.histogram(fap['uclock'], 50, log=False)
plt.title('First appeareance of ego')    
plt.semilogy()
for c in Hfap.keys():
    plt.plot(Hfap[c]['label'], Hfap[c]['pmf'], label=c)
plt.legend()


Hlf = {}
for c in ['uk', 'uk2', 'it', 'mit']:
    df = unfiltered[c].copy(deep=True)
    df['ea'] = list(zip(df['ego'], df['alter']))
    lf = df.groupby('ea')[['aclock']].max()
    Hlf[c] = pc.histogram(lf['aclock'], 50, log=False)
plt.title(r"Alter lifetime")
plt.semilogy()
# plt.xlim(-0.5, 365)
for c in Hlf.keys():
    plt.plot(Hlf[c]['label'], Hlf[c]['pmf'], label=c)
plt.axvline(225)
plt.axvline(365)
plt.legend()


m = 0
tmp = pd.DataFrame()
plt.semilogy()
for c in ['uk12', 'uk', 'uk2', 'it', 'mit']:
    df = unfiltered[c].copy(deep=True)
    df['ea'] = list(zip(df['ego'], df['alter']))
    lf = df.groupby('ea')[['aclock']].max()
    H = {}
    for ea in lf.index:
        ell = lf.at[ea, 'aclock'] // 10
        H[ell] = H.get(ell, 0) + 1
    H = pd.DataFrame.from_dict(H, orient='index').sort_index()
    H[f'x{c}'] = H.index.map(lambda i: (i * 10) + 5)
    H[f'y{c}'] = H[0].div(sum(H[0]))
    H = H.drop(columns=[0])
    plt.ylabel("Proportion of alters")
    plt.xlabel("Days alter was active")
    plt.plot(H[f'x{c}'], H[f'y{c}'], marker=markers[m], markersize=13, ls="dashed", lw=4, label=c)
    tmp = tmp.merge(H, left_index=True, right_index=True, how='outer')
plt.legend()
# plt.savefig("/home/vsvh/Desktop/A.pdf", dpi=200)
# tmp = tmp.fillna('nan')
# tmp.to_csv("../commpatterns/PNAS_paper/SI/figs/S0.dat", index=False, header=True, sep="\t")


tmp = pd.DataFrame()
m = 0
#plt.semilogy()
for c in ['uk2', 'it', 'mit']:
    df = unfiltered[c].copy(deep=True)
    df['ea'] = list(zip(df['ego'], df['alter']))
    df['10d'] = df['aclock'].map(lambda i: (i // 10) + 0.5)
    nego = df.groupby('10d')[['ego']].nunique()
    n = len(df['ego'].unique())
    # plt.xlim(0, 400)
    plt.ylabel("Proportion of egos")
    nego.index = nego.index * 10
    plt.xlabel("Days in each relationship")
    plt.plot(nego.index, [y / n for y in nego['ego']], marker=markers[m], markersize=13, ls="dashed", lw=4, label=c)
    nego['ego'] /= n
    nego.columns = [f'y{c}']
    tmp = tmp.merge(nego, left_index=True, right_index=True, how='outer')
    plt.axvline(270, c="black", lw=4)
    plt.axvline(365, c="black", lw=4)
plt.legend()
# plt.savefig("/home/vsvh/Desktop/B.pdf", dpi=200)
# tmp = tmp.fillna('nan')
# tmp.index.rename("a", inplace=True)
# tmp.to_csv("../commpatterns/PNAS_paper/SI/figs/S0.dat", index=True, header=True, sep="\t")


tmp


m = 0
plt.semilogy()
for c in ['uk12', 'uk', 'uk2', 'it', 'mit']:
    df = unfiltered[c].copy(deep=True)
    df['ea'] = list(zip(df['ego'], df['alter']))
    df['10d'] = df['aclock'].map(lambda i: (i // 10) + 0.5)
    nalt = df.groupby('10d')[['ea']].nunique()
    nego = df.groupby('10d')[['ego']].nunique()
    prop = nego.merge(nalt, left_index = True, right_index = True, how='outer')
    prop['prop'] = prop['ea'] / prop['ego']
    plt.ylabel("Number of alters per ego")
    plt.xlabel("Days in each relationship")
    plt.plot([10 * x for x in prop.index], prop['prop'], marker=markers[m], markersize=13, ls="dashed", lw=4, label=c)
    plt.axvline(365, color='black', lw=3)
    plt.axvline(300, color='black', lw=3)
    plt.axvline(250, color='black', lw=3)
plt.legend()
# plt.savefig("/home/vsvh/Desktop/C.pdf", dpi=200)


it = unfiltered['it'].copy(deep=True)
it['ea'] = list(zip(it['ego'], it['alter']))
itlf = it.groupby('ea')[['aclock']].max().rename({'aclock': 'ell'}, axis='columns')
keep = itlf.loc[itlf['ell'] <= 365]
it = it[it['ea'].isin(keep.index)]
it = pc.apply_filters(it, 60)


it['ea'] = list(zip(it['ego'], it['alter']))
print(len(it['ea'].unique()))
lf = it.groupby('ea')[['aclock']].max().rename({'aclock': 'ell'}, axis='columns')
H = pc.histogram(lf['ell'], 50, log=False)
plt.semilogy()
plt.plot(H['label'], H['pmf'])


newlim = [(0, 50), (100, 150), (250, 300)]


new1 = {}
for i in range(3):
    new1[i] = pc.get_fal(it, newlim[i][0], newlim[i][1], 15, countalters=True)


# plt.figure(figsize=(20*2, 10*1))
# plt.subplot(121)
# plt.title("New sampling")
# plt.semilogy()
# for i in range(3):
#     plt.plot(new1[i]['f'].index, new1[i]['f']['f'], marker=markers[i], ls="solid", lw=3, markersize=13, c=colors[i], label=fr'${newlim[i][0]}\leq \ell \leq {limits[i][1]}$')
# plt.legend()
# plt.subplot(122)
# plt.title("Sampling from the paper")
# plt.semilogy()
# for i in range(3):
#     plt.plot(fig1['it'][i]['f'].index, fig1['it'][i]['f']['f'], marker=markers[i], ls="solid", lw=3, markersize=13, c=colors[i], label=fr'${limits[i][0]}\leq \ell \leq {limits[i][1]}$')
# plt.legend()


# new2 = {}
# for i in range(3):
#     new2[i] = pc.get_avgfa(dffcomb['uk'], lives['uk'], newlim[i][0], newlim[i][1])


# plt.figure(figsize=(20*2, 10*1))
# plt.subplot(121)
# plt.title("New sampling")
# plt.semilogy()
# for i in range(3):
#     plt.plot(new2[i].index, new2[i]['f'], marker=markers[i], ls="solid", lw=3, markersize=13, c=colors[i], label=fr'${newlim[i][0]}\leq \ell \leq {newlim[i][1]}$')
# plt.legend()
# plt.subplot(122)
# plt.title("Sampling from the paper")
# plt.semilogy()
# for i in range(3):
#     plt.plot(fig1['uk'][i]['f'].index, fig1['uk'][i]['f']['f'], marker=markers[i], ls="solid", lw=3, markersize=13, c=colors[i], label=fr'${limits[i][0]}\leq \ell \leq {limits[i][1]}$')
# plt.legend()


# new3 = {}
# for i in range(3):
#     new3[i] = pc.get_avgfa(dffcomb['mit'], lives['mit'], newlim[i][0], newlim[i][1])


# plt.figure(figsize=(20*2, 10*1))
# plt.subplot(121)
# plt.title("New sampling")
# plt.semilogy()
# for i in range(3):
#     plt.plot(new3[i].index, new3[i]['f'], marker=markers[i], ls="solid", lw=3, markersize=13, c=colors[i], label=fr'${newlim[i][0]}\leq \ell \leq {newlim[i][1]}$')
# plt.legend()
# plt.subplot(122)
# plt.title("Sampling from the paper")
# plt.semilogy()
# for i in range(3):
#     plt.plot(fig1['mit'][i]['f'].index, fig1['mit'][i]['f']['f'], marker=markers[i], ls="solid", lw=3, markersize=13, c=colors[i], label=fr'${limits[i][0]}\leq \ell \leq {limits[i][1]}$')
# plt.legend()


# egolist = {}
# for c in ['it1', 'it2']:
#     egolist[c] = [ego[1:] for ego in dffcomb[c].keys()]

# intersections = {}
# for ego in egolist['it1']:
#     if ego in egolist['it2']:
#         set1 = {alter for alter in dffcomb['it1'][f'a{ego}'].keys()}
#         set2 = {alter for alter in dffcomb['it2'][f'b{ego}'].keys()}
#         intersections[ego] = set1.intersection(set2)


# tot = 0
# rep = 0
# for ego in intersections.keys():
#     tot += 1
#     if len(intersections[ego]) > 0:
#         rep += 1
# print(f'Total egos: \t{tot}')
# print(f'Egos with repetition: \t{rep} ({(rep/tot) * 100:.2f}%)')


# intersections


# a = unfiltered['it'].loc[(unfiltered['it']['ego'] == 28) & (unfiltered['it']['alter'] == '176577f07de42298c204581415ca579e')]
# a


# max(a['uclock']) - min(a['uclock'])


# it.loc[(it['ego'] == 28) & (it['alter'] == '176577f07de42298c204581415ca579e')]





def nalt_bya(callsdf, ello, ellf, bina):
    result = {'ki': {}}
    df = callsdf.copy()
    df['a'] = df['aclock'] // bina
    df['pair'] = list(zip(df['ego'], df['alter']))
    lf = df.groupby('pair')[['aclock']].max()
    lfflt = lf.loc[(lf['aclock'] >= ello) & (lf['aclock'] <= ellf)]
    df0 = df[df['pair'].isin(lfflt.index)]
    for ego in df['ego'].unique():
        df1 = df0.loc[df0['ego'] == ego]
        df2 = df1.groupby('a')[['alter']].nunique().rename({'alter': 'ka'}, axis='columns').sort_index()
        result['ki'][ego] = df2.copy()
    dfalle = pd.DataFrame()
    for ego in result['ki'].keys():
        dfalle = dfalle.merge(result['ki'][ego].rename({'ka': f'k{ego}'}, axis='columns'), left_index=True, right_index=True, how='outer')
    dfalle['ka'] = dfalle.mean(axis=1)
    dfalle['ksum'] = dfalle.iloc[:, :-1].sum(axis=1)
    result['k'] = dfalle[['ka']]
    result['ksum'] = dfalle[['ksum']]
    return result


testing = nalt_bya(calls['it'], 200, 300, 15)


t0 = dt.datetime.now()
fig1aa = {}
for c in ['uk2', 'itb', 'it', 'mit']:
    fig1aa[c] = {}
    for i in range(3):
        fig1aa[c][i] = nalt_bya(calls[c], limits[c][i][0], limits[c][i][1], 15)
print(f'Took {dt.datetime.now() - t0}')


nc = 2
nr = 2
plt.figure(figsize=(nc*13, nr*6))
p = 1
for c in fig1aa.keys():
    plt.subplot(nr, nc, p)
    plt.title(f'{c.upper()}')
    plt.xlabel(r"$a$")
    plt.ylabel("Active alters (Sum)")
    plt.semilogy()
    for i in range(3):
        plt.plot(fig1aa[c][i]['ksum'].index * 15, fig1aa[c][i]['ksum']['ksum'], marker=markers[i], markersize=13, ls="solid", lw=4, label=['Short Lifetime', 'Medium Lifetime', 'Long Lifetime'][i])
    plt.legend()
    plt.tight_layout()
    p += 1 
# plt.savefig("/Users/vsvh/Desktop/active_alters.pdf", dpi=200)





ellbyc = {}
for c in ['uk2', 'itb', 'it', 'mit']:
    df = calls[c].copy(deep=True)
    df['pair'] = list(zip(df['ego'], df['alter']))
    ell = df.groupby('pair')[['aclock']].max().rename({'aclock': 'ell'}, axis='columns')
    ell['ego'] = df.groupby('pair')[['ego']].first()
    ell['alter'] = df.groupby('pair')[['alter']].first()
    ellbyc[c] = ell


fig1ala = {}
for c in ellbyc.keys():
    fig1ala[c] = {}
    df = calls[c].copy(deep=True)
    df['pair'] = list(zip(df['ego'], df['alter']))
    for i in range(1,3):
        maxa = (max(fig1[c][i]['f'].index) * 15) + 15
        mina = maxa - 50
        df0 = pd.DataFrame()
        for a in range(mina, maxa):
            df1 = ellbyc[c].loc[(ellbyc[c]['ell'] >= a) & (ellbyc[c]['ell'] <= limits[c][i][1])]
            df0.at[a, 'alive'] = len(df1)
        fig1ala[c][i] = df0.copy()


nc = 2
nr = 4
plt.figure(figsize=(nc*13, nr*6))
p = 1
for c in fig1ala.keys():
    for i in range(1,3):
        plt.subplot(nr, nc, p)
        plt.title(f'{c.upper()}: {dict({1: "Medium", 2: "Long"})[i]} Lifetime')
        plt.xlabel("$a$")
        plt.ylabel("Number of alive alters in lifetime group")
        plt.plot(fig1ala[c][i].index, fig1ala[c][i]['alive'], marker="o", markersize=13, ls="solid", lw=3)
        plt.tight_layout()
        p += 1
# plt.savefig("/Users/vsvh/Desktop/AliveAlters.pdf", dpi=200)


fig1ale = {}
for c in ellbyc.keys():
    fig1ale[c] = {}
    df = calls[c].copy(deep=True)
    df['pair'] = list(zip(df['ego'], df['alter']))
    for i in range(1,3):
        maxa = (max(fig1[c][i]['f'].index) * 15) + 15
        mina = maxa - 60
        df0 = pd.DataFrame()
        for a in range(mina, maxa):
            df1 = ellbyc[c].loc[(ellbyc[c]['ell'] >= a) & (ellbyc[c]['ell'] >= limits[c][i][0]) & (ellbyc[c]['ell'] <= limits[c][i][1])]
            df0.at[a, 'alive'] = len(df1['ego'].unique())
        fig1ale[c][i] = df0.copy()


nc = 2
nr = 4
plt.figure(figsize=(nc*13, nr*6))
p = 1
for c in fig1ala.keys():
    for i in range(1,3):
        plt.subplot(nr, nc, p)
        plt.title(f'{c.upper()}: {dict({1: "Medium", 2: "Long"})[i]} Lifetime')
        plt.xlabel("$a$")
        plt.ylabel("Number of alive egos in lifetime group")
        plt.plot(fig1ale[c][i].index, fig1ale[c][i]['alive'], marker="o", markersize=13, ls="solid", lw=3)
        plt.tight_layout()
        p += 1
# plt.savefig("/Users/vsvh/Desktop/AliveEgos.pdf", dpi=200)


egosample = np.random.choice(list(fig1['it'][1]['fi'].keys()), size=20, replace=False)
for ego in egosample:
    plt.semilogy()
    plt.xlabel("$a$")
    plt.ylabel(r"$\bar{f_{i}}$")
    plt.plot(fig1['it'][1]['fi'][ego].index * 15, fig1['it'][1]['fi'][ego]['f'], marker="o", markersize=13, ls="solid", lw=4)











calls['all'] = pd.DataFrame(columns=['ego', 'alter', 'time', 'uclock', 'aclock', 'c'])
for c in ['uk2', 'it', 'mit']:
    df = calls[c].copy(deep=True)
    df['c'] = c
    calls['all'] = pd.concat([calls['all'], df[['ego', 'alter', 'time', 'uclock', 'aclock', 'c']]])
calls['all'].head()


limits['all'] = limits['mit']
limits


for c in ['uk2', 'itb', 'it', 'mit', 'all']:
    df = calls[c].copy(deep=True)
    if c == 'all':
        df['pair'] = list(zip(df['c'], df['ego'], df['alter']))
    else:
        df['pair'] = list(zip(df['ego'], df['alter']))
    lf = df.groupby('pair')[['aclock']].max().rename({'aclock': 'ell'}, axis='columns')
    alle = len(df['ego'].unique())
    allt = len(df['pair'].unique())
    ttl = []
    for i in range(3):
        df1 = lf.loc[(lf['ell'] >= limits[c][i][0]) & (lf['ell'] <= limits[c][i][1])]
        ttl.append(len(df1))
    print(c, alle, allt, ttl[0], ttl[1], ttl[2])


920 + 4052 + 2653


limits





# general_count = 0
# uk1_count = 0
# for ego in dffcomb['uk'].keys():
#     for alter in dffcomb['uk'][ego].keys():
#         general_count += 1
#         if ego[0] == 'a':
#             uk1_count += 1
# uk1_count / general_count


# min(unfiltered['it']['time'])





acta = {}
for c in ['uk2', 'itb', 'it', 'mit']:
    df0 = calls[c].copy(deep=True)
    df0['pair'] = list(zip(df0['ego'], df0['alter']))
    df = pd.DataFrame()
    for a in range(51):
        df1 = df0.loc[df0['aclock'] == a]
        df.at[a, 'acta'] = len(df1['pair'].unique())
    acta[c] = df.copy()


nc = 2
nr = 2
plt.figure(figsize=(nc*13, nr*6))
p = 1
for c in acta.keys():
    plt.subplot(nr, nc, p)
    plt.title(f'{c.upper()}')
    plt.xlabel("$a$")
    plt.ylabel("active alters")
    plt.semilogy()
    plt.plot(acta[c].index, acta[c]['acta'], "o-")
    p += 1
    plt.tight_layout()





t0 = dt.datetime.now()
fig1ea0 = {}
for c in ['uk2', 'itb', 'it', 'mit']:
    fig1ea0[c] = {}
    df0 = calls[c].copy(deep=True)
    df0['pair'] = list(zip(df0['ego'], df0['alter']))
    lf = df0.groupby('pair')[['aclock']].max().rename({'aclock': 'ell'}, axis='columns')
    df0['a'] = df0['aclock'] - 1
    df0 = df0.loc[df0['a'] >= 0]
    df0['a'] = df0['a'] // 15
    for i in range(3):
        fig1ea0[c][i] = {'fi': {}}
        lf1 = lf.loc[(lf['ell'] >= limits[c][i][0]) & (lf['ell'] <= limits[c][i][1])]
        df1 = df0[df0['pair'].isin(lf1.index)]
        for ego in df1['ego'].unique():
            df2 = df1.loc[df1['ego'] == ego]
            bya = df2.groupby('a')[['time']].count().rename({'time': 'fi'}, axis='columns').sort_index()
            bya['fi'] /= len(df2['alter'].unique())
            fig1ea0[c][i]['fi'][ego] = bya.copy()
        df3 = pd.DataFrame()
        for ego in fig1ea0[c][i]['fi'].keys():
            df3 = df3.merge(fig1ea0[c][i]['fi'][ego].rename({'fi': f'fi{ego}'}, axis='columns'), left_index=True, right_index=True, how='outer')
        df3['f'] = df3.mean(axis=1)
        fig1ea0[c][i]['f'] = df3[['f']]
print(f'Took {dt.datetime.now() - t0}')


nc = 2
nr = 2
plt.figure(figsize=(nc*13, nr*6))
p = 1
for c in fig1ea0.keys():
    plt.subplot(nr, nc, p)
    plt.title(f'{c.upper()}')
    plt.xlabel(r'$a$')
    plt.ylabel(r'$\bar{f}$')
    plt.ylim(0.1, 10)
    plt.semilogy()
    for i in range(3):
        plt.plot(fig1ea0[c][i]['f'].index * 15, fig1ea0[c][i]['f']['f'], marker=markers[i], markersize=13, ls="solid", lw=4, color=colors[i], label=['Short Lifetime', 'Medium Lifetime', 'Long Lifetime'][i])
        plt.plot(fig1[c][i]['f'].index * 15, fig1[c][i]['f']['f'], marker="X", markersize=8, ls="dashed", lw=2, color=colors[i])
    plt.legend()
    plt.tight_layout()
    p += 1
# plt.savefig("/Users/vsvh/Desktop/fig1exa0.pdf", dpi=200)





t0 = dt.datetime.now()
fauniv= {}
for c in ['uk2', 'itb', 'it', 'mit']:
    fauniv[c] = {}
    df0 = calls[c].copy(deep=True)
    df0['pair'] = list(zip(df0['ego'], df0['alter']))
    lf = df0.groupby('pair')[['aclock']].max().rename({'aclock': 'ell'}, axis='columns')
    fauniv[c] = {'fi': {}}
    lf1 = lf.loc[(lf['ell'] >= ells[c])]
    df1 = df0[df0['pair'].isin(lf1.index)]
    for ego in df1['ego'].unique():
        df2 = df1.loc[df1['ego'] == ego]
        bya = df2.groupby('aclock')[['time']].count().rename({'time': 'fi'}, axis='columns').sort_index()
        bya['fi'] /= len(df2['alter'].unique())
        fauniv[c]['fi'][ego] = bya.copy()
    df3 = pd.DataFrame()
    for ego in fauniv[c]['fi'].keys():
        df3 = df3.merge(fauniv[c]['fi'][ego].rename({'fi': f'fi{ego}'}, axis='columns'), left_index=True, right_index=True, how='outer')
    df3['f'] = df3.mean(axis=1)
    fauniv[c]['f'] = df3[['f']]
print(f'Took {dt.datetime.now() - t0}')


plt.figure(figsize=(18,6))
plt.xlabel("$a$")
plt.ylabel(r"$f(a, \ell > \ell_s)$")
plt.ylim(10**(-1), 10)
plt.semilogy()
for c in fauniv.keys():
    df = fauniv[c]['f'].loc[fauniv[c]['f'].index <= 30]
    plt.plot(df.index, df['f'], marker="o", markersize=13, ls="solid", lw=4, label=f'{c.upper()}')
plt.legend()





L


for c in ['uk2', 'it', 'mit']:
    df = unfiltered[c].copy(deep=True)
    df['pair'] = list(zip(df['ego'], df['alter']))
    T = df['uclock'].max()
    lf = df.groupby('pair')[['aclock']].max().rename({'aclock': 'ell'}, axis='columns')
    lf1 = lf.loc[lf['ell'] <= L[c]]
    df1 = df[df['pair'].isin(lf1.index)]
    df2 = df1.loc[df1['uclock'] >= (T - 60)]
    df3 = df1[~df1['pair'].isin(df2['pair'])]
    ncalls = df3.groupby('pair')[['time']].count()
    nc = ncalls[ncalls['time'] >= 3]
    df4 = df3[df3['pair'].isin(nc.index)]
    print(c, len(df4['pair'].unique())/len(df['pair'].unique()), len(df4) / len(df))
    df5 = calls[c].copy(deep=True)
    # df5['pair'] = list(zip(calls[c]['ego'], calls[c]['alter']))
    # print(c, len(df5['pair'].unique())/len(df['pair'].unique()), len(df5) / len(df))


for c in ['uk2', 'it', 'mit']:
    df1 = calls[c].copy(deep=True)
    df1['pair'] = list(zip(df1['ego'], df1['alter']))
    df2 = unfiltered[c].copy(deep=True)
    df2['pair'] = list(zip(df2['ego'], df2['alter']))
    print(c, len(df1['pair'].unique()), len(df2['pair'].unique()))


t0 = dt.datetime.now()
uk = pd.DataFrame()
removed = 0
for bill in os.listdir("../ukdata/bills/"):
    lnum = 0
    with open(f'../ukdata/bills/{bill}', 'r') as file:
        times = []
        dates = []
        alters = []
        durs = []
        iscall = []
        counter = 0
        for i in file.readlines():
            line = i.rsplit()
            if len(line) == 1:
                ego = line[0][-10:]
            elif (len(line) > 3) and (len(line[0]) == 8) and (len(line[1]) == 3) and (len(line[3]) >= 11) and (line[-4] in ['talk', 'text']):
                alter = line[3][-10:]
                if (alter[0] not in [3,8]) and (line[2][2] == ':'):
                    alters.append(alter)
                    datestr = line[0]
                    hourstr = line[2]          
                    dates.append(pd.to_datetime(datestr, format='%d/%m/%y'))
                    times.append(pd.to_datetime(datestr + ' ' + hourstr, format='%d/%m/%y %H:%M'))
                    dur = time.strptime(line[-2], '%H:%M:%S')
                    seconds = (dur.tm_hour * 3600) + (dur.tm_min * 60) + (dur.tm_sec)
                    durs.append(seconds)
                    thistype = line[-4]
                    if thistype == 'talk':
                        iscall.append(1)
                    else:
                        iscall.append(0)
                else:
                    removed += 1
            elif (len(line) > 3) and (line[-4] in ['talk', 'text']):
                alter = line[1][-10:]
                if (alter[0] not in [3,8]) and (line[0][2] == ':'):
                    alters.append(alter)
                    hourstr = line[0]       
                    dates.append(pd.to_datetime(datestr, format='%d/%m/%y'))
                    times.append(pd.to_datetime(datestr + ' ' + hourstr, format='%d/%m/%y %H:%M'))
                    dur = time.strptime(line[-2], '%H:%M:%S')
                    seconds = (dur.tm_hour * 3600) + (dur.tm_min * 60) + (dur.tm_sec)
                    durs.append(seconds)
                    thistype = line[-4]
                    if thistype == 'talk':
                        iscall.append(1)
                    else:
                        iscall.append(0)
                else:
                    removed += 1
            lnum += 1
        anego = pd.DataFrame({'ego': ego, 'alter': alters, 'time': times, 'date': dates, 'isCall': iscall, 'duration': durs})
        uk = uk.append(anego).reset_index(drop=True)
print(f'took {dt.datetime.now() - t0}')


uk = uk.loc[uk['isCall'] == 1]


uk = uk.reset_index(drop=True)
uk['pair'] = list(zip(uk['ego'], uk['alter']))
mindate = min(uk['date'])
uk['t'] = uk['date'].map(lambda i: (i - mindate).days)
t0ix = uk.groupby('pair')['date'].min()
uk['a'] = uk.index.map(lambda i: (uk.at[i, 'date'] - t0ix[uk.at[i, 'pair']]).days)
uk.head()


t0ix = uk.groupby('pair')[['t']].min()
t0ix = t0ix.loc[t0ix['t'] > 180]
df = uk[uk['pair'].isin(t0ix.index)]
T = df['t'].max()
lf = df.groupby('pair')[['a']].max().rename({'a': 'ell'}, axis='columns')
lf1 = lf.loc[lf['ell'] <= L['uk2']]
df1 = df[df['pair'].isin(lf1.index)]
df2 = df1.loc[df1['t'] >= (T - 60)]
df3 = df1[~df1['pair'].isin(df2['pair'].unique())]
ncalls = df3.groupby('pair')[['time']].count()
nc = ncalls.loc[ncalls['time'] >= 3]
df4 = df3[df3['pair'].isin(nc.index)]
print(len(df4['pair'].unique()) / len(df['pair'].unique()))
print(len(df4) / len(df))





for c in ['uk2', 'itb', 'it', 'mit']:
    df = calls[c].copy(deep=True)
    df['pair'] = list(zip(df['ego'], df['alter']))
    t0ix = df.groupby('pair')['uclock'].min()
    print(c, t0ix.mean())








from scipy.stats import t as tst
t0 = dt.datetime.now()
fig1eb = {}
for c in fig1.keys():
    fig1eb[c] = {}
    for l in fig1[c].keys():
        dict1 = {}
        for idx in fig1[c][l]['f'].index:
            dict1[idx] = []
            for ego in fig1[c][l]['fi'].keys():
                df = fig1[c][l]['fi'][ego].copy()
                if idx in df.index:
                    dict1[idx].append(df.at[idx, 'f'])
                else:
                    continue
        for a in fig1[c][l]['f'].index:
            m = fig1[c][l]['f'].at[a, 'f']
            s = np.std(dict1[a])
            dof = len(dict1[a]) - 1
            conf = 0.95
            t_crit = np.abs(tst.ppf((1-conf)/2,dof))
            fig1[c][l]['f'].at[a, 'below'] = m - (t_crit * (s / np.sqrt(len(dict1[a]))))
            fig1[c][l]['f'].at[a, 'above'] = m + (t_crit * (s / np.sqrt(len(dict1[a]))))
print(f'Took {dt.datetime.now() - t0}')








globaltf = dt.datetime.now() - globalt0
print(f'This notebook took {globaltf}')
os.system(f"notify-send 'Notebook done' 'it took {globaltf}'")
