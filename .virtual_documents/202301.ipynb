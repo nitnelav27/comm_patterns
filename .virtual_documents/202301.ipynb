


%load_ext autoreload
%autoreload 2

import numpy as np
import pandas as pd
import datetime as dt
import os
import matplotlib.pyplot as plt
import phonecalls as pc
import scipy.stats as stats
import scipy.interpolate as interpol
import statsmodels.api as sm
import pymannkendall as mk
import time
import copy
import math
import pickle


plt.rcParams['figure.figsize'] = (20, 10)
markers = ['o', 'v', 's', 'P', '*', 'X', 'd', 'x', 'D', '2', '+']
colors = ['#348ABD', '#A60628', '#7A68A6', '#467821', '#D55E00', '#CC79A7', '#56B4E9', '#009E73', '#F0E442', '#0072B2']

with open('unfiltered.pkl', 'rb') as handle:
    unfiltered = pickle.load(handle)
handle.close()

with open('../itdata/mtl_unfiltered.pickle', 'rb') as handle:
    tmpunf = pickle.load(handle)
    handle.close()
    
unfiltered.update(tmpunf)

with open('../itdata/mtl_dffa15.pickle', 'rb') as handle:
    itdffa15 = pickle.load(handle)
    handle.close()
    
with open('../itdata/mtl_dffa30.pickle', 'rb') as handle:
    itdffa30 = pickle.load(handle)
    handle.close()
    
with open('../itdata/mtl_livesd.pickle', 'rb') as handle:
    itlives = pickle.load(handle)
    handle.close()
    
# unfiltered['mit'] = pc.allcalls('../usadata/CallLog.csv', ('type', 'outgoing', 'outgoing+', 'missed'), 'participantID.A', 'number.hash', 
#                                 ['local_time'], "%Y-%m-%d %H:%M:%S", header=True, min_activity=1)
unfiltered['mit'] = pd.read_csv("data/USc.txt", sep="\t", parse_dates=[3, 4]).rename({'a': 'aclock', 't': 'uclock'}, axis='columns')
unfiltered['uk12'] = pd.DataFrame()
for c in ['uk1', 'uk2']:
    df = unfiltered[c].copy(deep=True)
    df['ego'] = df['ego'].map(lambda i: f'{dict({"uk1": "a", "uk2": "b"})[c]}{i}')
    unfiltered['uk12'] = unfiltered['uk12'].append(df)

L = {'uk': 300, 'uk1': 300, 'uk2': 270, 'it': 365, 'itb': 365, 'mit': 220}
calls = {}
for c in ['uk', 'uk1', 'uk2', 'it', 'mit']:
    df = unfiltered[c].copy(deep=True)
    df['ea'] = list(zip(df['ego'], df['alter']))
    lf = df.groupby('ea')[['aclock']].max()
    keep = lf.loc[lf['aclock'] <= L[c]]
    df = df[df['ea'].isin(keep.index)]
    calls[c] = pc.apply_filters(df, 60)
calls['uk12'] = pd.DataFrame()
for c in ['uk1', 'uk2']:
    df = calls[c].copy(deep=True)
    df['ego'] = df['ego'].map(lambda i: f'{dict({"uk1": "a", "uk2": "b"})[c]}{i}')
    calls['uk12'] = calls['uk12'].append(df)
    
    
globalt0 = dt.datetime.now()


for c in ['uk2', 'it', 'mit']:
    df = calls[c].copy(deep=True)
    df['pair'] = list(zip(df['ego'], df['alter']))
    print(c, len(df['pair'].unique()))


for c in ['uk', 'uk2', 'it', 'mit']:
    print(c, min(unfiltered[c]['time']), max(unfiltered[c]['time']), max(unfiltered[c]['uclock']) - min(unfiltered[c]['uclock']))





for c in ['it', 'mit']:
    # No Filter
    df = unfiltered[c].copy(deep=True)
    df['ea'] = list(zip(df['ego'], df['alter']))
    print(c, len(df['ea'].unique()))
    # L
    lf = df.groupby('ea')[['aclock']].max()
    keep = lf.loc[lf['aclock'] <= L[c]]
    df = df[df['ea'].isin(keep.index)]
    print(c, len(df['ea'].unique()))
    # ncalls = df.groupby('ea')[['time']].count()
    # keep = ncalls.loc[ncalls['time'] >= 3]
    # df = df[df['ea'].isin(keep.index)]
    # calls[{'it': 'itL', 'mit': 'mitL'}[c]] = df
    # print(c, len(df['ea'].unique()))
    # Delta t to the left (by ego)
    t0i = df.groupby('ego')['uclock'].min()
    print(t0i[24])
    t0x = df.groupby('ea')[['uclock']].min()
    t0x['dif'] = t0x.index.map(lambda i: t0x.at[i, 'uclock'] - t0i[i[0]])
    keep = t0x.loc[t0x['dif'] > 50]
    df = df[df['ea'].isin(keep.index)]
    print(len(df['ea'].unique()))
    # Delta t to the right
    df = pc.apply_filters(df, 60)
    df['ea'] = list(zip(df['ego'], df['alter']))
    print(len(df['ea'].unique()))
    calls[{'it': 'itb', 'mit': 'mitb'}[c]] = df


tmp = calls['itb'].copy(deep=True)
tmp['ea'] = list(zip(tmp['ego'], tmp['alter']))
t0i = tmp.groupby('ego')['uclock'].min()
t0x = tmp.groupby('ea')[['uclock']].min()
t0x['t0'] = t0x.index.map(lambda i: t0x.at[i, 'uclock'] - t0i[i[0]])
tmp2 = t0x.loc[t0x['t0'] > 50]
df = tmp[tmp['ea'].isin(tmp2.index)]


for c in ['uk2', 'itb', 'it', 'mit']:
    df = calls[c].copy(deep=True)
    df['pair'] = list(zip(df['ego'], df['alter']))
    print(c, len(df['pair'].unique()))


limits = {}
for c in ['uk2', 'itb', 'it', 'mit']:
    limits[c] = []
    limits[c].append((0, 50))
    limits[c].append((L[c] // 2 - 25, L[c]//2 + 25))
    limits[c].append((L[c] - 50, L[c]))
limits


limits2 = {}
for c in limits.keys():
    if c not in ['itb', 'it']:
        limits2[c] = limits[c]
    else:
        limits2[c] = [(0, 50), (180, 230), (315, 365)]


t0 = dt.datetime.now()
fig1 = {}
for c in ['uk2', 'itb', 'it', 'mit']:
    fig1[c] = {}
    for i in range(3):
        fig1[c][i] = pc.get_fal(calls[c], limits[c][i][0], limits[c][i][1], 15, countalters=True)
print(f'Took {dt.datetime.now() - t0}')


dashed = {}
for c in ['uk2', 'itb', 'it', 'mit']:
    dashed[c] = {}
    print(f'======================={c}=====================')
    for lamb in fig1[c].keys():
        if lamb >= 0:
            points = pc.get_b_slopes(fig1[c][lamb]['f'])
            print(pc.get_b_mk(fig1[c][lamb]['f']))
            dashed[c][lamb] = points
            print(f'\draw[dashed, {["charmander", "squirtle", "ekans"][lamb]}, ultra thick] (axis cs: {points[0][0]}, {points[1][0]}) -- (axis cs: {points[0][1]}, {points[1][1]});')


dashed['mit'][1]


country_labels = {'uk2': 'UK', 'itb': 'ITn', 'it': 'IT', 'mit': 'US'}
nc = 2
nr = 2
plt.figure(figsize=(nc*13, nr*6))
p = 1
for c in ['uk2', 'itb', 'it', 'mit']:
    plt.subplot(nr, nc, p)
    plt.title(f"{country_labels[c]}")
    plt.ylim(10**(-1), 10**1)
    plt.semilogy()
    plt.xlabel(fr'$a$')
    plt.ylabel(r'$\bar{f}(a, \ell)$')
    for i in range(3):
        plt.plot(fig1[c][i]['f'].index * 15, fig1[c][i]['f']['f'], marker=markers[i], ls="solid", lw=3, markersize=13, c=colors[i], label=fr'${limits[c][i][0]}\leq \ell \leq {limits[c][i][1]}$')
        if (i > 0) and (c != 'mit'):
            plt.plot([x * 15 for x in dashed[c][i][0]], dashed[c][i][1], marker="", ls="--", lw=3, c=colors[i])
        elif (i > 0) and (c == 'mit'):
            plt.plot([x * 15 for x in range(1,9)], [dashed[c][i][1] for _ in range(1,9)], marker="", ls="--", lw=3, c=colors[i])
    plt.legend()
    plt.tight_layout()
    p += 1
# plt.savefig("/home/vsvh/dump/fig1.pdf", dpi=200)





t0 = dt.datetime.now()
fig1ale = {}
for c in fig1.keys():
    fig1ale[c] = {}
    df = calls[c].copy(deep=True)
    df['pair'] = list(zip(df['ego'], df['alter']))
    lf = df.groupby('pair')[['aclock']].max().rename({'aclock': 'ell'}, axis='columns')
    for i in range(1,3):
        result = pd.DataFrame()
        lf1 = lf.loc[(lf['ell'] >= limits[c][i][0]) & (lf['ell'] <= limits[c][i][1])]
        df1 = df[df['pair'].isin(lf1.index)]
        mina = limits[c][i][0]
        maxa = limits[c][i][1]
        for a in range(mina, maxa + 1):
            lf2 = lf1.loc[lf1['ell'] >= a]
            df2 = df1[df1['pair'].isin(lf2.index)]
            result.at[a, 'ale'] = len(df2['ego'].unique())
        fig1ale[c][i] = result.copy()
print(f'Took {dt.datetime.now() - t0}')


nc = 2
nr = 2
plt.figure(figsize=(nc*13, nr*6))
p = 1
for c in fig1ale.keys():
    plt.subplot(nr, nc, p)
    plt.title(country_labels[c])
    plt.xlabel("$a$")
    plt.ylabel("Alive egos")
    for i in range(1,3):
        plt.plot(fig1ale[c][i].index, fig1ale[c][i]['ale'], marker=markers[i], markersize=13, ls="solid", lw=3, color=colors[i], label=['BHBH', 'Medium Lifetime', 'Long Lifetime'][i])
    plt.legend()
    plt.tight_layout()
    p += 1


a = fig1ale['uk2'][2].copy().rename({'ale': 'Y1uk2'}, axis='columns')
a['X1uk2'] = a.index
a


tmp = pd.DataFrame()
for c in fig1ale.keys():
    for l in fig1ale[c].keys():
        df = fig1ale[c][l].copy().rename({'ale': f'Y{l}{c}'}, axis='columns')
        df[f'X{l}{c}'] = df.index
        df = df.reset_index(drop=True)
        tmp = tmp.merge(df, left_index=True, right_index=True, how='outer')
tmp.fillna('nan', inplace=True)
# tmp.to_csv(f"../commpatterns/PNAS_paper/SI/figs/aliveegos.dat", header=True, index=False, sep="\t")





ells = {'uk2': 51.13, 'itb': 66.14, 'it': 56.49, 'mit': 56.51}


t0 = dt.datetime.now()
fauniv= {}
for c in ['uk2', 'itb', 'it', 'mit']:
    fauniv[c] = {}
    df0 = calls[c].copy(deep=True)
    df0['pair'] = list(zip(df0['ego'], df0['alter']))
    lf = df0.groupby('pair')[['aclock']].max().rename({'aclock': 'ell'}, axis='columns')
    fauniv[c] = {'fi': {}}
    lf1 = lf.loc[(lf['ell'] >= ells[c])]
    df1 = df0[df0['pair'].isin(lf1.index)]
    for ego in df1['ego'].unique():
        df2 = df1.loc[df1['ego'] == ego]
        bya = df2.groupby('aclock')[['time']].count().rename({'time': 'fi'}, axis='columns').sort_index()
        bya['fi'] /= len(df2['alter'].unique())
        fauniv[c]['fi'][ego] = bya.copy()
    df3 = pd.DataFrame()
    for ego in fauniv[c]['fi'].keys():
        df3 = df3.merge(fauniv[c]['fi'][ego].rename({'fi': f'fi{ego}'}, axis='columns'), left_index=True, right_index=True, how='outer')
    df3['f'] = df3.mean(axis=1)
    fauniv[c]['f'] = df3[['f']]
print(f'Took {dt.datetime.now() - t0}')


plt.figure(figsize=(14,6))
plt.xlabel("$a$")
plt.ylabel(r"$\bar{f}(a, \ell > \ell_s)$")
plt.semilogy()
plt.ylim(10**(-1.2), 2)
for c in fauniv.keys():
    df = fauniv[c]['f'].loc[fauniv[c]['f'].index <= 30]
    plt.plot(df.index, df['f'], marker="o", markersize=13, ls="solid", lw=3, label=country_labels[c])
plt.legend()
plt.tight_layout()


tmp = pd.DataFrame()
for c in fauniv.keys():
    df = fauniv[c]['f'].loc[fauniv[c]['f'].index <= 30].rename({'f': c}, axis='columns')
    tmp = tmp.merge(df, left_index=True, right_index=True, how='outer')
tmp.index.rename('a', inplace=True)
tmp.fillna('nan', inplace=True)
# tmp.to_csv(f"../commpatterns/PNAS_paper/SI/figs/faells.dat", header=True, sep="\t")








from scipy.stats import t as tst
t0 = dt.datetime.now()
fig1cit = {}
for c in fig1.keys():
    fig1cit[c] = {}
    for l in fig1[c].keys():
        fig1cit[c][l] = pd.DataFrame()
        dict1 = {}
        for idx in fig1[c][l]['f'].index:
            dict1[idx] = []
            for ego in fig1[c][l]['fi'].keys():
                df = fig1[c][l]['fi'][ego].copy()
                if idx in df.index:
                    dict1[idx].append(df.at[idx, 'f'])
                else:
                    continue
        for a in fig1[c][l]['f'].index:
            m = fig1[c][l]['f'].at[a, 'f']
            s = np.std(dict1[a])
            dof = len(dict1[a]) - 1
            conf = 0.95
            t_crit = np.abs(tst.ppf((1-conf)/2,dof))
            fig1cit[c][l].at[a, 'f'] = m
            fig1cit[c][l].at[a, 'below'] = m - (t_crit * (s / np.sqrt(len(dict1[a]))))
            fig1cit[c][l].at[a, 'above'] = m + (t_crit * (s / np.sqrt(len(dict1[a]))))
print(f'Took {dt.datetime.now() - t0}')


nc = 2
nr = 2
plt.figure(figsize=(nc*13, nr*6))
p = 1
for c in fig1cit.keys():
    plt.subplot(nr, nc, p)
    plt.title(f'{country_labels[c]}')
    plt.xlabel('$a$')
    plt.ylabel(r"$f(a, \ell)$")
    plt.semilogy()
    plt.ylim(10**(-1), 10)
    for i in range(3):
        plt.plot(fig1cit[c][i].index * 15, fig1cit[c][i]['f'], marker=markers[i], markersize=13, ls="solid", lw=3, color=colors[i], label=['Short Lifetime', 'Midium Lifetime', 'Long Lifetime'][i])
        # plt.plot(fig1[c][i]['f'].index, fig1[c][i]['f']['f'], marker="X", markersize=8, ls="dashed", lw=3, color="black")
        plt.fill_between(fig1cit[c][i].index * 15, fig1cit[c][i]['below'], fig1cit[c][i]['above'], color=colors[i], alpha=0.3)
    plt.legend()
    plt.tight_layout()
    p += 1
# plt.savefig("/home/vsvh/dump/tmp/fig1_T.pdf", dpi=200)





t0 = dt.datetime.now()
nsample = len(fig1['mit'][2]['fi'].keys())
allsamples = pd.DataFrame()
en = 0
for _ in range(100):
    egosample = np.random.choice(list(fig1['mit'][2]['fi'].keys()), size=nsample, replace=True)
    for ego in egosample:
        df = fig1['mit'][2]['fi'][ego].rename({'f': en}, axis='columns').transpose()
        allsamples = pd.concat([allsamples, df])
        en += 1
        
testing = allsamples.quantile([0.025, 0.975]).transpose().rename({0.025: 'low', 0.975: 'high'}, axis='columns').sort_index()
print(f'Took {dt.datetime.now() - t0}')


plt.figure(figsize=(12,6))
plt.xlabel("$a$")
plt.ylabel(r"$f(a, \ell)$")
plt.semilogy()
plt.ylim(10**(-1), 10)
plt.plot(fig1['mit'][2]['f'].index, fig1['mit'][2]['f']['f'], marker="X", markersize=13, ls="dashed", lw=3, color="black")
plt.fill_between(testing.index, testing['low'], testing['high'], color=colors[0], alpha=0.3)


np.random.seed(0)
t0 = dt.datetime.now()
fig1cib = {}
for c in fig1.keys():
    fig1cib[c] = {}
    ssize = []
    for i in range(3):
        nsample = len(fig1[c][i]['fi'].keys())
        allsamples = pd.DataFrame()
        en = 0
        for _ in range(100):
            egosample = np.random.choice(list(fig1[c][i]['fi'].keys()), size=nsample, replace=True)
            for ego in egosample:
                df = fig1[c][i]['fi'][ego].rename({'f': en}, axis='columns').transpose()
                allsamples = pd.concat([allsamples, df])
                en += 1
        ssize.append(len(allsamples))
        fig1cib[c][i] = allsamples.quantile([0.025, 0.975]).transpose().rename({0.025: 'low', 0.975: 'high'}, axis='columns').sort_index()
    tf = dt.datetime.now()
    print(f'Finished {c} in {tf - t0} with sample size {ssize}')
    t0 = dt.datetime.now()


nc = 2
nr = 2
plt.figure(figsize=(nc*13, nr*6))
p = 1
for c in fig1.keys():
    plt.subplot(nr, nc, p)
    plt.title(f'{country_labels[c]}')
    plt.xlabel("$a$")
    plt.ylabel(r"$f(a, \ell)$")
    plt.semilogy()
    plt.ylim(10**(-1), 10)
    for i in range(3):
        plt.plot(fig1[c][i]['f'].index * 15, fig1[c][i]['f']['f'], marker=markers[i], markersize=13, ls="solid", lw=3, color=colors[i], label=['Short Lifetime', 'Midium Lifetime', 'Long Lifetime'][i])
        plt.fill_between(fig1cib[c][i].index * 15, fig1cib[c][i]['low'], fig1cib[c][i]['high'], color=colors[i], alpha=0.3)
    plt.legend()
    plt.tight_layout()
    p += 1


np.random.seed(0)
t0 = dt.datetime.now()
fig1cib = {}
for c in fig1.keys():
    fig1cib[c] = {}
    ssize = []
    for i in range(3):
        nsample = len(fig1[c][i]['fi'].keys())
        allsamples = pd.DataFrame()
        en = 0
        for _ in range(500):
            egosample = np.random.choice(list(fig1[c][i]['fi'].keys()), size=nsample, replace=True)
            for ego in egosample:
                df = fig1[c][i]['fi'][ego].rename({'f': en}, axis='columns').transpose()
                allsamples = pd.concat([allsamples, df])
                en += 1
        ssize.append(len(allsamples))
        fig1cib[c][i] = allsamples.quantile([0.025, 0.975]).transpose().rename({0.025: 'low', 0.975: 'high'}, axis='columns').sort_index()
    tf = dt.datetime.now()
    print(f'Finished {c} in {tf - t0} with sample size {ssize}')
    t0 = dt.datetime.now()


nc = 2
nr = 2
plt.figure(figsize=(nc*13, nr*6))
p = 1
for c in fig1.keys():
    plt.subplot(nr, nc, p)
    plt.title(f'{country_labels[c]}')
    plt.xlabel("$a$")
    plt.ylabel(r"$f(a, \ell)$")
    plt.semilogy()
    plt.ylim(10**(-1), 10)
    for i in range(3):
        plt.plot(fig1[c][i]['f'].index * 15, fig1[c][i]['f']['f'], marker=markers[i], markersize=13, ls="solid", lw=3, color=colors[i], label=['Short Lifetime', 'Medium Lifetime', 'Long Lifetime'][i])
        plt.fill_between(fig1cib[c][i].index * 15, fig1cib[c][i]['low'], fig1cib[c][i]['high'], color=colors[i], alpha=0.3)
    plt.legend()
    plt.tight_layout()
    p += 1
# plt.savefig("/home/vsvh/dump/tmp/fig1_bootstrap.pdf", dpi=200)





t0 = dt.datetime.now()
fig1sem = {}
for c in fig1.keys():
    fig1sem[c] = {}
    for l in fig1[c].keys():
        fig1sem[c][l] = pd.DataFrame()
        dict1 = {}
        for idx in fig1[c][l]['f'].index:
            dict1[idx] = []
            for ego in fig1[c][l]['fi'].keys():
                df = fig1[c][l]['fi'][ego].copy()
                if idx in df.index:
                    dict1[idx].append(df.at[idx, 'f'])
                else:
                    continue
        for a in fig1[c][l]['f'].index:
            sem = stats.sem(dict1[a])
            m = fig1[c][l]['f'].at[a, 'f']
            fig1sem[c][l].at[a, 'f'] = m
            fig1sem[c][l].at[a, 'below'] = m - sem
            fig1sem[c][l].at[a, 'above'] = m + sem
print(f'Took {dt.datetime.now() - t0}')


nc = 2
nr = 2
plt.figure(figsize=(nc*13, nr*6))
p = 1
for c in fig1.keys():
    plt.subplot(nr, nc, p)
    plt.title(f'{country_labels[c]}')
    plt.xlabel("$a$")
    plt.ylabel(r"$f(a, \ell)$")
    plt.semilogy()
    plt.ylim(10**(-1), 10)
    for i in range(3):
        plt.plot(fig1sem[c][i].index * 15, fig1sem[c][i]['f'], marker=markers[i], markersize=13, ls="solid", lw=3, color=colors[i], label=['Short Lifetime', 'Medium Lifetime', 'Long Lifetime'][i])
        plt.fill_between(fig1sem[c][i].index * 15, fig1sem[c][i]['below'], fig1sem[c][i]['above'], color=colors[i], alpha=0.3)
    plt.legend()
    plt.tight_layout()
    p += 1
# plt.savefig("/home/vsvh/dump/tmp/fig1_sem.pdf", dpi=200)


for c in fig1sem.keys():
    tmp = pd.DataFrame()
    for l in fig1sem[c].keys():
        df = fig1sem[c][l].copy()
        df.columns = [f'l{int(l)}', f'lbe{int(l)}', f'lab{int(l)}']
        if len(tmp) == 0:
            tmp = tmp.append(df)
        else:
            tmp = tmp.merge(df, left_index=True, right_index=True, how='outer')
    tmp.index.rename('a', inplace=True)
    tmp.fillna('nan', inplace=True)
    tmp.to_csv(f"../commpatterns/PNAS_paper/SI/figs/fig1_{c}.dat", header=True, sep="\t")








hell = {}
for c in ['uk2', 'itb', 'it', 'mit']:
    df = calls[c].copy(deep=True)
    df['ea'] = list(zip(df['ego'], df['alter']))
    lf = df.groupby('ea')[['aclock']].max().rename({'aclock': 'ell'}, axis='columns')
    lf = lf.loc[(lf['ell'] >= limits[c][1][0]) & (lf['ell'] <= limits[c][1][1])]
    H = {}
    for ell in lf['ell']:
        H[ell] = H.get(ell, 0) + 1
    tmp = pd.DataFrame.from_dict(H, orient='index', columns=['H']).sort_index()
    tmp['pmf'] = tmp['H'].div(sum(tmp['H']))
    hell[c] = tmp.copy()


nc = 2
nr = 2
plt.figure(figsize=(13*nc,6*nr))
p = 1
for c in hell.keys():
    plt.subplot(nr, nc, p)
    plt.title(f"{country_labels[c]}")
    plt.xlabel("$\ell$")
    plt.ylabel(fr"$H(\ell \mid {limits[c][1][0]} \leq \ell \leq {limits[c][1][1]})$")
    plt.plot(hell[c].index, hell[c]['H'], marker="o", markersize=13, ls="solid", lw=3)
    p += 1
    plt.tight_layout()
# plt.savefig("/home/vsvh/dump/HellMedium.pdf", dpi=200)





t0 = dt.datetime.now()
fig1alt = {}
for c in ['uk2', 'itb', 'it', 'mit']:
    fig1alt[c] = {}
    for i in range(3):
        fig1alt[c][i] = pc.get_fal(calls[c], limits2[c][i][0], limits2[c][i][1], 15, countalters=True)
print(f'Took {dt.datetime.now() - t0}')


nc = 2
nr = 2
plt.figure(figsize=(nc*13, nr*6))
p = 1
for c in ['uk2', 'itb', 'it', 'mit']:
    plt.subplot(nr, nc, p)
    plt.title(f"{country_labels[c]}")
    plt.ylim(10**(-1), 10**1)
    plt.semilogy()
    plt.xlabel(fr'$a$')
    plt.ylabel(r'$\bar{f}(a, \ell)$')
    for i in range(3):
        plt.plot(fig1alt[c][i]['f'].index * 15, fig1alt[c][i]['f']['f'], marker=markers[i], ls="solid", lw=3, markersize=13, c=colors[i], label=fr'${limits2[c][i][0]}\leq \ell \leq {limits2[c][i][1]}$')
    plt.legend()
    plt.tight_layout()
    p += 1
# plt.savefig("/home/vsvh/dump/fig1alt.pdf", dpi=200)





limits2


lfrange = {}
lfrange['itb'] = [(130, 180), (140, 190), (150, 200), (157, 207), (160, 210), (170, 220), (180, 230)]
lfrange['it'] = lfrange['itb']


diffrange = {}
for c in ['itb', 'it']:
    diffrange[c] = {}
    for i in range(len(lfrange[c])):
        diffrange[c][i] = pc.get_fal(calls[c], lfrange[c][i][0], lfrange[c][i][1], 15, countalters=True)


nc = 1
nr = 2
plt.figure(figsize=(nc*22, nr*6))
p = 1
for c in diffrange.keys():
    plt.subplot(nr, nc, p)
    plt.title(country_labels[c], fontsize=45)
    plt.xlabel("$a$", fontsize=40)
    plt.ylabel(r"$\bar{f}(a, \ell)$", fontsize=40)
    plt.yticks(fontsize=40)
    plt.xticks(fontsize=40)
    plt.semilogy()
    plt.ylim(10**(-0.4), 2)
    for i in range(len(lfrange[c])):
        if i  == 3:
            plt.plot(diffrange[c][i]['f'].index * 15, diffrange[c][i]['f']['f'], marker="o", ls='solid', markersize=13, lw=3, color="black", label=fr'${lfrange[c][i][0]} \leq \ell \leq {lfrange[c][i][1]}$')
        else:
            plt.plot(diffrange[c][i]['f'].index * 15, diffrange[c][i]['f']['f'], marker="X", ls='dashed', markersize=10, alpha=0.8, lw=3, label=fr'${lfrange[c][i][0]} \leq \ell \leq {lfrange[c][i][1]}$')
    if p == 1:
        plt.legend(bbox_to_anchor=(1.2, 0.7), fontsize=25)
    plt.tight_layout()
    p += 1
# plt.savefig("/home/vsvh/dump/mediumell2.pdf", dpi=150)





bhist = {}
for c in fig1.keys():
    bhist[c] = {}
    for lamb in fig1[c].keys():
        bhist[c][lamb] = []
        for ego in fig1[c][lamb]['fi'].keys():
            curve = fig1[c][lamb]['fi'][ego].copy()
            if len(curve > 1):
                b = pc.get_b_slopes(curve)
                if (b is not None) and (not pd.isna(b[1][1])):
                    bhist[c][lamb].append(b[1][1])


def histogram(array, bins, log=False, usezero=False, midpoint=False):
    xl = sorted(list(array))
    xo = xl[0]
    xf = xl[-1]
    if log:
        lmu = np.log10(xf / xo) / bins
        mu = 10**lmu
    dx = (xf - xo) / bins
    h = {}
    if log:
        for x in xl:
            if x == xf:
                h[bins - 1] = h.get(bins - 1, 0) + 1
            else:
                i = np.log10(x / xo) // lmu
                h[i] = h.get(i, 0) + 1
    else:
        for x in xl:
            if x == xf:
                h[bins - 1] = h.get(bins - 1, 0) + 1
            else:
                i = int((x - xo) // dx)
                h[i] = h.get(i, 0) + 1
    df = pd.DataFrame.from_dict(h, orient='index', columns=['h']).sort_index()
    if usezero:
        df = df.reindex(range(bins), fill_value=0)
    df['pmf'] = df['h'].div(sum(df['h']))
    df['pdf'] = df['pmf'] / dx
    for i in df.index:
        if log:
            df.at[i, 'label'] = xo*(mu**i)
        else:
            if midpoint:
                df.at[i, 'label'] = xo + (dx * (i + 0.5))
            else:
                df.at[i, 'label'] = xo + (dx * (i))
    return df


tmp = pd.DataFrame()
for c in bhist.keys():
    print(f'====================={c}========================')
    for lamb in range(1,3):
        H = histogram(bhist[c][lamb], 10, log=True, usezero=True)
        avg = np.mean(bhist[c][lamb])
        print(f"\\addplot[dashed, {['charmander', 'squirtle', 'ekans'][lamb]}, line width = 4] coordinates {{({avg}, 0.001) ({avg}, 1)}};")
        H = H[['pdf', 'label']]
        miny = sorted([i for i in H['pdf'] if i > 0])[0]
        H['pdf'] = H['pdf'].map(lambda i: 10**(-2.5) if i == 0 else i)
        H.columns = [f'{c}y{lamb}', f'{c}x{lamb}']
        tmp = tmp.merge(H, left_index=True, right_index=True, how='outer')


tmp


# tmp = tmp.fillna('nan')
# tmp.to_csv("../commpatterns/PNAS_paper/SI/figs/S55.dat", index=False, header=True, sep="\t")


tmp = pd.DataFrame()
for c in bhist.keys():
    print(f'====================={c}========================')
    for lamb in range(3):
        H = histogram(bhist[c][lamb], 10, usezero=True)
        avg = np.mean(bhist[c][lamb])
        print(f"\\addplot[dashed, {['charmander', 'squirtle', 'ekans'][lamb]}, line width = 4] coordinates {{({avg}, 0.001) ({avg}, 1)}};")
        H = H[['pdf', 'label']]
        H.columns = [f'{c}y{lamb}', f'{c}x{lamb}']
        tmp = tmp.merge(H, left_index=True, right_index=True, how='outer')


# tmp = tmp.fillna('nan')
# tmp.to_csv("../commpatterns/PNAS_paper/SI/figs/S56.dat", index=False, header=True, sep="\t")
# tmp


bhist2 = {}
for c in fig1.keys():
    bhist2[c] = {}
    for lamb in fig1[c].keys():
        bhist2[c][lamb] = []
        for ego in fig1[c][lamb]['fi'].keys():
            curve2 = fig1[c][lamb]['fi'][ego]
            if len(curve2) > 1:
                b = pc.get_b_mk(curve2)
                if (b is not None) and (not pd.isna(b[1][1])):
                    bhist2[c][lamb].append(b[1][1])


tmp = pd.DataFrame()
for c in bhist2.keys():
    print(f'====================={c}========================')
    for lamb in range(1,3):
        H = histogram(bhist2[c][lamb], 10, log=True, usezero=True)
        avg = np.mean(bhist2[c][lamb])
        print(f"\\addplot[dashed, {['charmander', 'squirtle', 'ekans'][lamb]}, line width = 4] coordinates {{({avg}, 0.001) ({avg}, 1)}};")
        H = H[['pdf', 'label']]
        miny = sorted([i for i in H['pdf'] if i > 0])[0]
        H['pdf'] = H['pdf'].map(lambda i: 10**(-2.5) if i == 0 else i)
        H.columns = [f'{c}y{lamb}', f'{c}x{lamb}']
        tmp = tmp.merge(H, left_index=True, right_index=True, how='outer')
tmp = tmp.fillna('nan')
# tmp.to_csv("../commpatterns/PNAS_paper/SI/figs/S55b.dat", index=False, header=True, sep="\t")


tmp


tmp = pd.DataFrame()
for c in bhist2.keys():
    print(f'====================={c}========================')
    for lamb in range(3):
        H = histogram(bhist2[c][lamb], 10, log=False, usezero=True)
        avg = np.mean(bhist2[c][lamb])
        print(f"\\addplot[dashed, {['charmander', 'squirtle', 'ekans'][lamb]}, line width = 4] coordinates {{({avg}, 0.001) ({avg}, 1)}};")
        H = H[['pdf', 'label']]
        H.columns = [f'{c}y{lamb}', f'{c}x{lamb}']
        tmp = tmp.merge(H, left_index=True, right_index=True, how='outer')
# tmp = tmp.fillna('nan')
# tmp.to_csv("../commpatterns/PNAS_paper/SI/figs/S56b.dat", index=False, header=True, sep="\t")
# tmp





ksp = {}
for c in ['uk2', 'itb', 'it', 'mit']:
    ksp[c] = {}
    series = fig1[c][1]['fi']
    for ego in series.keys():
        df = series[ego]
        idx = sorted(list(df.index))[1:-1]
        if len(idx) > 0:
            mid = len(idx) // 2
            lims = ((idx[0], idx[mid]), (idx[mid], idx[-1]))
            left = df.loc[(df.index >= lims[0][0]) & (df.index <= lims[0][1])]
            right = df.loc[(df.index >= lims[1][0]) & (df.index <= lims[1][1])]
            if (len(left) >= 1) and (len(right) >= 1):
                ksp[c]['m'] = ksp[c].get('m', [])
                ksp[c]['m'].append(stats.ks_2samp(left['f'], right['f'])[1])
    series = fig1[c][2]['fi']
    for ego in series.keys():
        df = series[ego]
        idx = sorted(list(df.index))[1:-1]
        if len(idx) > 0:
            mid = len(idx) // 2
            lims = ((idx[0], idx[mid]), (idx[mid], idx[-1]))
            left = df.loc[(df.index >= lims[0][0]) & (df.index <= lims[0][1])]
            right = df.loc[(df.index >= lims[1][0]) & (df.index <= lims[1][1])]
            if (len(left) >= 1) and (len(right) >= 1):
                ksp[c]['l'] = ksp[c].get('l', [])
                ksp[c]['l'].append(stats.ks_2samp(left['f'], right['f'])[1])


tmp = pd.DataFrame(index=range(10))
for c in ksp.keys():
    print(f'============\t{c.upper()}\t=================')
    for s in ['m', 'l']:
        total = len(ksp[c][s])
        outl = len([i for i in ksp[c][s] if i < 0.05])
        print(c, s, outl/total)
        H = histogram(ksp[c][s], 10, usezero=True)
        avg = np.mean(ksp[c][s])
        miny = sorted([i for i in H['pdf'] if i > 0])[0]
        H['pdf'] = H['pdf'].map(lambda i: 10**(-1) if i == 0 else i)
        tmp[f'{c}x{s}'] = H['label']
        tmp[f'{c}y{s}'] = H['pdf']
        print(f'\\addplot[{dict({"m": "squirtle", "l": "ekans"})[s]}, dashed, line width = 4] coordinates{{({avg}, 0.001) ({avg}, 10)}};')


# tmp = tmp.fillna('nan')
# tmp.to_csv("../commpatterns/PNAS_paper/SI/figs/S65.dat", index=False, header=True, sep="\t")


tmp


tmp = pd.DataFrame(index=range(10))
for c in ksp.keys():
    print(f'============\t{c.upper()}\t=================')
    for s in ['m', 'l']:
        H = histogram(ksp[c][s], 10, usezero=True)
        avg = np.mean(ksp[c][s])
        tmp[f'{c}x{s}'] = H['label']
        tmp[f'{c}y{s}'] = H['pdf']
        print(f'\\addplot[{dict({"m": "squirtle", "l": "ekans"})[s]}, dashed, line width = 4] coordinates{{({avg}, 0.001) ({avg}, 10)}};')


tmp = tmp.fillna('nan')
# tmp.to_csv("../commpatterns/PNAS_paper/SI/figs/S66.dat", index=False, header=True, sep="\t")





calls['all'] = pd.DataFrame()
for c in ['uk2', 'it', 'mit']:
    df = calls[c][['ego', 'alter', 'time', 'uclock', 'aclock']]
    df['c'] = c
    df['pair'] = list(zip(df['c'], df['ego'], df['alter']))
    calls['all'] = pd.concat([calls['all'], df])


gammas = {gam: (3**gam, 3**(gam + 1)) for gam in range(4)}
gammas


testing = pd.DataFrame()
df = calls['all'].loc[(calls['all']['aclock'] >= 30) & (calls['all']['aclock'] <= 60)]
ncalls = df.groupby('pair')[['time']].count().rename({'time': 'nix'}, axis='columns')
for gamma in gammas.keys():
    tmp = ncalls.loc[(ncalls['nix'] >= gammas[gamma][0]) & (ncalls['nix'] <= gammas[gamma][1])]
    testing.at[gamma, 'alters'] = len(tmp)
testing


letters = ['A', 'B', 'C', 'D', 'E', 'F', 'G', 'H', 'I', 'J', 'K', 'L']
elements = [(0, 15), (30, 45), (60, 75), (0, 30), (30, 60), (60, 90), (0, 45), (30, 75), (60, 105), (0, 60), (30, 90), (60, 120)]
tmp = pd.DataFrame()
for i in range(len(letters)):
    df = calls['all'].loc[(calls['all']['aclock'] >= elements[i][0]) & (calls['all']['aclock'] <= elements[i][1])]
    ncalls = df.groupby('pair')[['time']].count().rename({'time': 'nix'}, axis='columns')
    for gamma in gammas.keys():
        ncalls1 = ncalls.loc[(ncalls['nix'] >= gammas[gamma][0]) & (ncalls['nix'] < gammas[gamma][1])]
        tmp.at[gamma, letters[i]] = len(ncalls1)
tmp = tmp.astype(int)
tmp


print('\\begin{table}')
print('\centering')
print('\\begin{tabular}{lrrrrrrrrrrrr}\n\hline\hline')
print('$\gamma$ & \\textbf{A} & \\textbf{B} & \\textbf{C} & \\textbf{D} & \\textbf{E} & \\textbf{F} & \\textbf{G} & \\textbf{H} & \\textbf{I} & \\textbf{J} & \\textbf{K} & \\textbf{L}\\\\\n\hline')
for gamma in tmp.index:
    print(f'{gamma} & {tmp.at[gamma, "A"]} & {tmp.at[gamma, "B"]} & {tmp.at[gamma, "C"]} & {tmp.at[gamma, "D"]} & {tmp.at[gamma, "E"]} & {tmp.at[gamma, "F"]} & {tmp.at[gamma, "G"]} & {tmp.at[gamma, "H"]} & {tmp.at[gamma, "I"]} & {tmp.at[gamma, "J"]} & {tmp.at[gamma, "K"]} &{tmp.at[gamma, "L"]}\\\\')
print('\hline\hline')
print('\end{tabular}')
print('\end{table}')





data_alt = {}
for i in range(5):
    data_alt[['ukc', 'ukt', 'usc', 'ust', 'it'][i]] = pd.read_csv(f"../transient_relationships/data/{['UKc', 'UKt', 'USc', 'USt', 'IT'][i]}.txt", sep='\t', parse_dates=[3, 4])


L


for c in ['ukc', 'usc', 'it']:
    print(c, data_alt[c].columns)


dat_conv = {'ukc': 'uk2', 'mit': 'usc', 'it': 'it'}
for c in ['ukc', 'usc', 'it']:
    df = data_alt[c].copy(deep=True)
    lf = df.groupby('pair')[['a']].max()
    keep = lf.loc[lf['a'] <= L[dat_conv[c]]]
    df = df[df['pair'].isin(keep.index)]
    
    
    T = max(unf_calls['uclock'])
    df = unf_calls.copy(deep=True)
    df['ea'] = list(zip(df['ego'], df['alter']))
    df = df.sort_values(by=['ea', 'time'])
    df['shifted'] = df['time'].shift(-1)
    df['d'] = (df['shifted'] - df['time']).dt.total_seconds()
    torm = list(df.loc[df['d'] == 0].index)
    df = df.drop(torm)
    df = df.drop(columns = ['shifted', 'd'])
    ncalls = df.groupby('ea')[['time']].count().rename(columns={'time': 'ncalls'})
    ncalls = ncalls.loc[ncalls['ncalls'] > 2]
    df = df[df['ea'].isin(ncalls.index)]
    tmp = df.loc[df['uclock'] > (T - delta)]
    rmpairs = list(tmp['ea'].unique())
    df2 = df[~df['ea'].isin(rmpairs)]
    df3 = df2.drop(columns=['ea']).reset_index(drop=True)








globaltf = dt.datetime.now() - globalt0
print(f'This notebook took {globaltf}')
os.system(f"notify-send 'Notebook done' 'it took {globaltf}'")
