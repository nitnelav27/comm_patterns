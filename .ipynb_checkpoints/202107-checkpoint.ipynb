{
 "cells": [
  {
   "cell_type": "markdown",
   "id": "absolute-registrar",
   "metadata": {},
   "source": [
    "# Imports and Data"
   ]
  },
  {
   "cell_type": "code",
   "execution_count": 1,
   "id": "sensitive-junior",
   "metadata": {
    "execution": {
     "iopub.execute_input": "2021-07-07T18:45:09.196018Z",
     "iopub.status.busy": "2021-07-07T18:45:09.195873Z",
     "iopub.status.idle": "2021-07-07T18:45:10.141528Z",
     "shell.execute_reply": "2021-07-07T18:45:10.141143Z",
     "shell.execute_reply.started": "2021-07-07T18:45:09.195981Z"
    }
   },
   "outputs": [],
   "source": [
    "import numpy as np\n",
    "import pandas as pd\n",
    "import datetime as dt\n",
    "import os\n",
    "import matplotlib.pyplot as plt\n",
    "import phonecalls as pc\n",
    "import scipy.stats as stats\n",
    "import scipy.interpolate as interpol\n",
    "import time\n",
    "import copy\n",
    "import math\n",
    "\n",
    "\n",
    "plt.rcParams['figure.figsize'] = (20, 10)\n",
    "markers = ['o', 'v', 's', 'P', '*', 'X', 'd', 'x', 'D', '2', '+']\n",
    "colors = ['#348ABD', '#A60628', '#7A68A6', '#467821', '#D55E00', '#CC79A7', '#56B4E9', '#009E73', '#F0E442', '#0072B2']\n",
    "\n",
    "callsog = {}\n",
    "pairsog = {}\n",
    "livesog = {}\n",
    "\n",
    "globalt0 = dt.datetime.now()"
   ]
  },
  {
   "cell_type": "code",
   "execution_count": 2,
   "id": "ordinary-hunger",
   "metadata": {
    "execution": {
     "iopub.execute_input": "2021-07-07T18:45:54.504825Z",
     "iopub.status.busy": "2021-07-07T18:45:54.504702Z",
     "iopub.status.idle": "2021-07-07T18:45:55.184647Z",
     "shell.execute_reply": "2021-07-07T18:45:55.184213Z",
     "shell.execute_reply.started": "2021-07-07T18:45:54.504812Z"
    }
   },
   "outputs": [
    {
     "name": "stdout",
     "output_type": "stream",
     "text": [
      "CPU times: user 402 ms, sys: 45.3 ms, total: 447 ms\n",
      "Wall time: 479 ms\n",
      "CPU times: user 30.9 ms, sys: 1.27 ms, total: 32.2 ms\n",
      "Wall time: 33.8 ms\n",
      "CPU times: user 156 ms, sys: 0 ns, total: 156 ms\n",
      "Wall time: 157 ms\n"
     ]
    },
    {
     "data": {
      "text/html": [
       "<div>\n",
       "<style scoped>\n",
       "    .dataframe tbody tr th:only-of-type {\n",
       "        vertical-align: middle;\n",
       "    }\n",
       "\n",
       "    .dataframe tbody tr th {\n",
       "        vertical-align: top;\n",
       "    }\n",
       "\n",
       "    .dataframe thead th {\n",
       "        text-align: right;\n",
       "    }\n",
       "</style>\n",
       "<table border=\"1\" class=\"dataframe\">\n",
       "  <thead>\n",
       "    <tr style=\"text-align: right;\">\n",
       "      <th></th>\n",
       "      <th>ego</th>\n",
       "      <th>alter</th>\n",
       "      <th>time</th>\n",
       "      <th>uclock</th>\n",
       "      <th>aclock</th>\n",
       "    </tr>\n",
       "  </thead>\n",
       "  <tbody>\n",
       "    <tr>\n",
       "      <th>0</th>\n",
       "      <td>fa10-01-19</td>\n",
       "      <td>10153fa58c24d1a2eb54b3c6ac39482acb61131c</td>\n",
       "      <td>2010-12-31 16:44:24</td>\n",
       "      <td>307</td>\n",
       "      <td>0</td>\n",
       "    </tr>\n",
       "    <tr>\n",
       "      <th>1</th>\n",
       "      <td>fa10-01-22</td>\n",
       "      <td>101b96d65031e2792acd950125d90cf9ff30b5ac</td>\n",
       "      <td>2011-05-23 20:59:05</td>\n",
       "      <td>450</td>\n",
       "      <td>0</td>\n",
       "    </tr>\n",
       "    <tr>\n",
       "      <th>2</th>\n",
       "      <td>fa10-01-12</td>\n",
       "      <td>1023b616632f3ba048b2f1d1374788bfa0444a8d</td>\n",
       "      <td>2011-01-22 14:01:07</td>\n",
       "      <td>328</td>\n",
       "      <td>0</td>\n",
       "    </tr>\n",
       "    <tr>\n",
       "      <th>3</th>\n",
       "      <td>fa10-01-01</td>\n",
       "      <td>102c517fc9ecf84975448470893c3799f5588c8a</td>\n",
       "      <td>2011-05-27 17:52:56</td>\n",
       "      <td>454</td>\n",
       "      <td>0</td>\n",
       "    </tr>\n",
       "    <tr>\n",
       "      <th>4</th>\n",
       "      <td>fa10-01-07</td>\n",
       "      <td>102cd812edb5689302bcc57df8330cff44727bd1</td>\n",
       "      <td>2011-04-04 10:02:50</td>\n",
       "      <td>400</td>\n",
       "      <td>0</td>\n",
       "    </tr>\n",
       "  </tbody>\n",
       "</table>\n",
       "</div>"
      ],
      "text/plain": [
       "          ego                                     alter                time  \\\n",
       "0  fa10-01-19  10153fa58c24d1a2eb54b3c6ac39482acb61131c 2010-12-31 16:44:24   \n",
       "1  fa10-01-22  101b96d65031e2792acd950125d90cf9ff30b5ac 2011-05-23 20:59:05   \n",
       "2  fa10-01-12  1023b616632f3ba048b2f1d1374788bfa0444a8d 2011-01-22 14:01:07   \n",
       "3  fa10-01-01  102c517fc9ecf84975448470893c3799f5588c8a 2011-05-27 17:52:56   \n",
       "4  fa10-01-07  102cd812edb5689302bcc57df8330cff44727bd1 2011-04-04 10:02:50   \n",
       "\n",
       "   uclock  aclock  \n",
       "0     307       0  \n",
       "1     450       0  \n",
       "2     328       0  \n",
       "3     454       0  \n",
       "4     400       0  "
      ]
     },
     "execution_count": 2,
     "metadata": {},
     "output_type": "execute_result"
    }
   ],
   "source": [
    "%time callsog['mit'] = pc.allcalls('CallLog.csv', (), 'participantID.A', 'number.hash', ['local_time'], \"%Y-%m-%d %H:%M:%S\", header=True, min_activity=1)\n",
    "%time pairsog['mit'] = pc.pairs(callsog['mit'])\n",
    "%time livesog['mit'] = pc.lives_dictionary(callsog['mit'])\n",
    "callsog['mit'].head()"
   ]
  },
  {
   "cell_type": "code",
   "execution_count": null,
   "id": "nervous-shame",
   "metadata": {},
   "outputs": [],
   "source": []
  }
 ],
 "metadata": {
  "kernelspec": {
   "display_name": "Python 3",
   "language": "python",
   "name": "python3"
  },
  "language_info": {
   "codemirror_mode": {
    "name": "ipython",
    "version": 3
   },
   "file_extension": ".py",
   "mimetype": "text/x-python",
   "name": "python",
   "nbconvert_exporter": "python",
   "pygments_lexer": "ipython3",
   "version": "3.9.6"
  }
 },
 "nbformat": 4,
 "nbformat_minor": 5
}
