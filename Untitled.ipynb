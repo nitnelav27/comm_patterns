{
 "cells": [
  {
   "cell_type": "code",
   "execution_count": 1,
   "id": "070ced8d-c48f-4d77-8229-b8a509ba6f72",
   "metadata": {
    "execution": {
     "iopub.execute_input": "2022-02-07T18:45:22.489525Z",
     "iopub.status.busy": "2022-02-07T18:45:22.489345Z",
     "iopub.status.idle": "2022-02-07T18:45:22.581811Z",
     "shell.execute_reply": "2022-02-07T18:45:22.581514Z",
     "shell.execute_reply.started": "2022-02-07T18:45:22.489479Z"
    }
   },
   "outputs": [],
   "source": [
    "import bs4 as bs"
   ]
  },
  {
   "cell_type": "code",
   "execution_count": null,
   "id": "14dd0620-6ca5-4444-a40f-4d21967c98fe",
   "metadata": {},
   "outputs": [],
   "source": [
    "bs."
   ]
  }
 ],
 "metadata": {
  "kernelspec": {
   "display_name": "Python 3 (ipykernel)",
   "language": "python",
   "name": "python3"
  },
  "language_info": {
   "codemirror_mode": {
    "name": "ipython",
    "version": 3
   },
   "file_extension": ".py",
   "mimetype": "text/x-python",
   "name": "python",
   "nbconvert_exporter": "python",
   "pygments_lexer": "ipython3",
   "version": "3.10.2"
  }
 },
 "nbformat": 4,
 "nbformat_minor": 5
}
