{
 "cells": [
  {
   "cell_type": "markdown",
   "id": "ideal-joint",
   "metadata": {},
   "source": [
    "# Imports and Data"
   ]
  },
  {
   "cell_type": "code",
   "execution_count": 1,
   "id": "injured-destruction",
   "metadata": {
    "execution": {
     "iopub.execute_input": "2021-11-07T14:16:35.246171Z",
     "iopub.status.busy": "2021-11-07T14:16:35.246020Z",
     "iopub.status.idle": "2021-11-07T14:16:36.687792Z",
     "shell.execute_reply": "2021-11-07T14:16:36.687346Z",
     "shell.execute_reply.started": "2021-11-07T14:16:35.246133Z"
    },
    "tags": []
   },
   "outputs": [],
   "source": [
    "import numpy as np\n",
    "import pandas as pd\n",
    "import datetime as dt\n",
    "import os\n",
    "import matplotlib.pyplot as plt\n",
    "import phonecalls as pc\n",
    "import scipy.stats as stats\n",
    "import scipy.interpolate as interpol\n",
    "import time\n",
    "import copy\n",
    "import math\n",
    "import pickle\n",
    "\n",
    "\n",
    "plt.rcParams['figure.figsize'] = (20, 10)\n",
    "markers = ['o', 'v', 's', 'P', '*', 'X', 'd', 'x', 'D', '2', '+']\n",
    "colors = ['#348ABD', '#A60628', '#7A68A6', '#467821', '#D55E00', '#CC79A7', '#56B4E9', '#009E73', '#F0E442', '#0072B2']\n",
    "\n",
    "with open('unfiltered.pkl', 'rb') as handle:\n",
    "    unfiltered = pickle.load(handle)\n",
    "handle.close()\n",
    "\n",
    "with open('filtered.pkl', 'rb') as handle:\n",
    "    filtered = pickle.load(handle)\n",
    "handle.close()\n",
    "\n",
    "with open('filterednc.pkl', 'rb') as handle:\n",
    "    filterednc = pickle.load(handle)\n",
    "handle.close()\n",
    "\n",
    "import statsmodels.api as sm\n",
    "\n",
    "globalt0 = dt.datetime.now()"
   ]
  },
  {
   "cell_type": "markdown",
   "id": "prepared-douglas",
   "metadata": {},
   "source": [
    "# Supplemental Information\n",
    "\n",
    "This section recreates all plots for the SI with the data exports to create the plots in TiKz"
   ]
  },
  {
   "cell_type": "markdown",
   "id": "precise-baghdad",
   "metadata": {},
   "source": [
    "## Different values of $T$"
   ]
  },
  {
   "cell_type": "code",
   "execution_count": 2,
   "id": "played-break",
   "metadata": {
    "execution": {
     "iopub.execute_input": "2021-11-07T14:16:36.688624Z",
     "iopub.status.busy": "2021-11-07T14:16:36.688503Z",
     "iopub.status.idle": "2021-11-07T14:16:36.692224Z",
     "shell.execute_reply": "2021-11-07T14:16:36.691857Z",
     "shell.execute_reply.started": "2021-11-07T14:16:36.688609Z"
    },
    "tags": []
   },
   "outputs": [
    {
     "data": {
      "text/plain": [
       "dict_keys(['mit', 'uk1', 'uk2', 'uk', 'all'])"
      ]
     },
     "execution_count": 2,
     "metadata": {},
     "output_type": "execute_result"
    }
   ],
   "source": [
    "unfiltered.keys()"
   ]
  },
  {
   "cell_type": "code",
   "execution_count": 3,
   "id": "liquid-phone",
   "metadata": {
    "execution": {
     "iopub.execute_input": "2021-11-07T14:16:36.693123Z",
     "iopub.status.busy": "2021-11-07T14:16:36.693013Z",
     "iopub.status.idle": "2021-11-07T14:16:41.112002Z",
     "shell.execute_reply": "2021-11-07T14:16:41.109298Z",
     "shell.execute_reply.started": "2021-11-07T14:16:36.693109Z"
    },
    "tags": []
   },
   "outputs": [
    {
     "ename": "KeyboardInterrupt",
     "evalue": "",
     "output_type": "error",
     "traceback": [
      "\u001b[0;31m---------------------------------------------------------------------------\u001b[0m",
      "\u001b[0;31mKeyboardInterrupt\u001b[0m                         Traceback (most recent call last)",
      "\u001b[0;32m<ipython-input-3-d95269d3fde4>\u001b[0m in \u001b[0;36m<module>\u001b[0;34m\u001b[0m\n\u001b[1;32m     17\u001b[0m                     \u001b[0mdf3\u001b[0m \u001b[0;34m=\u001b[0m \u001b[0mdf2\u001b[0m\u001b[0;34m.\u001b[0m\u001b[0mcopy\u001b[0m\u001b[0;34m(\u001b[0m\u001b[0;34m)\u001b[0m\u001b[0;34m\u001b[0m\u001b[0;34m\u001b[0m\u001b[0m\n\u001b[1;32m     18\u001b[0m                     \u001b[0mdf3\u001b[0m\u001b[0;34m[\u001b[0m\u001b[0;34m'aclock'\u001b[0m\u001b[0;34m]\u001b[0m \u001b[0;34m=\u001b[0m \u001b[0mdf2\u001b[0m\u001b[0;34m[\u001b[0m\u001b[0;34m'uclock'\u001b[0m\u001b[0;34m]\u001b[0m \u001b[0;34m-\u001b[0m \u001b[0mmint\u001b[0m\u001b[0;34m\u001b[0m\u001b[0;34m\u001b[0m\u001b[0m\n\u001b[0;32m---> 19\u001b[0;31m                     \u001b[0muno\u001b[0m \u001b[0;34m=\u001b[0m \u001b[0muno\u001b[0m\u001b[0;34m.\u001b[0m\u001b[0mappend\u001b[0m\u001b[0;34m(\u001b[0m\u001b[0mdf3\u001b[0m\u001b[0;34m)\u001b[0m\u001b[0;34m.\u001b[0m\u001b[0mreset_index\u001b[0m\u001b[0;34m(\u001b[0m\u001b[0mdrop\u001b[0m\u001b[0;34m=\u001b[0m\u001b[0;32mTrue\u001b[0m\u001b[0;34m)\u001b[0m\u001b[0;34m\u001b[0m\u001b[0;34m\u001b[0m\u001b[0m\n\u001b[0m\u001b[1;32m     20\u001b[0m         \u001b[0mcallT\u001b[0m\u001b[0;34m[\u001b[0m\u001b[0mc\u001b[0m\u001b[0;34m]\u001b[0m\u001b[0;34m[\u001b[0m\u001b[0mT\u001b[0m\u001b[0;34m]\u001b[0m \u001b[0;34m=\u001b[0m \u001b[0muno\u001b[0m\u001b[0;34m\u001b[0m\u001b[0;34m\u001b[0m\u001b[0m\n\u001b[1;32m     21\u001b[0m \u001b[0mprint\u001b[0m\u001b[0;34m(\u001b[0m\u001b[0;34mf'Took {dt.datetime.now() - t0}'\u001b[0m\u001b[0;34m)\u001b[0m\u001b[0;34m\u001b[0m\u001b[0;34m\u001b[0m\u001b[0m\n",
      "\u001b[0;32m~/.local/lib/python3.9/site-packages/pandas/core/frame.py\u001b[0m in \u001b[0;36mappend\u001b[0;34m(self, other, ignore_index, verify_integrity, sort)\u001b[0m\n\u001b[1;32m   7977\u001b[0m             \u001b[0mto_concat\u001b[0m \u001b[0;34m=\u001b[0m \u001b[0;34m[\u001b[0m\u001b[0mself\u001b[0m\u001b[0;34m,\u001b[0m \u001b[0mother\u001b[0m\u001b[0;34m]\u001b[0m\u001b[0;34m\u001b[0m\u001b[0;34m\u001b[0m\u001b[0m\n\u001b[1;32m   7978\u001b[0m         return (\n\u001b[0;32m-> 7979\u001b[0;31m             concat(\n\u001b[0m\u001b[1;32m   7980\u001b[0m                 \u001b[0mto_concat\u001b[0m\u001b[0;34m,\u001b[0m\u001b[0;34m\u001b[0m\u001b[0;34m\u001b[0m\u001b[0m\n\u001b[1;32m   7981\u001b[0m                 \u001b[0mignore_index\u001b[0m\u001b[0;34m=\u001b[0m\u001b[0mignore_index\u001b[0m\u001b[0;34m,\u001b[0m\u001b[0;34m\u001b[0m\u001b[0;34m\u001b[0m\u001b[0m\n",
      "\u001b[0;32m~/.local/lib/python3.9/site-packages/pandas/core/reshape/concat.py\u001b[0m in \u001b[0;36mconcat\u001b[0;34m(objs, axis, join, ignore_index, keys, levels, names, verify_integrity, sort, copy)\u001b[0m\n\u001b[1;32m    296\u001b[0m     )\n\u001b[1;32m    297\u001b[0m \u001b[0;34m\u001b[0m\u001b[0m\n\u001b[0;32m--> 298\u001b[0;31m     \u001b[0;32mreturn\u001b[0m \u001b[0mop\u001b[0m\u001b[0;34m.\u001b[0m\u001b[0mget_result\u001b[0m\u001b[0;34m(\u001b[0m\u001b[0;34m)\u001b[0m\u001b[0;34m\u001b[0m\u001b[0;34m\u001b[0m\u001b[0m\n\u001b[0m\u001b[1;32m    299\u001b[0m \u001b[0;34m\u001b[0m\u001b[0m\n\u001b[1;32m    300\u001b[0m \u001b[0;34m\u001b[0m\u001b[0m\n",
      "\u001b[0;32m~/.local/lib/python3.9/site-packages/pandas/core/reshape/concat.py\u001b[0m in \u001b[0;36mget_result\u001b[0;34m(self)\u001b[0m\n\u001b[1;32m    518\u001b[0m                 \u001b[0mmgrs_indexers\u001b[0m\u001b[0;34m.\u001b[0m\u001b[0mappend\u001b[0m\u001b[0;34m(\u001b[0m\u001b[0;34m(\u001b[0m\u001b[0mobj\u001b[0m\u001b[0;34m.\u001b[0m\u001b[0m_mgr\u001b[0m\u001b[0;34m,\u001b[0m \u001b[0mindexers\u001b[0m\u001b[0;34m)\u001b[0m\u001b[0;34m)\u001b[0m\u001b[0;34m\u001b[0m\u001b[0;34m\u001b[0m\u001b[0m\n\u001b[1;32m    519\u001b[0m \u001b[0;34m\u001b[0m\u001b[0m\n\u001b[0;32m--> 520\u001b[0;31m             new_data = concatenate_block_managers(\n\u001b[0m\u001b[1;32m    521\u001b[0m                 \u001b[0mmgrs_indexers\u001b[0m\u001b[0;34m,\u001b[0m \u001b[0mself\u001b[0m\u001b[0;34m.\u001b[0m\u001b[0mnew_axes\u001b[0m\u001b[0;34m,\u001b[0m \u001b[0mconcat_axis\u001b[0m\u001b[0;34m=\u001b[0m\u001b[0mself\u001b[0m\u001b[0;34m.\u001b[0m\u001b[0mbm_axis\u001b[0m\u001b[0;34m,\u001b[0m \u001b[0mcopy\u001b[0m\u001b[0;34m=\u001b[0m\u001b[0mself\u001b[0m\u001b[0;34m.\u001b[0m\u001b[0mcopy\u001b[0m\u001b[0;34m\u001b[0m\u001b[0;34m\u001b[0m\u001b[0m\n\u001b[1;32m    522\u001b[0m             )\n",
      "\u001b[0;32m~/.local/lib/python3.9/site-packages/pandas/core/internals/concat.py\u001b[0m in \u001b[0;36mconcatenate_block_managers\u001b[0;34m(mgrs_indexers, axes, concat_axis, copy)\u001b[0m\n\u001b[1;32m     71\u001b[0m \u001b[0;34m\u001b[0m\u001b[0m\n\u001b[1;32m     72\u001b[0m             \u001b[0;32mif\u001b[0m \u001b[0;32mnot\u001b[0m \u001b[0mblk\u001b[0m\u001b[0;34m.\u001b[0m\u001b[0mis_extension\u001b[0m\u001b[0;34m:\u001b[0m\u001b[0;34m\u001b[0m\u001b[0;34m\u001b[0m\u001b[0m\n\u001b[0;32m---> 73\u001b[0;31m                 \u001b[0mvalues\u001b[0m \u001b[0;34m=\u001b[0m \u001b[0mconcat_compat\u001b[0m\u001b[0;34m(\u001b[0m\u001b[0mvals\u001b[0m\u001b[0;34m,\u001b[0m \u001b[0maxis\u001b[0m\u001b[0;34m=\u001b[0m\u001b[0mblk\u001b[0m\u001b[0;34m.\u001b[0m\u001b[0mndim\u001b[0m \u001b[0;34m-\u001b[0m \u001b[0;36m1\u001b[0m\u001b[0;34m)\u001b[0m\u001b[0;34m\u001b[0m\u001b[0;34m\u001b[0m\u001b[0m\n\u001b[0m\u001b[1;32m     74\u001b[0m             \u001b[0;32melse\u001b[0m\u001b[0;34m:\u001b[0m\u001b[0;34m\u001b[0m\u001b[0;34m\u001b[0m\u001b[0m\n\u001b[1;32m     75\u001b[0m                 \u001b[0;31m# TODO(EA2D): special-casing not needed with 2D EAs\u001b[0m\u001b[0;34m\u001b[0m\u001b[0;34m\u001b[0m\u001b[0m\n",
      "\u001b[0;32m~/.local/lib/python3.9/site-packages/pandas/core/dtypes/concat.py\u001b[0m in \u001b[0;36mconcat_compat\u001b[0;34m(to_concat, axis)\u001b[0m\n\u001b[1;32m    153\u001b[0m \u001b[0;34m\u001b[0m\u001b[0m\n\u001b[1;32m    154\u001b[0m     \u001b[0;32melif\u001b[0m \u001b[0m_contains_datetime\u001b[0m \u001b[0;32mor\u001b[0m \u001b[0;34m\"timedelta\"\u001b[0m \u001b[0;32min\u001b[0m \u001b[0mtyps\u001b[0m\u001b[0;34m:\u001b[0m\u001b[0;34m\u001b[0m\u001b[0;34m\u001b[0m\u001b[0m\n\u001b[0;32m--> 155\u001b[0;31m         \u001b[0;32mreturn\u001b[0m \u001b[0m_concat_datetime\u001b[0m\u001b[0;34m(\u001b[0m\u001b[0mto_concat\u001b[0m\u001b[0;34m,\u001b[0m \u001b[0maxis\u001b[0m\u001b[0;34m=\u001b[0m\u001b[0maxis\u001b[0m\u001b[0;34m)\u001b[0m\u001b[0;34m\u001b[0m\u001b[0;34m\u001b[0m\u001b[0m\n\u001b[0m\u001b[1;32m    156\u001b[0m \u001b[0;34m\u001b[0m\u001b[0m\n\u001b[1;32m    157\u001b[0m     \u001b[0;32melif\u001b[0m \u001b[0mall_empty\u001b[0m\u001b[0;34m:\u001b[0m\u001b[0;34m\u001b[0m\u001b[0;34m\u001b[0m\u001b[0m\n",
      "\u001b[0;32m~/.local/lib/python3.9/site-packages/pandas/core/dtypes/concat.py\u001b[0m in \u001b[0;36m_concat_datetime\u001b[0;34m(to_concat, axis)\u001b[0m\n\u001b[1;32m    375\u001b[0m         \u001b[0mto_concat\u001b[0m \u001b[0;34m=\u001b[0m \u001b[0;34m[\u001b[0m\u001b[0mx\u001b[0m\u001b[0;34m.\u001b[0m\u001b[0mreshape\u001b[0m\u001b[0;34m(\u001b[0m\u001b[0;36m1\u001b[0m\u001b[0;34m,\u001b[0m \u001b[0;34m-\u001b[0m\u001b[0;36m1\u001b[0m\u001b[0;34m)\u001b[0m \u001b[0;32mif\u001b[0m \u001b[0mx\u001b[0m\u001b[0;34m.\u001b[0m\u001b[0mndim\u001b[0m \u001b[0;34m==\u001b[0m \u001b[0;36m1\u001b[0m \u001b[0;32melse\u001b[0m \u001b[0mx\u001b[0m \u001b[0;32mfor\u001b[0m \u001b[0mx\u001b[0m \u001b[0;32min\u001b[0m \u001b[0mto_concat\u001b[0m\u001b[0;34m]\u001b[0m\u001b[0;34m\u001b[0m\u001b[0;34m\u001b[0m\u001b[0m\n\u001b[1;32m    376\u001b[0m \u001b[0;34m\u001b[0m\u001b[0m\n\u001b[0;32m--> 377\u001b[0;31m     \u001b[0mresult\u001b[0m \u001b[0;34m=\u001b[0m \u001b[0mtype\u001b[0m\u001b[0;34m(\u001b[0m\u001b[0mto_concat\u001b[0m\u001b[0;34m[\u001b[0m\u001b[0;36m0\u001b[0m\u001b[0;34m]\u001b[0m\u001b[0;34m)\u001b[0m\u001b[0;34m.\u001b[0m\u001b[0m_concat_same_type\u001b[0m\u001b[0;34m(\u001b[0m\u001b[0mto_concat\u001b[0m\u001b[0;34m,\u001b[0m \u001b[0maxis\u001b[0m\u001b[0;34m=\u001b[0m\u001b[0maxis\u001b[0m\u001b[0;34m)\u001b[0m\u001b[0;34m\u001b[0m\u001b[0;34m\u001b[0m\u001b[0m\n\u001b[0m\u001b[1;32m    378\u001b[0m \u001b[0;34m\u001b[0m\u001b[0m\n\u001b[1;32m    379\u001b[0m     \u001b[0;32mif\u001b[0m \u001b[0mresult\u001b[0m\u001b[0;34m.\u001b[0m\u001b[0mndim\u001b[0m \u001b[0;34m==\u001b[0m \u001b[0;36m2\u001b[0m \u001b[0;32mand\u001b[0m \u001b[0mis_extension_array_dtype\u001b[0m\u001b[0;34m(\u001b[0m\u001b[0mresult\u001b[0m\u001b[0;34m.\u001b[0m\u001b[0mdtype\u001b[0m\u001b[0;34m)\u001b[0m\u001b[0;34m:\u001b[0m\u001b[0;34m\u001b[0m\u001b[0;34m\u001b[0m\u001b[0m\n",
      "\u001b[0;32m~/.local/lib/python3.9/site-packages/pandas/core/arrays/datetimelike.py\u001b[0m in \u001b[0;36m_concat_same_type\u001b[0;34m(cls, to_concat, axis)\u001b[0m\n\u001b[1;32m    390\u001b[0m         \u001b[0maxis\u001b[0m\u001b[0;34m:\u001b[0m \u001b[0mint\u001b[0m \u001b[0;34m=\u001b[0m \u001b[0;36m0\u001b[0m\u001b[0;34m,\u001b[0m\u001b[0;34m\u001b[0m\u001b[0;34m\u001b[0m\u001b[0m\n\u001b[1;32m    391\u001b[0m     ) -> DatetimeLikeArrayT:\n\u001b[0;32m--> 392\u001b[0;31m         \u001b[0mnew_obj\u001b[0m \u001b[0;34m=\u001b[0m \u001b[0msuper\u001b[0m\u001b[0;34m(\u001b[0m\u001b[0;34m)\u001b[0m\u001b[0;34m.\u001b[0m\u001b[0m_concat_same_type\u001b[0m\u001b[0;34m(\u001b[0m\u001b[0mto_concat\u001b[0m\u001b[0;34m,\u001b[0m \u001b[0maxis\u001b[0m\u001b[0;34m)\u001b[0m\u001b[0;34m\u001b[0m\u001b[0;34m\u001b[0m\u001b[0m\n\u001b[0m\u001b[1;32m    393\u001b[0m \u001b[0;34m\u001b[0m\u001b[0m\n\u001b[1;32m    394\u001b[0m         \u001b[0mobj\u001b[0m \u001b[0;34m=\u001b[0m \u001b[0mto_concat\u001b[0m\u001b[0;34m[\u001b[0m\u001b[0;36m0\u001b[0m\u001b[0;34m]\u001b[0m\u001b[0;34m\u001b[0m\u001b[0;34m\u001b[0m\u001b[0m\n",
      "\u001b[0;32m~/.local/lib/python3.9/site-packages/pandas/core/arrays/_mixins.py\u001b[0m in \u001b[0;36m_concat_same_type\u001b[0;34m(cls, to_concat, axis)\u001b[0m\n\u001b[1;32m    183\u001b[0m \u001b[0;34m\u001b[0m\u001b[0m\n\u001b[1;32m    184\u001b[0m         \u001b[0mnew_values\u001b[0m \u001b[0;34m=\u001b[0m \u001b[0;34m[\u001b[0m\u001b[0mx\u001b[0m\u001b[0;34m.\u001b[0m\u001b[0m_ndarray\u001b[0m \u001b[0;32mfor\u001b[0m \u001b[0mx\u001b[0m \u001b[0;32min\u001b[0m \u001b[0mto_concat\u001b[0m\u001b[0;34m]\u001b[0m\u001b[0;34m\u001b[0m\u001b[0;34m\u001b[0m\u001b[0m\n\u001b[0;32m--> 185\u001b[0;31m         \u001b[0mnew_values\u001b[0m \u001b[0;34m=\u001b[0m \u001b[0mnp\u001b[0m\u001b[0;34m.\u001b[0m\u001b[0mconcatenate\u001b[0m\u001b[0;34m(\u001b[0m\u001b[0mnew_values\u001b[0m\u001b[0;34m,\u001b[0m \u001b[0maxis\u001b[0m\u001b[0;34m=\u001b[0m\u001b[0maxis\u001b[0m\u001b[0;34m)\u001b[0m\u001b[0;34m\u001b[0m\u001b[0;34m\u001b[0m\u001b[0m\n\u001b[0m\u001b[1;32m    186\u001b[0m         \u001b[0;32mreturn\u001b[0m \u001b[0mto_concat\u001b[0m\u001b[0;34m[\u001b[0m\u001b[0;36m0\u001b[0m\u001b[0;34m]\u001b[0m\u001b[0;34m.\u001b[0m\u001b[0m_from_backing_data\u001b[0m\u001b[0;34m(\u001b[0m\u001b[0mnew_values\u001b[0m\u001b[0;34m)\u001b[0m\u001b[0;34m\u001b[0m\u001b[0;34m\u001b[0m\u001b[0m\n\u001b[1;32m    187\u001b[0m \u001b[0;34m\u001b[0m\u001b[0m\n",
      "\u001b[0;32m<__array_function__ internals>\u001b[0m in \u001b[0;36mconcatenate\u001b[0;34m(*args, **kwargs)\u001b[0m\n",
      "\u001b[0;31mKeyboardInterrupt\u001b[0m: "
     ]
    }
   ],
   "source": [
    "t0 = dt.datetime.now()\n",
    "\n",
    "callT = {}\n",
    "for c in ['uk', 'uk2', 'mit']:\n",
    "    df = unfiltered[c]\n",
    "    callT[c] = {}\n",
    "    for T in [150, 200, 250, 300]:\n",
    "        callT[c][T] = df.loc[df['aclock'] <= T]\n",
    "        uno = pd.DataFrame()\n",
    "        maxt = max(callT[c][T]['uclock'])\n",
    "        for ego in callT[c][T]['ego'].unique():\n",
    "            df1 = callT[c][T].loc[callT[c][T]['ego'] == ego]\n",
    "            for alter in df1['alter'].unique():\n",
    "                df2 = df1.loc[df1['alter'] == alter]\n",
    "                mint = min(df2['uclock'])\n",
    "                if mint < (maxt - T):\n",
    "                    df3 = df2.copy()\n",
    "                    df3['aclock'] = df2['uclock'] - mint\n",
    "                    uno = uno.append(df3).reset_index(drop=True)\n",
    "        callT[c][T] = uno\n",
    "print(f'Took {dt.datetime.now() - t0}')"
   ]
  },
  {
   "cell_type": "code",
   "execution_count": null,
   "id": "killing-arrest",
   "metadata": {
    "execution": {
     "iopub.status.busy": "2021-11-07T14:16:41.112545Z",
     "iopub.status.idle": "2021-11-07T14:16:41.112694Z",
     "shell.execute_reply": "2021-11-07T14:16:41.112623Z"
    },
    "tags": []
   },
   "outputs": [],
   "source": [
    "supA = {}\n",
    "for c in callT.keys():\n",
    "    supA[c] = {}\n",
    "    for T in callT[c].keys():\n",
    "        dff = pc.get_f(callT[c][T], 'all', 15, (T//3) + 1)\n",
    "        b = pc.get_b(dff, 'alpha')\n",
    "        supA[c][T] = pc.plot_g(b, 'alpha')"
   ]
  },
  {
   "cell_type": "code",
   "execution_count": null,
   "id": "played-projector",
   "metadata": {
    "execution": {
     "iopub.status.busy": "2021-11-07T14:16:41.113147Z",
     "iopub.status.idle": "2021-11-07T14:16:41.113292Z",
     "shell.execute_reply": "2021-11-07T14:16:41.113222Z"
    },
    "tags": []
   },
   "outputs": [],
   "source": [
    "with open('../itdata/mtl_supA.pickle', 'rb') as handle:\n",
    "    tmp = pickle.load(handle)\n",
    "    handle.close()\n",
    "    \n",
    "supA['it'] = {}    \n",
    "for T in tmp.keys():\n",
    "    b = pc.get_b(tmp[T], 'alpha')\n",
    "    supA['it'][T] = pc.plot_g(b, 'alpha')"
   ]
  },
  {
   "cell_type": "code",
   "execution_count": null,
   "id": "answering-research",
   "metadata": {
    "execution": {
     "iopub.status.busy": "2021-11-07T14:16:41.113806Z",
     "iopub.status.idle": "2021-11-07T14:16:41.114001Z",
     "shell.execute_reply": "2021-11-07T14:16:41.113930Z"
    },
    "tags": []
   },
   "outputs": [],
   "source": [
    "plt.figure(figsize=(48, 24))\n",
    "labels = ['Short Lifetime', 'Middle Lifetime', 'Long Lifetime']\n",
    "p = 1\n",
    "for T in supA['uk'].keys():\n",
    "    for c in supA.keys():\n",
    "        plt.subplot(4,4,p)\n",
    "        plt.xlabel(f\"Lapse in 15 day bins. Max T = {T}. Cohort {c}\")\n",
    "        plt.ylabel(fr\"Calls during 15 days.\")\n",
    "        for l in supA[c][T].keys():\n",
    "            plt.plot(supA[c][T][int(l)].index, supA[c][T][l]['alpha'], marker=markers[int(l)], markersize=15, ls=\"--\", label=labels[int(l)])\n",
    "        plt.legend()\n",
    "        p += 1"
   ]
  },
  {
   "cell_type": "code",
   "execution_count": null,
   "id": "visible-investigator",
   "metadata": {
    "execution": {
     "iopub.status.busy": "2021-11-07T14:16:41.114510Z",
     "iopub.status.idle": "2021-11-07T14:16:41.114653Z",
     "shell.execute_reply": "2021-11-07T14:16:41.114583Z"
    },
    "scrolled": true,
    "tags": []
   },
   "outputs": [],
   "source": [
    "lines = {}\n",
    "lines[150] = {}\n",
    "for lamb in range(3):\n",
    "    lines[150][lamb] = (1, (lamb + 1)*3)\n",
    "lines[200] = {}\n",
    "for lamb in range(3):\n",
    "    lines[200][lamb] = (1, [4,8,11][lamb])\n",
    "lines[250] = {}\n",
    "for lamb in range(3):\n",
    "    lines[250][lamb] = (1, [5, 10, 14][lamb])\n",
    "lines[300] = {}\n",
    "for lamb in range(3):\n",
    "    lines[300][lamb] = (1, [6, 13, 18][lamb])"
   ]
  },
  {
   "cell_type": "code",
   "execution_count": null,
   "id": "spectacular-diesel",
   "metadata": {
    "execution": {
     "iopub.status.busy": "2021-11-07T14:16:41.115016Z",
     "iopub.status.idle": "2021-11-07T14:16:41.115160Z",
     "shell.execute_reply": "2021-11-07T14:16:41.115090Z"
    },
    "tags": []
   },
   "outputs": [],
   "source": [
    "for c in supA.keys():\n",
    "    print(f'======================={c}=====================')\n",
    "    for T in supA[c].keys():\n",
    "        print(f'===={T}====')\n",
    "        for lamb in supA[c][T].keys():\n",
    "            df = supA[c][T][lamb].loc[(supA[c][T][lamb].index >= lines[T][lamb][0]) & (supA[c][T][lamb].index <= lines[T][lamb][1])]\n",
    "            h = np.mean(df['alpha'])\n",
    "            print(f'\\draw[dashed, {[\"charmander\", \"squirtle\", \"ekans\"][int(lamb)]}, ultra thick] (axis cs: {lines[T][lamb][0]}, {h}) -- (axis cs: {lines[T][lamb][1]}, {h});')"
   ]
  },
  {
   "cell_type": "code",
   "execution_count": null,
   "id": "clinical-mirror",
   "metadata": {
    "execution": {
     "iopub.status.busy": "2021-11-07T14:16:41.115702Z",
     "iopub.status.idle": "2021-11-07T14:16:41.115847Z",
     "shell.execute_reply": "2021-11-07T14:16:41.115777Z"
    },
    "tags": []
   },
   "outputs": [],
   "source": [
    "# for c in supA.keys():\n",
    "#     tmp = pd.DataFrame(index=list(range(21)))\n",
    "#     for T in supA[c].keys():\n",
    "#         for lamb in supA[c][T].keys():\n",
    "#             df = supA[c][T][lamb]\n",
    "#             if lamb == 2:\n",
    "#                 df = df.loc[df.index < list(df.index)[-1]] # To crop the last part of the longer lifetime series\n",
    "#             df.columns = [f'T{T}l{int(lamb)}']\n",
    "#             tmp = tmp.merge(df, left_index=True, right_index=True, how='outer')\n",
    "#         tmp.index.rename('a', inplace=True)\n",
    "#         tmp.fillna('nan', inplace=True)\n",
    "#         tmp.to_csv(f\"../commpatterns/PNAS_paper/SI/figs/SIa_{c}.dat\", header=True, sep=\"\\t\")"
   ]
  },
  {
   "cell_type": "markdown",
   "id": "looking-seminar",
   "metadata": {},
   "source": [
    "## Changes in $\\Delta a$ for fig 2"
   ]
  },
  {
   "cell_type": "code",
   "execution_count": null,
   "id": "ahead-calculation",
   "metadata": {
    "execution": {
     "iopub.status.busy": "2021-11-07T14:16:41.116364Z",
     "iopub.status.idle": "2021-11-07T14:16:41.116510Z",
     "shell.execute_reply": "2021-11-07T14:16:41.116439Z"
    },
    "tags": []
   },
   "outputs": [],
   "source": [
    "calls = {}\n",
    "for c in callT.keys():\n",
    "    calls[c] = callT[c][200]"
   ]
  },
  {
   "cell_type": "code",
   "execution_count": null,
   "id": "productive-lexington",
   "metadata": {
    "execution": {
     "iopub.status.busy": "2021-11-07T14:16:41.116989Z",
     "iopub.status.idle": "2021-11-07T14:16:41.117134Z",
     "shell.execute_reply": "2021-11-07T14:16:41.117064Z"
    },
    "tags": []
   },
   "outputs": [],
   "source": [
    "supB = {}\n",
    "for c in calls.keys():\n",
    "    supB[c] = {}\n",
    "    for Da in [7, 15, 30, 45]:\n",
    "        dff = pc.get_f(calls[c], 'all', Da, 67)\n",
    "        b = pc.get_b(dff, 'alpha')\n",
    "        supB[c][Da] = pc.plot_g(b, 'alpha')"
   ]
  },
  {
   "cell_type": "code",
   "execution_count": null,
   "id": "sexual-flashing",
   "metadata": {
    "execution": {
     "iopub.status.busy": "2021-11-07T14:16:41.117625Z",
     "iopub.status.idle": "2021-11-07T14:16:41.117770Z",
     "shell.execute_reply": "2021-11-07T14:16:41.117699Z"
    },
    "tags": []
   },
   "outputs": [],
   "source": [
    "with open('../itdata/mtl_supB.pickle', 'rb') as handle:\n",
    "    tmp = pickle.load(handle)\n",
    "    handle.close()\n",
    "    \n",
    "supB['it'] = {}    \n",
    "for Da in tmp.keys():\n",
    "    b = pc.get_b(tmp[Da], 'alpha')\n",
    "    supB['it'][Da] = pc.plot_g(b, 'alpha')"
   ]
  },
  {
   "cell_type": "code",
   "execution_count": null,
   "id": "applied-taxation",
   "metadata": {
    "execution": {
     "iopub.status.busy": "2021-11-07T14:16:41.118283Z",
     "iopub.status.idle": "2021-11-07T14:16:41.118426Z",
     "shell.execute_reply": "2021-11-07T14:16:41.118357Z"
    },
    "tags": []
   },
   "outputs": [],
   "source": [
    "plt.figure(figsize=(48, 24))\n",
    "labels = ['Short Lifetime', 'Middle Lifetime', 'Long Lifetime']\n",
    "p = 1\n",
    "for Da in supB['uk'].keys():\n",
    "    for c in supB.keys():\n",
    "        plt.subplot(4,4,p)\n",
    "        plt.xlabel(f\"Lapse in {Da} day bins. Cohort {c}\")\n",
    "        plt.ylabel(fr\"Calls during 15 days.\")\n",
    "        for l in supB[c][Da].keys():\n",
    "            plt.plot(supB[c][Da][int(l)].index, supB[c][Da][l]['alpha'], marker=markers[int(l)], markersize=15, ls=\"--\", label=labels[int(l)])\n",
    "        plt.legend()\n",
    "        p += 1"
   ]
  },
  {
   "cell_type": "code",
   "execution_count": null,
   "id": "atomic-trash",
   "metadata": {
    "execution": {
     "iopub.status.busy": "2021-11-07T14:16:41.119001Z",
     "iopub.status.idle": "2021-11-07T14:16:41.119148Z",
     "shell.execute_reply": "2021-11-07T14:16:41.119077Z"
    },
    "tags": []
   },
   "outputs": [],
   "source": [
    "supB['uk'].keys()"
   ]
  },
  {
   "cell_type": "code",
   "execution_count": null,
   "id": "involved-stopping",
   "metadata": {
    "execution": {
     "iopub.status.busy": "2021-11-07T14:16:41.119619Z",
     "iopub.status.idle": "2021-11-07T14:16:41.119768Z",
     "shell.execute_reply": "2021-11-07T14:16:41.119694Z"
    },
    "tags": []
   },
   "outputs": [],
   "source": [
    "lines = {}\n",
    "lines[7] = {}\n",
    "for lamb in range(3):\n",
    "    lines[7][lamb] = (1, [9, 15, 27][lamb])\n",
    "lines[15] = {}\n",
    "for lamb in range(3):\n",
    "    lines[15][lamb] = (1, [4,8,12][lamb])\n",
    "lines[30] = {}\n",
    "for lamb in range(3):\n",
    "    lines[30][lamb] = (1, [2,3,5][lamb])\n",
    "lines[45] = {}\n",
    "for lamb in range(3):\n",
    "    lines[45][lamb] = (1, [1,2,3][lamb])"
   ]
  },
  {
   "cell_type": "code",
   "execution_count": null,
   "id": "surface-italic",
   "metadata": {
    "execution": {
     "iopub.status.busy": "2021-11-07T14:16:41.120366Z",
     "iopub.status.idle": "2021-11-07T14:16:41.120536Z",
     "shell.execute_reply": "2021-11-07T14:16:41.120441Z"
    },
    "tags": []
   },
   "outputs": [],
   "source": [
    "for c in supB.keys():\n",
    "    print(f'======================={c}=====================')\n",
    "    for Da in supB[c].keys():\n",
    "        print(f'===={Da}====')\n",
    "        for lamb in supB[c][Da].keys():\n",
    "            df = supB[c][Da][lamb].loc[(supB[c][Da][lamb].index >= lines[Da][lamb][0]) & (supB[c][Da][lamb].index <= lines[Da][lamb][1])]\n",
    "            h = np.mean(df['alpha'])\n",
    "            print(f'\\draw[dashed, {[\"charmander\", \"squirtle\", \"ekans\"][int(lamb)]}, ultra thick] (axis cs: {lines[Da][lamb][0]}, {h}) -- (axis cs: {lines[Da][lamb][1]}, {h});')"
   ]
  },
  {
   "cell_type": "code",
   "execution_count": null,
   "id": "czech-metabolism",
   "metadata": {
    "execution": {
     "iopub.status.busy": "2021-11-07T14:16:41.120921Z",
     "iopub.status.idle": "2021-11-07T14:16:41.121064Z",
     "shell.execute_reply": "2021-11-07T14:16:41.120994Z"
    },
    "tags": []
   },
   "outputs": [],
   "source": [
    "# for c in supB.keys():\n",
    "#     tmp = pd.DataFrame(index=list(range(29)))\n",
    "#     for Da in supB[c].keys():\n",
    "#         for lamb in supB[c][Da].keys():\n",
    "#             df = supB[c][Da][lamb]\n",
    "#             if (lamb == 2) and (Da < 30):\n",
    "#                 df = df.loc[df.index < list(df.index)[-1]] # To crop the last part of the longer lifetime series\n",
    "#             df.columns = [f'Da{Da}l{int(lamb)}']\n",
    "#             tmp = tmp.merge(df, left_index=True, right_index=True, how='outer')\n",
    "#         tmp.index.rename('a', inplace=True)\n",
    "#         tmp.fillna('nan', inplace=True)\n",
    "#         tmp.to_csv(f\"../commpatterns/PNAS_paper/SI/figs/SIb_{c}.dat\", header=True, sep=\"\\t\")"
   ]
  },
  {
   "cell_type": "markdown",
   "id": "mighty-lover",
   "metadata": {},
   "source": [
    "## Changes in $\\Delta \\ell$\n",
    "\n",
    "The idea here is that, instead of producing three groups, I could get less or more for the plots in fig 2"
   ]
  },
  {
   "cell_type": "code",
   "execution_count": null,
   "id": "educated-transformation",
   "metadata": {
    "execution": {
     "iopub.status.busy": "2021-11-07T14:16:41.121534Z",
     "iopub.status.idle": "2021-11-07T14:16:41.121680Z",
     "shell.execute_reply": "2021-11-07T14:16:41.121609Z"
    },
    "tags": []
   },
   "outputs": [],
   "source": [
    "calls = {}\n",
    "for c in callT.keys():\n",
    "    calls[c] = callT[c][200]\n",
    "    \n",
    "supC = {}\n",
    "for c in calls.keys():\n",
    "    supC[c] = {}\n",
    "    for series in [2,3,4,5]:\n",
    "        gs = (200 // series) + 1\n",
    "        dff = pc.get_f(calls[c], 'all', 15, gs)\n",
    "        b = pc.get_b(dff, 'alpha')\n",
    "        supC[c][gs] = pc.plot_g(b, 'alpha')\n",
    "        \n",
    "lives = {}\n",
    "for c in calls.keys():\n",
    "    lives[c] = pc.lives_dictionary(calls[c])"
   ]
  },
  {
   "cell_type": "code",
   "execution_count": null,
   "id": "stunning-cambodia",
   "metadata": {
    "execution": {
     "iopub.status.busy": "2021-11-07T14:16:41.122098Z",
     "iopub.status.idle": "2021-11-07T14:16:41.122244Z",
     "shell.execute_reply": "2021-11-07T14:16:41.122173Z"
    },
    "tags": []
   },
   "outputs": [],
   "source": [
    "with open('../itdata/mtl_supA.pickle', 'rb') as handle:\n",
    "    tmp = pickle.load(handle)\n",
    "    handle.close()\n",
    "    \n",
    "with open('../itdata/mtl_all_lives.pickle', 'rb') as handle:\n",
    "    itlives = pickle.load(handle)\n",
    "    handle.close()\n",
    "    \n",
    "lives['it'] = itlives['all']\n",
    "    \n",
    "supC['it'] = {}\n",
    "\n",
    "for series in [2,3,4,5]:\n",
    "    gs = (200 // series) + 1\n",
    "    dff = copy.deepcopy(tmp[200])\n",
    "    for ego in dff.keys():\n",
    "        for alter in dff[ego].keys():\n",
    "            df = dff[ego][alter]\n",
    "            df['lambda'] = itlives['all'][ego][alter]['ell'] // gs\n",
    "    b = pc.get_b(dff, 'alpha')\n",
    "    supC['it'][gs] = pc.plot_g(b, 'alpha')"
   ]
  },
  {
   "cell_type": "code",
   "execution_count": null,
   "id": "progressive-credit",
   "metadata": {
    "execution": {
     "iopub.status.busy": "2021-11-07T14:16:41.122769Z",
     "iopub.status.idle": "2021-11-07T14:16:41.122915Z",
     "shell.execute_reply": "2021-11-07T14:16:41.122844Z"
    },
    "tags": []
   },
   "outputs": [],
   "source": [
    "supC['mit'][51][2]"
   ]
  },
  {
   "cell_type": "code",
   "execution_count": null,
   "id": "descending-conducting",
   "metadata": {
    "execution": {
     "iopub.status.busy": "2021-11-07T14:16:41.123419Z",
     "iopub.status.idle": "2021-11-07T14:16:41.123565Z",
     "shell.execute_reply": "2021-11-07T14:16:41.123494Z"
    },
    "tags": []
   },
   "outputs": [],
   "source": [
    "plt.figure(figsize=(48, 24))\n",
    "p = 1\n",
    "for gs in supC['uk'].keys():\n",
    "    for c in supC.keys():\n",
    "        plt.subplot(4,4,p)\n",
    "        plt.xlabel(f\"Lapse in 15 day bins. Cohort {c}\")\n",
    "        plt.ylabel(fr\"Calls to each alter during 15 days.\")\n",
    "        for l in supC[c][gs].keys():\n",
    "            plt.plot(supC[c][gs][int(l)].index, supC[c][gs][l]['alpha'], marker=markers[int(l)], markersize=15, ls=\"--\", label=f'Lifetime group {l}')\n",
    "        plt.legend()\n",
    "        p += 1"
   ]
  },
  {
   "cell_type": "code",
   "execution_count": null,
   "id": "recorded-neighbor",
   "metadata": {
    "execution": {
     "iopub.status.busy": "2021-11-07T14:16:41.124086Z",
     "iopub.status.idle": "2021-11-07T14:16:41.124232Z",
     "shell.execute_reply": "2021-11-07T14:16:41.124161Z"
    },
    "tags": []
   },
   "outputs": [],
   "source": [
    "supC['it'][41].keys()"
   ]
  },
  {
   "cell_type": "code",
   "execution_count": null,
   "id": "dangerous-running",
   "metadata": {
    "execution": {
     "iopub.status.busy": "2021-11-07T14:16:41.125195Z",
     "iopub.status.idle": "2021-11-07T14:16:41.125372Z",
     "shell.execute_reply": "2021-11-07T14:16:41.125287Z"
    },
    "tags": []
   },
   "outputs": [],
   "source": [
    "lines = {}\n",
    "for Dl in supC['uk'].keys():\n",
    "    lines[Dl] = {}\n",
    "    for lamb in supC['uk'][Dl].keys():\n",
    "        lines[Dl][lamb] = (1, list(supC['uk'][Dl][lamb].index)[-1])\n",
    "lines"
   ]
  },
  {
   "cell_type": "code",
   "execution_count": null,
   "id": "entertaining-nudist",
   "metadata": {
    "execution": {
     "iopub.status.busy": "2021-11-07T14:16:41.125914Z",
     "iopub.status.idle": "2021-11-07T14:16:41.126061Z",
     "shell.execute_reply": "2021-11-07T14:16:41.125989Z"
    },
    "tags": []
   },
   "outputs": [],
   "source": [
    "for c in supC.keys():\n",
    "    print(f'======================={c}=====================')\n",
    "    for Dl in supC[c].keys():\n",
    "        print(f'===={Dl}====')\n",
    "        for lamb in supC[c][Dl].keys():\n",
    "            df = supC[c][Dl][lamb].loc[(supC[c][Dl][lamb].index >= lines[Dl][lamb][0]) & (supC[c][Dl][lamb].index <= lines[Dl][lamb][1])]\n",
    "            h = np.mean(df['alpha'])\n",
    "            print(f'\\draw[dashed, {[\"charmander\", \"squirtle\", \"ekans\", \"snorlax\", \"raichu\"][int(lamb)]}, ultra thick] (axis cs: {lines[Dl][lamb][0]}, {h}) -- (axis cs: {lines[Dl][lamb][1]}, {h});')"
   ]
  },
  {
   "cell_type": "code",
   "execution_count": null,
   "id": "naked-suspect",
   "metadata": {
    "execution": {
     "iopub.status.busy": "2021-11-07T14:16:41.126569Z",
     "iopub.status.idle": "2021-11-07T14:16:41.126715Z",
     "shell.execute_reply": "2021-11-07T14:16:41.126644Z"
    },
    "tags": []
   },
   "outputs": [],
   "source": [
    "supC['uk'][41].keys()"
   ]
  },
  {
   "cell_type": "code",
   "execution_count": null,
   "id": "extended-mortgage",
   "metadata": {
    "execution": {
     "iopub.status.busy": "2021-11-07T14:16:41.127313Z",
     "iopub.status.idle": "2021-11-07T14:16:41.127460Z",
     "shell.execute_reply": "2021-11-07T14:16:41.127389Z"
    },
    "tags": []
   },
   "outputs": [],
   "source": [
    "# for c in supC.keys():\n",
    "#     tmp = pd.DataFrame(index=list(range(14)))\n",
    "#     for Dl in supC[c].keys():\n",
    "#         for lamb in supC[c][Dl].keys():\n",
    "#             df = supC[c][Dl][lamb]\n",
    "#             if (lamb == max(supC[c][Dl].keys())):\n",
    "#                 df = df.loc[df.index < list(df.index)[-1]] # To crop the last part of the longer lifetime series\n",
    "#             df.columns = [f'Dl{Dl}l{int(lamb)}']\n",
    "#             tmp = tmp.merge(df, left_index=True, right_index=True, how='outer')\n",
    "#         tmp.index.rename('a', inplace=True)\n",
    "#         tmp.fillna('nan', inplace=True)\n",
    "#         tmp.to_csv(f\"../commpatterns/PNAS_paper/SI/figs/SIc_{c}.dat\", header=True, sep=\"\\t\")"
   ]
  },
  {
   "cell_type": "markdown",
   "id": "hourly-notification",
   "metadata": {},
   "source": [
    "## Distribution of number of calls"
   ]
  },
  {
   "cell_type": "code",
   "execution_count": null,
   "id": "canadian-capital",
   "metadata": {
    "execution": {
     "iopub.status.busy": "2021-11-07T14:16:41.127916Z",
     "iopub.status.idle": "2021-11-07T14:16:41.128060Z",
     "shell.execute_reply": "2021-11-07T14:16:41.127990Z"
    },
    "tags": []
   },
   "outputs": [],
   "source": [
    "supD = {}\n",
    "for c in callT.keys():\n",
    "    supD[c] = {}\n",
    "    df = callT[c][200]\n",
    "    pp = pc.pairs(df)\n",
    "    hist = pc.histogram(list(pp['nij']), 30)\n",
    "    supD[c]['all'] = hist\n",
    "    df1 = df.loc[(df['aclock'] >= 30) & (df['aclock'] <= 60)]\n",
    "    pp = pc.pairs(df1)\n",
    "    hist = pc.histogram(list(pp['nij']), 30)\n",
    "    supD[c]['sub'] = hist"
   ]
  },
  {
   "cell_type": "code",
   "execution_count": null,
   "id": "global-metabolism",
   "metadata": {
    "execution": {
     "iopub.status.busy": "2021-11-07T14:16:41.128617Z",
     "iopub.status.idle": "2021-11-07T14:16:41.128762Z",
     "shell.execute_reply": "2021-11-07T14:16:41.128692Z"
    },
    "tags": []
   },
   "outputs": [],
   "source": [
    "with open('../itdata/mtl_supC.pickle', 'rb') as handle:\n",
    "    supD['it'] = pickle.load(handle)\n",
    "    handle.close()"
   ]
  },
  {
   "cell_type": "code",
   "execution_count": null,
   "id": "electric-cabin",
   "metadata": {
    "execution": {
     "iopub.status.busy": "2021-11-07T14:16:41.129208Z",
     "iopub.status.idle": "2021-11-07T14:16:41.129353Z",
     "shell.execute_reply": "2021-11-07T14:16:41.129282Z"
    },
    "tags": []
   },
   "outputs": [],
   "source": [
    "plt.figure(figsize=(32, 32))\n",
    "p = 1\n",
    "for c in supD.keys():\n",
    "    for sample in supD[c].keys():\n",
    "        plt.subplot(4,2,p)\n",
    "        plt.xlabel(f\"Number of calls. Cohort {c}\")\n",
    "        plt.ylabel(f\"PMF {sample}\")\n",
    "        plt.loglog()\n",
    "        df = supD[c][sample]\n",
    "        plt.plot(df['label'], df['pmf'], \"o-\", markersize=13)\n",
    "        p += 1"
   ]
  },
  {
   "cell_type": "code",
   "execution_count": null,
   "id": "acceptable-suspect",
   "metadata": {
    "execution": {
     "iopub.status.busy": "2021-11-07T14:16:41.130039Z",
     "iopub.status.idle": "2021-11-07T14:16:41.130199Z",
     "shell.execute_reply": "2021-11-07T14:16:41.130129Z"
    },
    "tags": []
   },
   "outputs": [],
   "source": [
    "for row in supD.keys():\n",
    "    for col in supD[row].keys():\n",
    "        df = supD[row][col]\n",
    "        if len(df) != 30:\n",
    "            print(row, col, len(df))"
   ]
  },
  {
   "cell_type": "code",
   "execution_count": null,
   "id": "continued-father",
   "metadata": {
    "execution": {
     "iopub.status.busy": "2021-11-07T14:16:41.130715Z",
     "iopub.status.idle": "2021-11-07T14:16:41.130861Z",
     "shell.execute_reply": "2021-11-07T14:16:41.130790Z"
    },
    "tags": []
   },
   "outputs": [],
   "source": [
    "tmp = pd.DataFrame(index=list(range(30)))\n",
    "for c in supD.keys():\n",
    "    for col in supD[c].keys():\n",
    "        df = supD[c][col].sort_index()\n",
    "        x = []\n",
    "        y = []\n",
    "        df2 = df.reset_index(drop=True)\n",
    "        for i in range(30):\n",
    "            if i in df2.index:\n",
    "                x.append(df2.at[i, 'label'])\n",
    "                y.append(df2.at[i, 'pmf'])\n",
    "            else:\n",
    "                x.append('nan')\n",
    "                y.append('nan')\n",
    "        tmp[f'{c+col}_x'] = x\n",
    "        tmp[f'{c+col}_y'] = y\n",
    "tmp.to_csv(f\"../commpatterns/PNAS_paper/SI/figs/SId.dat\", header=True, index=False, sep=\"\\t\")"
   ]
  },
  {
   "cell_type": "markdown",
   "id": "legendary-intermediate",
   "metadata": {},
   "source": [
    "## Variants of the contour plot\n",
    "\n",
    "The first variant uses Italy and UK for the contours and plots it with points from USA"
   ]
  },
  {
   "cell_type": "code",
   "execution_count": null,
   "id": "straight-progressive",
   "metadata": {
    "execution": {
     "iopub.status.busy": "2021-11-07T14:16:41.131261Z",
     "iopub.status.idle": "2021-11-07T14:16:41.131405Z",
     "shell.execute_reply": "2021-11-07T14:16:41.131335Z"
    },
    "tags": []
   },
   "outputs": [],
   "source": [
    "alldff2 = {}\n",
    "for c in calls.keys():\n",
    "    alldff2[c] = pc.get_f(calls[c], 'all', 30, 10)\n",
    "    \n",
    "with open('../itdata/mtl_all_lambda_alpha_fig3.pickle', 'rb') as handle:\n",
    "    alldff2['it'] = pickle.load(handle)\n",
    "    handle.close()\n",
    "    \n",
    "dffUI = {}\n",
    "for c in ['uk', 'it']:\n",
    "    dffUI.update(alldff2[c])\n",
    "\n",
    "surv_cont = pc.get_survival(dffUI)\n",
    "\n",
    "tmp = pd.DataFrame()\n",
    "for s in range(6):\n",
    "    df = surv_cont[s].reset_index()\n",
    "    df.columns = ['lc', 'p']\n",
    "    df['lc'] *= 10\n",
    "    df['f'] = 2**s\n",
    "    ttmmpp = pd.DataFrame({'x': df['f'], 'y': df['lc'], 'z': df['p']})\n",
    "    tmp = tmp.append(ttmmpp).reset_index(drop=True)\n",
    "tmp.to_csv(f\"../commpatterns/PNAS_paper/SI/figs/supEac.dat\", header=False, index=False, sep=\"\\t\")\n",
    "\n",
    "points_usa = pc.get_survival(alldff2['mit'], unbinned=True)\n",
    "\n",
    "tmp = pd.DataFrame()\n",
    "for s in points_usa.keys():\n",
    "    if s <= 2**5 + 1:\n",
    "        df = points_usa[s].reset_index()\n",
    "        df.columns = ['lc', 'p']\n",
    "        df['lc'] *= 10\n",
    "        df['f'] = s\n",
    "        ttmmpp = pd.DataFrame({'x': df['f'], 'y': df['lc'], 'z': df['p']})\n",
    "        tmp = tmp.append(ttmmpp).reset_index(drop=True)\n",
    "sub = [(i/4, (i + 1)/4) for i in range(4)]\n",
    "p = 0\n",
    "for s in sub:\n",
    "    df = tmp.loc[(tmp['z'] > s[0]) & (tmp['z'] <= s[1])]\n",
    "    df2 = df.drop(columns='z')\n",
    "    df2.to_csv(f'../commpatterns/PNAS_paper/SI/figs/supEap{p}.dat', header=False, index=False, sep=\"\\t\")\n",
    "    print(s)\n",
    "    p += 1"
   ]
  },
  {
   "cell_type": "markdown",
   "id": "uniform-scout",
   "metadata": {
    "execution": {
     "iopub.execute_input": "2021-09-29T00:48:30.683475Z",
     "iopub.status.busy": "2021-09-29T00:48:30.683350Z",
     "iopub.status.idle": "2021-09-29T00:48:30.688562Z",
     "shell.execute_reply": "2021-09-29T00:48:30.688199Z",
     "shell.execute_reply.started": "2021-09-29T00:48:30.683462Z"
    },
    "tags": []
   },
   "source": [
    "And now using points from the UK dataset"
   ]
  },
  {
   "cell_type": "code",
   "execution_count": null,
   "id": "rolled-module",
   "metadata": {
    "execution": {
     "iopub.status.busy": "2021-11-07T14:16:41.132130Z",
     "iopub.status.idle": "2021-11-07T14:16:41.132278Z",
     "shell.execute_reply": "2021-11-07T14:16:41.132206Z"
    },
    "tags": []
   },
   "outputs": [],
   "source": [
    "dffMI = {}\n",
    "for c in ['mit', 'it']:\n",
    "    dffMI.update(alldff2[c])\n",
    "\n",
    "surv_cont = pc.get_survival(dffMI)\n",
    "\n",
    "tmp = pd.DataFrame()\n",
    "for s in range(6):\n",
    "    df = surv_cont[s].reset_index()\n",
    "    df.columns = ['lc', 'p']\n",
    "    df['lc'] *= 10\n",
    "    df['f'] = 2**s\n",
    "    ttmmpp = pd.DataFrame({'x': df['f'], 'y': df['lc'], 'z': df['p']})\n",
    "    tmp = tmp.append(ttmmpp).reset_index(drop=True)\n",
    "tmp.to_csv(f\"../commpatterns/PNAS_paper/SI/figs/supEbc.dat\", header=False, index=False, sep=\"\\t\")\n",
    "\n",
    "points_uk = pc.get_survival(alldff2['uk'], unbinned=True)\n",
    "\n",
    "tmp = pd.DataFrame()\n",
    "for s in points_uk.keys():\n",
    "    if s <= 2**5 + 1:\n",
    "        df = points_uk[s].reset_index()\n",
    "        df.columns = ['lc', 'p']\n",
    "        df['lc'] *= 10\n",
    "        df['f'] = s\n",
    "        ttmmpp = pd.DataFrame({'x': df['f'], 'y': df['lc'], 'z': df['p']})\n",
    "        tmp = tmp.append(ttmmpp).reset_index(drop=True)\n",
    "sub = [(i/4, (i + 1)/4) for i in range(4)]\n",
    "p = 0\n",
    "for s in sub:\n",
    "    df = tmp.loc[(tmp['z'] > s[0]) & (tmp['z'] <= s[1])]\n",
    "    df2 = df.drop(columns='z')\n",
    "    df2.to_csv(f'../commpatterns/PNAS_paper/SI/figs/supEbp{p}.dat', header=False, index=False, sep=\"\\t\")\n",
    "    print(s)\n",
    "    p += 1"
   ]
  },
  {
   "cell_type": "markdown",
   "id": "incorporate-andrews",
   "metadata": {},
   "source": [
    "# Individual results for each cohort"
   ]
  },
  {
   "cell_type": "code",
   "execution_count": null,
   "id": "beginning-startup",
   "metadata": {
    "execution": {
     "iopub.status.busy": "2021-11-07T14:16:41.132715Z",
     "iopub.status.idle": "2021-11-07T14:16:41.132860Z",
     "shell.execute_reply": "2021-11-07T14:16:41.132789Z"
    },
    "tags": []
   },
   "outputs": [],
   "source": [
    "labels = ['Short Lives', 'Middle Lives', 'Long Lives']\n",
    "uk2calls = filtered['uk2']\n",
    "uk2dff = pc.get_f(uk2calls, 'all', 30, 67)\n",
    "b = pc.get_b(uk2dff, 'alpha')\n",
    "uk2stable = pc.plot_g(b, 'alpha')\n",
    "\n",
    "plt.xlabel(\"Lapse\")\n",
    "plt.ylabel(\"b\")\n",
    "for lamb in uk2stable.keys():\n",
    "    l = int(lamb)\n",
    "    plt.plot([20 * x for x in uk2stable[l].index], uk2stable[l]['alpha'], marker=markers[l], markersize=15, label=labels[l])\n",
    "plt.legend()"
   ]
  },
  {
   "cell_type": "code",
   "execution_count": null,
   "id": "spread-booking",
   "metadata": {
    "execution": {
     "iopub.status.busy": "2021-11-07T14:16:41.133337Z",
     "iopub.status.idle": "2021-11-07T14:16:41.133482Z",
     "shell.execute_reply": "2021-11-07T14:16:41.133412Z"
    },
    "tags": []
   },
   "outputs": [],
   "source": [
    "calls = {}\n",
    "for c in ['uk2', 'uk', 'mit']:    \n",
    "    df = unfiltered[c].loc[unfiltered[c]['aclock'] <= 200]\n",
    "#     if c != 'uk2':\n",
    "#         une = df.groupby('ego')[['uclock']].min()\n",
    "#         deux = pd.DataFrame()\n",
    "#         for ego in df['ego'].unique():\n",
    "#             tmp = df.loc[df['ego'] == ego]\n",
    "#             minday = une.loc[ego]['uclock'] + 10\n",
    "#             df1 = df.loc[df['uclock'] >= minday]\n",
    "#             deux = deux.append(df1).reset_index(drop=True)\n",
    "#         df = deux\n",
    "    uno = pd.DataFrame()\n",
    "    T = max(df['uclock'])\n",
    "    for ego in df['ego'].unique():\n",
    "        df1 = df.loc[df['ego'] == ego]\n",
    "        for alter in df1['alter'].unique():\n",
    "            df2 = df1.loc[df1['alter'] == alter]\n",
    "            mint = min(df2['uclock'])\n",
    "            if mint < (T - 200):\n",
    "                df3 = df2.copy()\n",
    "                df3['aclock'] = df2['uclock'] - mint\n",
    "                uno = uno.append(df3).reset_index(drop=True)\n",
    "    calls[c] = uno\n",
    "    print(f\"done with {c}\")"
   ]
  },
  {
   "cell_type": "code",
   "execution_count": null,
   "id": "digital-bubble",
   "metadata": {
    "execution": {
     "iopub.status.busy": "2021-11-07T14:16:41.134074Z",
     "iopub.status.idle": "2021-11-07T14:16:41.134221Z",
     "shell.execute_reply": "2021-11-07T14:16:41.134150Z"
    },
    "tags": []
   },
   "outputs": [],
   "source": [
    "alldff = {}\n",
    "for c in calls.keys():\n",
    "    alldff[c] = pc.get_f(calls[c], 'all', 15, 67)\n",
    "    \n",
    "with open('../itdata/mtl_all_lambda_alpha_fig2.pickle', 'rb') as handle:\n",
    "    alldff['it'] = pickle.load(handle)\n",
    "    handle.close()"
   ]
  },
  {
   "cell_type": "code",
   "execution_count": null,
   "id": "quick-roommate",
   "metadata": {
    "execution": {
     "iopub.status.busy": "2021-11-07T14:16:41.134701Z",
     "iopub.status.idle": "2021-11-07T14:16:41.134845Z",
     "shell.execute_reply": "2021-11-07T14:16:41.134775Z"
    },
    "tags": []
   },
   "outputs": [],
   "source": [
    "alldff['it'][37]['c308ad2e46e9cb3c3f1af8737085d1e6']"
   ]
  },
  {
   "cell_type": "code",
   "execution_count": null,
   "id": "surgical-hindu",
   "metadata": {
    "execution": {
     "iopub.status.busy": "2021-11-07T14:16:41.135297Z",
     "iopub.status.idle": "2021-11-07T14:16:41.135440Z",
     "shell.execute_reply": "2021-11-07T14:16:41.135370Z"
    },
    "tags": []
   },
   "outputs": [],
   "source": [
    "stablec = {}\n",
    "for c in alldff.keys():\n",
    "    b = pc.get_b(alldff[c], 'alpha')\n",
    "    stablec[c] = pc.plot_g(b, 'alpha')"
   ]
  },
  {
   "cell_type": "code",
   "execution_count": null,
   "id": "velvet-nursery",
   "metadata": {
    "execution": {
     "iopub.status.busy": "2021-11-07T14:16:41.136017Z",
     "iopub.status.idle": "2021-11-07T14:16:41.136163Z",
     "shell.execute_reply": "2021-11-07T14:16:41.136092Z"
    },
    "tags": []
   },
   "outputs": [],
   "source": [
    "stablec['it'].keys()"
   ]
  },
  {
   "cell_type": "code",
   "execution_count": null,
   "id": "competent-nirvana",
   "metadata": {
    "execution": {
     "iopub.status.busy": "2021-11-07T14:16:41.136588Z",
     "iopub.status.idle": "2021-11-07T14:16:41.136732Z",
     "shell.execute_reply": "2021-11-07T14:16:41.136662Z"
    },
    "tags": []
   },
   "outputs": [],
   "source": [
    "lives = {}\n",
    "for c in calls.keys():\n",
    "    lives[c] = pc.lives_dictionary(calls[c])\n",
    "    \n",
    "with open('../itdata/mtl_all_lives.pickle', 'rb') as handle:\n",
    "    itlives = pickle.load(handle)\n",
    "    handle.close()\n",
    "    \n",
    "lives['it'] = itlives['all']"
   ]
  },
  {
   "cell_type": "code",
   "execution_count": null,
   "id": "metropolitan-workshop",
   "metadata": {
    "execution": {
     "iopub.status.busy": "2021-11-07T14:16:41.137239Z",
     "iopub.status.idle": "2021-11-07T14:16:41.137383Z",
     "shell.execute_reply": "2021-11-07T14:16:41.137314Z"
    },
    "tags": []
   },
   "outputs": [],
   "source": [
    "limits = {}\n",
    "limits[0] = (0, 66)\n",
    "limits[1] = (67, 133)\n",
    "limits[2] = (134, 198)\n",
    "limits[3] = (199, 200)"
   ]
  },
  {
   "cell_type": "code",
   "execution_count": null,
   "id": "legendary-socket",
   "metadata": {
    "execution": {
     "iopub.status.busy": "2021-11-07T14:16:41.137875Z",
     "iopub.status.idle": "2021-11-07T14:16:41.138019Z",
     "shell.execute_reply": "2021-11-07T14:16:41.137949Z"
    },
    "tags": []
   },
   "outputs": [],
   "source": [
    "stablec = {}\n",
    "for c in alldff.keys():\n",
    "    stablec[c] = {}\n",
    "    for i in limits.keys():\n",
    "        stablec[c][i] = pc.get_avgfa(alldff[c], lives[c], limits[i][0], limits[i][1])"
   ]
  },
  {
   "cell_type": "code",
   "execution_count": null,
   "id": "literary-tribe",
   "metadata": {
    "execution": {
     "iopub.status.busy": "2021-11-07T14:16:41.138458Z",
     "iopub.status.idle": "2021-11-07T14:16:41.138601Z",
     "shell.execute_reply": "2021-11-07T14:16:41.138532Z"
    },
    "tags": []
   },
   "outputs": [],
   "source": [
    "plt.figure(figsize=(20, 32))\n",
    "p = 1\n",
    "labels = [fr'${limits[i][0]} \\leq \\ell \\leq {limits[i][1]}$' for i in range(3)]\n",
    "labels.append(r'$\\ell >= 199$')\n",
    "cohorts = ['UK2', 'UK', 'USA', 'Italy']\n",
    "for c in ['uk', 'uk2', 'mit', 'it']:\n",
    "    plt.subplot(4,1,p)\n",
    "    plt.xlabel(f\"Lapse in cohort {cohorts[p - 1]}\")\n",
    "    plt.ylabel(r\"$\\bar{f}$\")\n",
    "    plt.xticks(range(0, 201, 15))\n",
    "    for lamb in stablec[c].keys():\n",
    "        l = int(lamb)\n",
    "        plt.plot([15 * x for x in stablec[c][l].index], stablec[c][l]['f'], marker=markers[l], ls=\"--\", markersize=15, label=labels[l])\n",
    "    plt.legend()\n",
    "    p += 1\n",
    "#     if p > 3:\n",
    "#         break \n",
    "#plt.savefig(\"../commpatterns/img/supp/stablec.pdf\", dpi=150)"
   ]
  },
  {
   "cell_type": "code",
   "execution_count": null,
   "id": "speaking-patrick",
   "metadata": {
    "execution": {
     "iopub.status.busy": "2021-11-07T14:16:41.139093Z",
     "iopub.status.idle": "2021-11-07T14:16:41.139237Z",
     "shell.execute_reply": "2021-11-07T14:16:41.139167Z"
    },
    "tags": []
   },
   "outputs": [],
   "source": [
    "df0 = stablec['uk2'][0].loc[(stablec['uk2'][0].index >= 1) & (stablec['uk2'][0].index <= 4)]\n",
    "print(np.mean(df0['alpha']))\n",
    "df1 = stablec['uk2'][1].loc[(stablec['uk2'][1].index >= 1) & (stablec['uk2'][1].index <= 7)]\n",
    "print(np.mean(df1['alpha']))\n",
    "df2 = stablec['uk2'][2].loc[(stablec['uk2'][2].index >= 2) & (stablec['uk2'][2].index <= 12)]\n",
    "print(np.mean(df2['alpha']))"
   ]
  },
  {
   "cell_type": "code",
   "execution_count": null,
   "id": "exterior-pizza",
   "metadata": {
    "execution": {
     "iopub.status.busy": "2021-11-07T14:16:41.139643Z",
     "iopub.status.idle": "2021-11-07T14:16:41.139814Z",
     "shell.execute_reply": "2021-11-07T14:16:41.139718Z"
    },
    "tags": []
   },
   "outputs": [],
   "source": [
    "df0 = stablec['uk'][0].loc[(stablec['uk'][0].index >= 1) & (stablec['uk'][0].index <= 4)]\n",
    "print(np.mean(df0['alpha']))\n",
    "df1 = stablec['uk'][1].loc[(stablec['uk'][1].index >= 2) & (stablec['uk'][1].index <= 7)]\n",
    "print(np.mean(df1['alpha']))\n",
    "df2 = stablec['uk'][2].loc[(stablec['uk'][2].index >= 1) & (stablec['uk'][2].index <= 9)]\n",
    "print(np.mean(df2['alpha']))"
   ]
  },
  {
   "cell_type": "code",
   "execution_count": null,
   "id": "perfect-correspondence",
   "metadata": {
    "execution": {
     "iopub.status.busy": "2021-11-07T14:16:41.140382Z",
     "iopub.status.idle": "2021-11-07T14:16:41.140568Z",
     "shell.execute_reply": "2021-11-07T14:16:41.140457Z"
    },
    "tags": []
   },
   "outputs": [],
   "source": [
    "df0 = stablec['mit'][0].loc[(stablec['mit'][0].index >= 1) & (stablec['mit'][0].index <= 4)]\n",
    "print(np.mean(df0['alpha']))\n",
    "df1 = stablec['mit'][1].loc[(stablec['mit'][1].index >= 2) & (stablec['mit'][1].index <= 5)]\n",
    "print(np.mean(df1['alpha']))\n",
    "df2 = stablec['mit'][2].loc[(stablec['mit'][2].index >= 1) & (stablec['mit'][2].index <= 12)]\n",
    "print(np.mean(df2['alpha']))"
   ]
  },
  {
   "cell_type": "code",
   "execution_count": null,
   "id": "explicit-curtis",
   "metadata": {
    "execution": {
     "iopub.status.busy": "2021-11-07T14:16:41.140994Z",
     "iopub.status.idle": "2021-11-07T14:16:41.141137Z",
     "shell.execute_reply": "2021-11-07T14:16:41.141067Z"
    },
    "tags": []
   },
   "outputs": [],
   "source": [
    "df0 = stablec['it'][0].loc[(stablec['it'][0].index >= 1) & (stablec['it'][0].index <= 4)]\n",
    "print(np.mean(df0['alpha']))\n",
    "df1 = stablec['it'][1].loc[(stablec['it'][1].index >= 1) & (stablec['it'][1].index <= 8)]\n",
    "print(np.mean(df1['alpha']))\n",
    "df2 = stablec['it'][2].loc[(stablec['it'][2].index >= 2) & (stablec['it'][2].index <= 12)]\n",
    "print(np.mean(df2['alpha']))"
   ]
  },
  {
   "cell_type": "code",
   "execution_count": null,
   "id": "tamil-partner",
   "metadata": {
    "execution": {
     "iopub.status.busy": "2021-11-07T14:16:41.141613Z",
     "iopub.status.idle": "2021-11-07T14:16:41.141759Z",
     "shell.execute_reply": "2021-11-07T14:16:41.141689Z"
    },
    "tags": []
   },
   "outputs": [],
   "source": [
    "for c in stablec.keys():\n",
    "    for l in stablec[c].keys():\n",
    "        print(l, pc.get_plateau(stablec[c][l], 0.8))\n",
    "    print(\"=======================================\")"
   ]
  },
  {
   "cell_type": "code",
   "execution_count": null,
   "id": "corresponding-jackson",
   "metadata": {
    "execution": {
     "iopub.status.busy": "2021-11-07T14:16:41.142222Z",
     "iopub.status.idle": "2021-11-07T14:16:41.142366Z",
     "shell.execute_reply": "2021-11-07T14:16:41.142296Z"
    },
    "tags": []
   },
   "outputs": [],
   "source": [
    "# for c in stablec.keys():\n",
    "#     tmp = pd.DataFrame()\n",
    "#     for l in stablec[c].keys():\n",
    "#         df = stablec[c][l]\n",
    "#         df.columns = [f'l{int(l)}']\n",
    "#         if len(tmp) == 0:\n",
    "#             tmp = tmp.append(df)\n",
    "#         else:\n",
    "#             tmp = tmp.merge(df, left_index=True, right_index=True, how='outer')\n",
    "#     tmp.index.rename('a', inplace=True)\n",
    "#     tmp.fillna('nan', inplace=True)\n",
    "#     tmp.to_csv(f\"../commpatterns/PNAS_paper/figs/fig2c_{c}.dat\", header=True, sep=\"\\t\")"
   ]
  },
  {
   "cell_type": "code",
   "execution_count": null,
   "id": "competent-chambers",
   "metadata": {
    "execution": {
     "iopub.status.busy": "2021-11-07T14:16:41.142842Z",
     "iopub.status.idle": "2021-11-07T14:16:41.142987Z",
     "shell.execute_reply": "2021-11-07T14:16:41.142917Z"
    },
    "tags": []
   },
   "outputs": [],
   "source": [
    "# t0 = dt.datetime.now()\n",
    "# bplots = {}\n",
    "# for c in calls.keys():\n",
    "#     bplots[c] = {}\n",
    "#     for Dl in range(40, 71, 5):\n",
    "#         dff = pc.get_f(calls[c], 'all', 10, Dl)\n",
    "#         b = pc.get_b(dff, 'alpha')\n",
    "#         bplots[c][Dl] = pc.plot_g(b, 'alpha')\n",
    "\n",
    "# plateaus = {}\n",
    "# platplot = {}\n",
    "# for c in calls.keys():\n",
    "#     plateaus[c] = {}\n",
    "#     for Dl in [60, 65, 70]:\n",
    "#         for lamb in bplots[c][Dl].keys():\n",
    "#             ell = int((lamb + 0.5) * Dl)\n",
    "#             if ell not in plateaus[c].keys():\n",
    "#                 xmin, xmax, height = pc.get_plateau(bplots[c][Dl][lamb], 0.8)\n",
    "#                 plateaus[c][ell] = height\n",
    "    \n",
    "#     platplot[c] = pd.DataFrame.from_dict(plateaus[c], orient='index').sort_index()\n",
    "# print(f'This block took {dt.datetime.now() - t0}')"
   ]
  },
  {
   "cell_type": "code",
   "execution_count": null,
   "id": "detailed-significance",
   "metadata": {
    "execution": {
     "iopub.status.busy": "2021-11-07T14:16:41.143439Z",
     "iopub.status.idle": "2021-11-07T14:16:41.143583Z",
     "shell.execute_reply": "2021-11-07T14:16:41.143513Z"
    },
    "tags": []
   },
   "outputs": [],
   "source": [
    "# plt.figure(figsize=(20,30))\n",
    "# p = 1\n",
    "# for c in platplot.keys():\n",
    "#     plt.subplot(4,1,p)\n",
    "#     plt.plot(platplot[c].index, platplot[c][0], \"o-\", markersize=15)\n",
    "#     p += 1"
   ]
  },
  {
   "cell_type": "code",
   "execution_count": null,
   "id": "twelve-times",
   "metadata": {
    "execution": {
     "iopub.status.busy": "2021-11-07T14:16:41.144080Z",
     "iopub.status.idle": "2021-11-07T14:16:41.144226Z",
     "shell.execute_reply": "2021-11-07T14:16:41.144155Z"
    },
    "tags": []
   },
   "outputs": [],
   "source": [
    "# tmp = pd.DataFrame()\n",
    "# tmp['ell'] = list(platplot['uk'].index)\n",
    "# for c in platplot.keys():\n",
    "#     tmp[f'{c}'] = list(platplot[c][0])\n",
    "# tmp.to_csv(\"../commpatterns/PNAS_paper/figs/inset2b.dat\", header=True, index=False, sep=\"\\t\")"
   ]
  },
  {
   "cell_type": "code",
   "execution_count": null,
   "id": "adverse-alias",
   "metadata": {
    "execution": {
     "iopub.status.busy": "2021-11-07T14:16:41.144694Z",
     "iopub.status.idle": "2021-11-07T14:16:41.144838Z",
     "shell.execute_reply": "2021-11-07T14:16:41.144768Z"
    },
    "tags": []
   },
   "outputs": [],
   "source": [
    "# platplot['uk2'][0]"
   ]
  },
  {
   "cell_type": "code",
   "execution_count": null,
   "id": "colored-subscription",
   "metadata": {
    "execution": {
     "iopub.status.busy": "2021-11-07T14:16:41.145323Z",
     "iopub.status.idle": "2021-11-07T14:16:41.145466Z",
     "shell.execute_reply": "2021-11-07T14:16:41.145397Z"
    },
    "tags": []
   },
   "outputs": [],
   "source": [
    "alldff2 = {}\n",
    "for c in calls.keys():\n",
    "    alldff2[c] = pc.get_f(calls[c], 'all', 30, 10)\n",
    "    \n",
    "with open('../itdata/mtl_all_lambda_alpha_fig3.pickle', 'rb') as handle:\n",
    "    alldff2['it'] = pickle.load(handle)\n",
    "    handle.close()\n",
    "        \n",
    "survc = {}\n",
    "for c in alldff2.keys():\n",
    "    survc[c] = pc.get_survival(alldff2[c])"
   ]
  },
  {
   "cell_type": "code",
   "execution_count": null,
   "id": "incoming-endorsement",
   "metadata": {
    "execution": {
     "iopub.status.busy": "2021-11-07T14:16:41.145925Z",
     "iopub.status.idle": "2021-11-07T14:16:41.146068Z",
     "shell.execute_reply": "2021-11-07T14:16:41.145998Z"
    },
    "tags": []
   },
   "outputs": [],
   "source": [
    "plt.figure(figsize=(20, 30))\n",
    "p = 1\n",
    "for c in survc.keys():\n",
    "    plt.subplot(4, 1, p)\n",
    "    plt.xlabel(f\"Lifetime for cohort {cohorts[p - 1]}\")\n",
    "    plt.ylabel(\"Survival Probability\")\n",
    "    df = survc[c]\n",
    "    for gamma in range(5):\n",
    "        plt.plot([10 * x for x in df[gamma].index], df[gamma][0], marker=markers[gamma], markersize=13, ls=\"--\", lw=3, label=fr'$\\gamma = {gamma}$')\n",
    "    plt.legend()\n",
    "    p += 1\n",
    "#plt.savefig(\"../commpatterns/img/supp/survc.pdf\", dpi=150)"
   ]
  },
  {
   "cell_type": "code",
   "execution_count": null,
   "id": "gorgeous-garlic",
   "metadata": {
    "execution": {
     "iopub.status.busy": "2021-11-07T14:16:41.146517Z",
     "iopub.status.idle": "2021-11-07T14:16:41.146661Z",
     "shell.execute_reply": "2021-11-07T14:16:41.146591Z"
    },
    "tags": []
   },
   "outputs": [],
   "source": [
    "# for c in survc.keys():\n",
    "#     tmp = pd.DataFrame({'lc': list(survc[c][0].index)})\n",
    "#     for s in range(5):\n",
    "#         df = survc[c][s]\n",
    "#         tmp[f'p{int(s)}'] = df[0]\n",
    "#     tmp.to_csv(f'../commpatterns/PNAS_paper/SI/figs/s4_{c}.dat', header=False, index=False, sep=\"\\t\")"
   ]
  },
  {
   "cell_type": "markdown",
   "id": "fitting-courtesy",
   "metadata": {},
   "source": [
    "For all cohorts combined:"
   ]
  },
  {
   "cell_type": "code",
   "execution_count": null,
   "id": "imported-doubt",
   "metadata": {
    "execution": {
     "iopub.status.busy": "2021-11-07T14:16:41.147144Z",
     "iopub.status.idle": "2021-11-07T14:16:41.147328Z",
     "shell.execute_reply": "2021-11-07T14:16:41.147259Z"
    }
   },
   "outputs": [],
   "source": [
    "alldff2['all'] = {}\n",
    "for c in ['uk', 'mit', 'it']:\n",
    "    alldff2['all'].update(alldff2[c])\n",
    "    \n",
    "len(alldff2['all']) == len(alldff2['uk']) + len(alldff2['mit']) + len(alldff2['it'])"
   ]
  },
  {
   "cell_type": "code",
   "execution_count": null,
   "id": "square-migration",
   "metadata": {
    "execution": {
     "iopub.status.busy": "2021-11-07T14:16:41.147748Z",
     "iopub.status.idle": "2021-11-07T14:16:41.147893Z",
     "shell.execute_reply": "2021-11-07T14:16:41.147822Z"
    }
   },
   "outputs": [],
   "source": [
    "survall = pc.get_survival(alldff2['all'])"
   ]
  },
  {
   "cell_type": "code",
   "execution_count": null,
   "id": "contained-consent",
   "metadata": {
    "execution": {
     "iopub.status.busy": "2021-11-07T14:16:41.148339Z",
     "iopub.status.idle": "2021-11-07T14:16:41.148483Z",
     "shell.execute_reply": "2021-11-07T14:16:41.148413Z"
    },
    "tags": []
   },
   "outputs": [],
   "source": [
    "plt.xlabel(f\"Lifetime \")\n",
    "plt.ylabel(\"Survival Probability\")\n",
    "df = survall\n",
    "for gamma in range(5):\n",
    "    plt.plot([10 * x for x in df[gamma].index], df[gamma][0], marker=markers[gamma], markersize=13, ls=\"--\", lw=3, label=fr'$\\gamma = {gamma}$')\n",
    "plt.legend()"
   ]
  },
  {
   "cell_type": "code",
   "execution_count": null,
   "id": "excited-excess",
   "metadata": {
    "execution": {
     "iopub.status.busy": "2021-11-07T14:16:41.148929Z",
     "iopub.status.idle": "2021-11-07T14:16:41.149074Z",
     "shell.execute_reply": "2021-11-07T14:16:41.149003Z"
    }
   },
   "outputs": [],
   "source": [
    "# tmp = pd.DataFrame({'lc': list(survall[0].index)})\n",
    "# for s in range(5):\n",
    "#     df = survall[s]\n",
    "#     tmp[f'p{int(s)}'] = df[0]\n",
    "# tmp.to_csv(f'../commpatterns/PNAS_paper/SI/figs/s4_{c}.dat', header=False, index=False, sep=\"\\t\")"
   ]
  },
  {
   "cell_type": "markdown",
   "id": "rental-grove",
   "metadata": {},
   "source": [
    "Contours and Survival points for figure 4"
   ]
  },
  {
   "cell_type": "code",
   "execution_count": null,
   "id": "retained-switch",
   "metadata": {
    "execution": {
     "iopub.status.busy": "2021-11-07T14:16:41.149504Z",
     "iopub.status.idle": "2021-11-07T14:16:41.149651Z",
     "shell.execute_reply": "2021-11-07T14:16:41.149579Z"
    },
    "tags": []
   },
   "outputs": [],
   "source": [
    "dffUM = {}\n",
    "for c in ['uk', 'mit']:\n",
    "    dffUM.update(alldff2[c])"
   ]
  },
  {
   "cell_type": "code",
   "execution_count": null,
   "id": "declared-wonder",
   "metadata": {
    "execution": {
     "iopub.status.busy": "2021-11-07T14:16:41.150033Z",
     "iopub.status.idle": "2021-11-07T14:16:41.150178Z",
     "shell.execute_reply": "2021-11-07T14:16:41.150107Z"
    },
    "tags": []
   },
   "outputs": [],
   "source": [
    "surv_cont = pc.get_survival(dffUM)"
   ]
  },
  {
   "cell_type": "code",
   "execution_count": null,
   "id": "overall-peripheral",
   "metadata": {
    "execution": {
     "iopub.status.busy": "2021-11-07T14:16:41.150654Z",
     "iopub.status.idle": "2021-11-07T14:16:41.150802Z",
     "shell.execute_reply": "2021-11-07T14:16:41.150730Z"
    },
    "tags": []
   },
   "outputs": [],
   "source": [
    "plt.xlabel(f\"Lifetime \")\n",
    "plt.ylabel(\"Survival Probability\")\n",
    "df = surv_cont\n",
    "for gamma in range(5):\n",
    "    plt.plot([10 * x for x in df[gamma].index], df[gamma][0], marker=markers[gamma], markersize=13, ls=\"--\", lw=3, label=fr'$\\gamma = {gamma}$')\n",
    "plt.legend()"
   ]
  },
  {
   "cell_type": "code",
   "execution_count": null,
   "id": "quality-entry",
   "metadata": {
    "execution": {
     "iopub.status.busy": "2021-11-07T14:16:41.151201Z",
     "iopub.status.idle": "2021-11-07T14:16:41.151346Z",
     "shell.execute_reply": "2021-11-07T14:16:41.151276Z"
    }
   },
   "outputs": [],
   "source": [
    "# tmp = pd.DataFrame()\n",
    "# for s in range(6):\n",
    "#     df = surv_cont[s].reset_index()\n",
    "#     df.columns = ['lc', 'p']\n",
    "#     df['lc'] *= 10\n",
    "#     df['f'] = 2**s\n",
    "#     ttmmpp = pd.DataFrame({'x': df['f'], 'y': df['lc'], 'z': df['p']})\n",
    "#     tmp = tmp.append(ttmmpp).reset_index(drop=True)\n",
    "# tmp.to_csv(f\"../commpatterns/data/contour.dat\", header=False, index=False, sep=\"\\t\")"
   ]
  },
  {
   "cell_type": "code",
   "execution_count": null,
   "id": "normal-longitude",
   "metadata": {
    "execution": {
     "iopub.status.busy": "2021-11-07T14:16:41.151773Z",
     "iopub.status.idle": "2021-11-07T14:16:41.151917Z",
     "shell.execute_reply": "2021-11-07T14:16:41.151847Z"
    },
    "tags": []
   },
   "outputs": [],
   "source": [
    "points_it = pc.get_survival(alldff2['it'], unbinned=True)"
   ]
  },
  {
   "cell_type": "code",
   "execution_count": null,
   "id": "funny-sentence",
   "metadata": {
    "execution": {
     "iopub.status.busy": "2021-11-07T14:16:41.152381Z",
     "iopub.status.idle": "2021-11-07T14:16:41.152528Z",
     "shell.execute_reply": "2021-11-07T14:16:41.152456Z"
    },
    "tags": []
   },
   "outputs": [],
   "source": [
    "points_it.keys()"
   ]
  },
  {
   "cell_type": "code",
   "execution_count": null,
   "id": "gross-ranch",
   "metadata": {
    "execution": {
     "iopub.status.busy": "2021-11-07T14:16:41.152970Z",
     "iopub.status.idle": "2021-11-07T14:16:41.153115Z",
     "shell.execute_reply": "2021-11-07T14:16:41.153044Z"
    },
    "tags": []
   },
   "outputs": [],
   "source": [
    "tmp = pd.DataFrame()\n",
    "for s in points_it.keys():\n",
    "    if s <= 2**5 + 1:\n",
    "        df = points_it[s].reset_index()\n",
    "        df.columns = ['lc', 'p']\n",
    "        df['lc'] *= 10\n",
    "        df['f'] = s\n",
    "        ttmmpp = pd.DataFrame({'x': df['f'], 'y': df['lc'], 'z': df['p']})\n",
    "        tmp = tmp.append(ttmmpp).reset_index(drop=True)\n",
    "sub = [(i/4, (i + 1)/4) for i in range(4)]\n",
    "p = 0\n",
    "for s in sub:\n",
    "    df = tmp.loc[(tmp['z'] > s[0]) & (tmp['z'] <= s[1])]\n",
    "    df.drop(columns='z', inplace=True)\n",
    "    df.to_csv(f'../commpatterns/data/points{p}.dat', header=False, index=False, sep=\"\\t\")\n",
    "    print(s)\n",
    "    p += 1"
   ]
  },
  {
   "cell_type": "code",
   "execution_count": null,
   "id": "interpreted-river",
   "metadata": {
    "execution": {
     "iopub.status.busy": "2021-11-07T14:16:41.153508Z",
     "iopub.status.idle": "2021-11-07T14:16:41.153653Z",
     "shell.execute_reply": "2021-11-07T14:16:41.153582Z"
    },
    "tags": []
   },
   "outputs": [],
   "source": [
    "tmp"
   ]
  },
  {
   "cell_type": "markdown",
   "id": "governing-milwaukee",
   "metadata": {},
   "source": [
    "# Interevent times for each cohort\n",
    "\n",
    "Consider this needs to be updated after the new filters (i.e. including the first 30 days of phone calls). Just to document the way I will compute the interevent times:\n",
    "\n",
    "1. For each ego-alter pair, obtain the time (in days) between each phone call. Generate a list with the interevent times.\n",
    "2. For each ego, average the coefficients of variation and put them into a cohort list\n",
    "3. For each cohort, I should have a list of size equal to the number of egos, with all of the average coefficients of variation. Once again, if I take the average I will get the coefficient of variation for the cohort.\n",
    "\n",
    "I can try a slight variation of this by not doing step 2 and get an average for all ego-alter pairs in the cohort. I can try to identify differences in both methods."
   ]
  },
  {
   "cell_type": "code",
   "execution_count": null,
   "id": "coordinate-insured",
   "metadata": {
    "execution": {
     "iopub.status.busy": "2021-11-07T14:16:41.154156Z",
     "iopub.status.idle": "2021-11-07T14:16:41.154308Z",
     "shell.execute_reply": "2021-11-07T14:16:41.154231Z"
    }
   },
   "outputs": [],
   "source": [
    "# ie = {}\n",
    "# df = calls\n",
    "# for ego in df['ego'].unique():\n",
    "#     df1 = df.loc[df['ego'] == ego]\n",
    "#     elllist = df1.groupby('alter')[['aclock']].max()\n",
    "#     for alter in df1['alter'].unique():\n",
    "#         lamb = elllist['aclock'][alter] // 67\n",
    "#         df2 = df1.loc[df1['alter'] == alter]\n",
    "#         ie[lamb] = ie.get(lamb, [])\n",
    "#         ielist = list(df2['aclock'].diff())[1:]\n",
    "#         if len(ielist) > 2:\n",
    "#             cvar = np.nanstd(ielist) / np.nanmean(ielist)\n",
    "#             if not pd.isna(cvar):\n",
    "#                 ie[lamb].append(cvar)"
   ]
  },
  {
   "cell_type": "code",
   "execution_count": null,
   "id": "suspended-observation",
   "metadata": {
    "execution": {
     "iopub.status.busy": "2021-11-07T14:16:41.154763Z",
     "iopub.status.idle": "2021-11-07T14:16:41.154910Z",
     "shell.execute_reply": "2021-11-07T14:16:41.154839Z"
    },
    "tags": []
   },
   "outputs": [],
   "source": [
    "def get_ietimes(callsdf, Deltaell = 67):\n",
    "    df = callsdf\n",
    "    iebyego = {}\n",
    "    ieegoalter = {}\n",
    "    ieegoalter['all'] = []\n",
    "    for ego in df['ego'].unique():\n",
    "        df1 = df.loc[df['ego'] == ego]\n",
    "        elllist = df1.groupby('alter')[['aclock']].max()\n",
    "        iebyego[ego] = {}\n",
    "        iebyego[ego]['all'] = []\n",
    "        for alter in df1['alter'].unique():\n",
    "            lamb = elllist['aclock'][alter] // Deltaell\n",
    "            df2 = df1.loc[df1['alter'] == alter]\n",
    "            df2 = df2.sort_values(by='aclock')\n",
    "            ielist = list(df2['aclock'].diff())[1:]\n",
    "            ieegoalter[lamb] = ieegoalter.get(lamb, [])\n",
    "            if (len(ielist) > 2) and (np.nanmean(ielist) != 0):\n",
    "                cvar = np.nanstd(ielist) / np.nanmean(ielist)\n",
    "                if not pd.isna(cvar):\n",
    "                    ieegoalter[lamb].append(cvar)\n",
    "                    ieegoalter['all'].append(cvar)\n",
    "                    iebyego[ego][lamb] = iebyego[ego].get(lamb, [])\n",
    "                    iebyego[ego][lamb].append(cvar)\n",
    "                    iebyego[ego]['all'].append(cvar)\n",
    "    result = {}\n",
    "    result['byego'] = iebyego\n",
    "    result['egoalter'] = {}\n",
    "    for lamb in ieegoalter.keys():\n",
    "        result['egoalter'][lamb] = ieegoalter[lamb]\n",
    "    return result"
   ]
  },
  {
   "cell_type": "code",
   "execution_count": null,
   "id": "facial-country",
   "metadata": {
    "execution": {
     "iopub.status.busy": "2021-11-07T14:16:41.155409Z",
     "iopub.status.idle": "2021-11-07T14:16:41.155555Z",
     "shell.execute_reply": "2021-11-07T14:16:41.155484Z"
    },
    "tags": []
   },
   "outputs": [],
   "source": [
    "# def get_ietimes(callsdf, Deltaell = 67):\n",
    "#     df = callsdf\n",
    "#     iebyego = {}\n",
    "#     ieegoalter = {}\n",
    "#     ieegoalter['all'] = []\n",
    "#     for ego in df['ego'].unique():\n",
    "#         df1 = df.loc[df['ego'] == ego]\n",
    "#         elllist = df1.groupby('alter')[['aclock']].max()\n",
    "#         iebyego[ego] = {}\n",
    "#         iebyego[ego]['all'] = []\n",
    "#         for alter in df1['alter'].unique():\n",
    "#             lamb = elllist['aclock'][alter] // Deltaell\n",
    "#             df2 = df1.loc[df1['alter'] == alter]\n",
    "#             df2 = df2.sort_values(by='aclock')\n",
    "#             ielist = list(df2['aclock'].diff())[1:]\n",
    "#             ieegoalter[lamb] = ieegoalter.get(lamb, [])\n",
    "#             if len(ielist) > 2:\n",
    "#                 cvar = np.nanstd(ielist) / np.nanmean(ielist)\n",
    "#                 if not pd.isna(cvar):\n",
    "#                     ieegoalter[lamb].append(cvar)\n",
    "#                     ieegoalter['all'].append(cvar)\n",
    "#                     iebyego[ego][lamb] = iebyego[ego].get(lamb, [])\n",
    "#                     iebyego[ego][lamb].append(cvar)\n",
    "#                     iebyego[ego]['all'].append(cvar)\n",
    "#     result = {}\n",
    "#     result['byego'] = iebyego\n",
    "#     result['egoalter'] = {}\n",
    "#     for lamb in ieegoalter.keys():\n",
    "#         result['egoalter'][lamb] = ieegoalter[lamb]\n",
    "#     return result"
   ]
  },
  {
   "cell_type": "code",
   "execution_count": null,
   "id": "aggregate-discount",
   "metadata": {
    "execution": {
     "iopub.status.busy": "2021-11-07T14:16:41.155983Z",
     "iopub.status.idle": "2021-11-07T14:16:41.156131Z",
     "shell.execute_reply": "2021-11-07T14:16:41.156059Z"
    },
    "tags": []
   },
   "outputs": [],
   "source": [
    "iedata = {}\n",
    "for c in calls.keys():\n",
    "    iedata[c] = get_ietimes(calls[c])"
   ]
  },
  {
   "cell_type": "code",
   "execution_count": null,
   "id": "classified-tolerance",
   "metadata": {
    "execution": {
     "iopub.status.busy": "2021-11-07T14:16:41.156609Z",
     "iopub.status.idle": "2021-11-07T14:16:41.156756Z",
     "shell.execute_reply": "2021-11-07T14:16:41.156685Z"
    },
    "tags": []
   },
   "outputs": [],
   "source": [
    "# with open('../itdata/ie_mtl1.pickle', 'rb') as handle:\n",
    "#     iedata['it1'] = pickle.load(handle)\n",
    "#     handle.close()\n",
    "    \n",
    "# with open('../itdata/ie_mtl2.pickle', 'rb') as handle:\n",
    "#     iedata['it2'] = pickle.load(handle)\n",
    "#     handle.close()\n",
    "    \n",
    "with open('../itdata/ie_mtl_all.pickle', 'rb') as handle:\n",
    "    iedata['it'] = pickle.load(handle)\n",
    "    handle.close()"
   ]
  },
  {
   "cell_type": "code",
   "execution_count": null,
   "id": "headed-electricity",
   "metadata": {
    "execution": {
     "iopub.status.busy": "2021-11-07T14:16:41.157186Z",
     "iopub.status.idle": "2021-11-07T14:16:41.157334Z",
     "shell.execute_reply": "2021-11-07T14:16:41.157262Z"
    },
    "tags": []
   },
   "outputs": [],
   "source": [
    "iedata.keys()"
   ]
  },
  {
   "cell_type": "code",
   "execution_count": null,
   "id": "nominated-hayes",
   "metadata": {
    "execution": {
     "iopub.status.busy": "2021-11-07T14:16:41.157716Z",
     "iopub.status.idle": "2021-11-07T14:16:41.157865Z",
     "shell.execute_reply": "2021-11-07T14:16:41.157791Z"
    },
    "tags": []
   },
   "outputs": [],
   "source": [
    "for c in iedata.keys():\n",
    "    thelist = iedata[c]['egoalter']['all']\n",
    "    print(c, np.mean(thelist), np.std(thelist))"
   ]
  },
  {
   "cell_type": "code",
   "execution_count": null,
   "id": "accredited-tourism",
   "metadata": {
    "execution": {
     "iopub.status.busy": "2021-11-07T14:16:41.158320Z",
     "iopub.status.idle": "2021-11-07T14:16:41.158468Z",
     "shell.execute_reply": "2021-11-07T14:16:41.158397Z"
    },
    "tags": []
   },
   "outputs": [],
   "source": [
    "for c in iedata.keys():\n",
    "    thelist = []\n",
    "    data = iedata[c]['byego']\n",
    "    for ego in data.keys():\n",
    "        acv = np.mean(data[ego]['all'])\n",
    "        thelist.append(acv)\n",
    "    print(len(thelist))\n",
    "    print(c, np.nanmean(thelist), np.nanstd(thelist))"
   ]
  },
  {
   "cell_type": "code",
   "execution_count": null,
   "id": "western-tuesday",
   "metadata": {
    "execution": {
     "iopub.status.busy": "2021-11-07T14:16:41.158910Z",
     "iopub.status.idle": "2021-11-07T14:16:41.159055Z",
     "shell.execute_reply": "2021-11-07T14:16:41.158984Z"
    },
    "tags": []
   },
   "outputs": [],
   "source": [
    "ieH = {}\n",
    "for c in iedata.keys():\n",
    "    ieH[c] = {}\n",
    "    ieH[c]['byego'] = {}\n",
    "    data = iedata[c]['byego']\n",
    "    for ego in data.keys():\n",
    "        data2 = data[ego]\n",
    "        for k in data2.keys():\n",
    "            ieH[c]['byego'][k] = ieH[c]['byego'].get(k, [])\n",
    "            ieH[c]['byego'][k].append(np.nanmean(data2[k]))\n",
    "    ieH[c]['egoalter'] = {}\n",
    "    for k in [0, 1, 2, 'all']:\n",
    "        dat = [x for x in ieH[c]['byego'][k] if not pd.isna(x)]\n",
    "        ieH[c]['byego'][k] = dat\n",
    "        ieH[c]['egoalter'][k] = iedata[c]['egoalter'][k]\n",
    "ieH['all'] = {}\n",
    "for t in ['byego', 'egoalter']:\n",
    "    ieH['all'][t] = {}\n",
    "    for k in [0, 1, 2, 'all']:\n",
    "        for c in ['uk', 'mit', 'it']:\n",
    "            ieH['all'][t][k] = ieH['all'][t].get(k, [])\n",
    "            ieH['all'][t][k] += ieH[c][t][k]\n",
    "            \n",
    "for c in ieH.keys():\n",
    "    for t in ieH[c].keys():\n",
    "        for k in ieH[c][t].keys():\n",
    "            ieH[c][t][k] = (np.nanmean(ieH[c][t][k]), pc.histogram(ieH[c][t][k], 30, log=False), len(ieH[c][t][k]))"
   ]
  },
  {
   "cell_type": "code",
   "execution_count": null,
   "id": "visible-coaching",
   "metadata": {
    "execution": {
     "iopub.status.busy": "2021-11-07T14:16:41.159436Z",
     "iopub.status.idle": "2021-11-07T14:16:41.159583Z",
     "shell.execute_reply": "2021-11-07T14:16:41.159512Z"
    },
    "tags": []
   },
   "outputs": [],
   "source": [
    "plt.figure(figsize=(32, 32))\n",
    "labels = ['Short Lifetime', 'Middle Lifetime', 'Long Lifetime', 'All Lifetime']\n",
    "p = 1\n",
    "for c in ['uk', 'mit', 'it', 'all']:\n",
    "    for t in ['byego', 'egoalter']:\n",
    "        plt.subplot(4,2,p)\n",
    "        if t == 'egoalter':\n",
    "            plt.xlim(-0.5, 15.5)\n",
    "        else:\n",
    "            plt.xlim(0.5, 4)\n",
    "        plt.xlabel(f\"CV {c} {t}\")\n",
    "        plt.ylabel(\"PMF\")\n",
    "        lab = 0\n",
    "        for k in [0, 1, 2, 'all']:\n",
    "            plt.plot(ieH[c][t][k][1]['label'], ieH[c][t][k][1]['pmf'], marker=markers[lab], markersize=13, ls=\"--\", label=f'{labels[lab]} ({ieH[c][t][k][0]:.2f}) n = {ieH[c][t][k][2]}')\n",
    "            lab += 1\n",
    "        plt.legend()\n",
    "        p += 1"
   ]
  },
  {
   "cell_type": "markdown",
   "id": "boolean-trunk",
   "metadata": {},
   "source": [
    "# Mutual Information\n",
    "\n",
    "Needs to be recalculated with the updates in the data"
   ]
  },
  {
   "cell_type": "code",
   "execution_count": null,
   "id": "essential-implement",
   "metadata": {
    "execution": {
     "iopub.status.busy": "2021-11-07T14:16:41.160059Z",
     "iopub.status.idle": "2021-11-07T14:16:41.160204Z",
     "shell.execute_reply": "2021-11-07T14:16:41.160134Z"
    },
    "tags": []
   },
   "outputs": [],
   "source": [
    "alldff2.keys()"
   ]
  },
  {
   "cell_type": "code",
   "execution_count": null,
   "id": "advised-jesus",
   "metadata": {
    "execution": {
     "iopub.status.busy": "2021-11-07T14:16:41.160630Z",
     "iopub.status.idle": "2021-11-07T14:16:41.160777Z",
     "shell.execute_reply": "2021-11-07T14:16:41.160706Z"
    },
    "tags": []
   },
   "outputs": [],
   "source": [
    "calls.keys()"
   ]
  },
  {
   "cell_type": "code",
   "execution_count": null,
   "id": "mobile-network",
   "metadata": {
    "execution": {
     "iopub.status.busy": "2021-11-07T14:16:41.161155Z",
     "iopub.status.idle": "2021-11-07T14:16:41.161300Z",
     "shell.execute_reply": "2021-11-07T14:16:41.161229Z"
    },
    "tags": []
   },
   "outputs": [],
   "source": [
    "lives = {}\n",
    "for c in calls.keys():\n",
    "    lives[c] = pc.lives_dictionary(calls[c])\n",
    "\n",
    "with open('../itdata/mtl_all_lives.pickle', 'rb') as handle:\n",
    "    tmp = pickle.load(handle)\n",
    "    lives['it'] = tmp['all']\n",
    "    handle.close()\n",
    "\n",
    "lives['all'] = {}\n",
    "for c in lives.keys():\n",
    "    lives['all'].update(lives[c])"
   ]
  },
  {
   "cell_type": "code",
   "execution_count": null,
   "id": "advance-immigration",
   "metadata": {
    "execution": {
     "iopub.status.busy": "2021-11-07T14:16:41.161704Z",
     "iopub.status.idle": "2021-11-07T14:16:41.161852Z",
     "shell.execute_reply": "2021-11-07T14:16:41.161780Z"
    },
    "tags": []
   },
   "outputs": [],
   "source": [
    "lives.keys()"
   ]
  },
  {
   "cell_type": "code",
   "execution_count": null,
   "id": "golden-graduation",
   "metadata": {
    "execution": {
     "iopub.status.busy": "2021-11-07T14:16:41.162351Z",
     "iopub.status.idle": "2021-11-07T14:16:41.162497Z",
     "shell.execute_reply": "2021-11-07T14:16:41.162426Z"
    },
    "scrolled": true,
    "tags": []
   },
   "outputs": [],
   "source": [
    "def get_month2(dff, lives):\n",
    "    result = pd.DataFrame()\n",
    "    idx = 0\n",
    "    for ego in dff.keys():\n",
    "        for alter in dff[ego].keys():\n",
    "            df = dff[ego][alter].loc[dff[ego][alter]['alpha'] == 1]\n",
    "            if (len(df) > 0) and (ego in lives.keys()):\n",
    "                result.at[idx, 'ego'] = ego\n",
    "                result.at[idx, 'alter'] = alter\n",
    "                result.at[idx, 'F'] = sum(df['f'])\n",
    "                result.at[idx, 'lambda'] = lives[ego][alter]['ell']\n",
    "                idx += 1\n",
    "    return result\n",
    "\n",
    "miall = []\n",
    "for i in lives.keys():\n",
    "    miall.append(get_month2(alldff2[i], lives[i]))"
   ]
  },
  {
   "cell_type": "code",
   "execution_count": null,
   "id": "superb-traveler",
   "metadata": {
    "execution": {
     "iopub.status.busy": "2021-11-07T14:16:41.162928Z",
     "iopub.status.idle": "2021-11-07T14:16:41.163078Z",
     "shell.execute_reply": "2021-11-07T14:16:41.163004Z"
    },
    "tags": []
   },
   "outputs": [],
   "source": [
    "import sklearn.metrics as sk\n",
    "miplot = []\n",
    "for i in miall:\n",
    "    miplot.append(sk.mutual_info_score(i['F'], i['lambda']))\n",
    "for i in range(len(miplot)):\n",
    "    print(list(lives.keys())[i],\"\\t\", miplot[i],\"\\t\", miplot[i]*1.44)"
   ]
  },
  {
   "cell_type": "code",
   "execution_count": null,
   "id": "equipped-provision",
   "metadata": {
    "execution": {
     "iopub.status.busy": "2021-11-07T14:16:41.163514Z",
     "iopub.status.idle": "2021-11-07T14:16:41.163659Z",
     "shell.execute_reply": "2021-11-07T14:16:41.163588Z"
    },
    "tags": []
   },
   "outputs": [],
   "source": [
    "entropies = []\n",
    "for i in miall:\n",
    "    X = stats.entropy([xx / sum(i[\"F\"]) for xx in i['F']])\n",
    "    Y = stats.entropy([yy / sum(i['lambda']) for yy in i['lambda']])\n",
    "    entropies.append(np.mean([X, Y]))\n",
    "    print(X, Y, np.mean([X, Y]))"
   ]
  },
  {
   "cell_type": "code",
   "execution_count": null,
   "id": "knowing-disney",
   "metadata": {
    "execution": {
     "iopub.status.busy": "2021-11-07T14:16:41.164067Z",
     "iopub.status.idle": "2021-11-07T14:16:41.164215Z",
     "shell.execute_reply": "2021-11-07T14:16:41.164143Z"
    },
    "tags": []
   },
   "outputs": [],
   "source": [
    "for i in range(len(miplot)):\n",
    "    print(['uk', 'uk2', 'mit', 'it', 'all'][i],\"\\t\", miplot[i],\"\\t\", miplot[i] / entropies[i])"
   ]
  },
  {
   "cell_type": "code",
   "execution_count": null,
   "id": "incomplete-hacker",
   "metadata": {
    "execution": {
     "iopub.status.busy": "2021-11-07T14:16:41.164715Z",
     "iopub.status.idle": "2021-11-07T14:16:41.164862Z",
     "shell.execute_reply": "2021-11-07T14:16:41.164790Z"
    },
    "tags": []
   },
   "outputs": [],
   "source": [
    "list(lives.keys())"
   ]
  },
  {
   "cell_type": "code",
   "execution_count": null,
   "id": "hollow-blank",
   "metadata": {
    "execution": {
     "iopub.status.busy": "2021-11-07T14:16:41.165295Z",
     "iopub.status.idle": "2021-11-07T14:16:41.165442Z",
     "shell.execute_reply": "2021-11-07T14:16:41.165371Z"
    },
    "tags": []
   },
   "outputs": [],
   "source": [
    "for c in ['uk', 'mit', 'it']:\n",
    "    p = 0\n",
    "    for ego in alldff2[c].keys():\n",
    "        p += len(alldff[c][ego].keys())\n",
    "    print(c, p)"
   ]
  },
  {
   "cell_type": "markdown",
   "id": "republican-condition",
   "metadata": {},
   "source": [
    "# Additional checks"
   ]
  },
  {
   "cell_type": "code",
   "execution_count": null,
   "id": "fatty-softball",
   "metadata": {
    "execution": {
     "iopub.status.busy": "2021-11-07T14:16:41.165884Z",
     "iopub.status.idle": "2021-11-07T14:16:41.166028Z",
     "shell.execute_reply": "2021-11-07T14:16:41.165958Z"
    },
    "tags": []
   },
   "outputs": [],
   "source": [
    "def get_avgfa(fresult, lives, ell0, ellf):\n",
    "    fi = {}\n",
    "    for ego in fresult.keys():\n",
    "        nalt = 0\n",
    "        fi[ego] = {}\n",
    "        for alter in fresult[ego].keys():\n",
    "            ell = lives[ego][alter]['ell']\n",
    "            if (ell >= ell0) and (ell <= ellf):\n",
    "                df = fresult[ego][alter]\n",
    "                nalt += 1\n",
    "                for i in df.index:\n",
    "                    a = df.at[i, 'alpha']\n",
    "                    f = df.at[i, 'f']\n",
    "                    fi[ego][a] = fi[ego].get(a, 0) + f\n",
    "        for a in fi[ego].keys():\n",
    "            fi[ego][a] /= nalt\n",
    "    \n",
    "    tmp = {}\n",
    "    for ego in fi.keys():\n",
    "        for a in fi[ego].keys():\n",
    "            tmp[a] = tmp.get(a, [])\n",
    "            tmp[a].append(fi[ego][a])\n",
    "    for a in tmp.keys():\n",
    "        tmp[a] = np.mean(tmp[a])\n",
    "        \n",
    "    res = pd.DataFrame.from_dict(tmp, orient='index', columns=['f'])\n",
    "    res = res.sort_index()\n",
    "    return res"
   ]
  },
  {
   "cell_type": "code",
   "execution_count": null,
   "id": "excellent-canal",
   "metadata": {
    "execution": {
     "iopub.status.busy": "2021-11-07T14:16:41.166438Z",
     "iopub.status.idle": "2021-11-07T14:16:41.166602Z",
     "shell.execute_reply": "2021-11-07T14:16:41.166529Z"
    }
   },
   "outputs": [],
   "source": [
    "get_avgfa(alldff['uk'], lives['uk'], 50, 59)"
   ]
  },
  {
   "cell_type": "code",
   "execution_count": null,
   "id": "chubby-halifax",
   "metadata": {
    "execution": {
     "iopub.status.busy": "2021-11-07T14:16:41.167001Z",
     "iopub.status.idle": "2021-11-07T14:16:41.167144Z",
     "shell.execute_reply": "2021-11-07T14:16:41.167074Z"
    }
   },
   "outputs": [],
   "source": [
    "og = copy.deepcopy(supC['mit'][51][1])"
   ]
  },
  {
   "cell_type": "code",
   "execution_count": null,
   "id": "solar-shape",
   "metadata": {
    "execution": {
     "iopub.status.busy": "2021-11-07T14:16:41.167643Z",
     "iopub.status.idle": "2021-11-07T14:16:41.167849Z",
     "shell.execute_reply": "2021-11-07T14:16:41.167718Z"
    }
   },
   "outputs": [],
   "source": [
    "mit = callT['mit'][200]\n",
    "tmpdff = pc.get_f(mit, 'all', 15, 51)"
   ]
  },
  {
   "cell_type": "code",
   "execution_count": null,
   "id": "moving-chinese",
   "metadata": {
    "execution": {
     "iopub.status.busy": "2021-11-07T14:16:41.168286Z",
     "iopub.status.idle": "2021-11-07T14:16:41.168432Z",
     "shell.execute_reply": "2021-11-07T14:16:41.168361Z"
    }
   },
   "outputs": [],
   "source": [
    "test1 = get_avgfa(tmpdff, lives['mit'], 51, 101)"
   ]
  },
  {
   "cell_type": "code",
   "execution_count": null,
   "id": "suburban-desktop",
   "metadata": {
    "execution": {
     "iopub.status.busy": "2021-11-07T14:16:41.168852Z",
     "iopub.status.idle": "2021-11-07T14:16:41.168997Z",
     "shell.execute_reply": "2021-11-07T14:16:41.168927Z"
    }
   },
   "outputs": [],
   "source": [
    "test2 = get_avgfa(tmpdff, lives['mit'], 50, 80)"
   ]
  },
  {
   "cell_type": "code",
   "execution_count": null,
   "id": "reduced-singer",
   "metadata": {
    "execution": {
     "iopub.status.busy": "2021-11-07T14:16:41.169422Z",
     "iopub.status.idle": "2021-11-07T14:16:41.169567Z",
     "shell.execute_reply": "2021-11-07T14:16:41.169496Z"
    }
   },
   "outputs": [],
   "source": [
    "test3 = get_avgfa(tmpdff, lives['mit'], 60, 80)"
   ]
  },
  {
   "cell_type": "code",
   "execution_count": null,
   "id": "alpine-commerce",
   "metadata": {},
   "outputs": [],
   "source": []
  },
  {
   "cell_type": "code",
   "execution_count": null,
   "id": "circular-stretch",
   "metadata": {
    "execution": {
     "iopub.status.busy": "2021-11-07T14:16:41.169944Z",
     "iopub.status.idle": "2021-11-07T14:16:41.170088Z",
     "shell.execute_reply": "2021-11-07T14:16:41.170018Z"
    }
   },
   "outputs": [],
   "source": [
    "plt.plot(og.index, og['alpha'], marker=\"o\", markersize=15, ls=\"--\", lw=2, label='original')\n",
    "plt.plot(test1.index, test1[0], marker=\"x\", markersize=10, ls=\"-\", lw=2, label=r'$51 \\leq \\ell < 102$')\n",
    "plt.plot(test2.index, test2[0], marker=\"x\", markersize=10, ls=\"-\", lw=2, label=r'$50 \\leq \\ell < 81$')\n",
    "plt.plot(test3.index, test3[0], marker=\"D\", markersize=10, ls=\"-\", lw=2, label=r'$60 \\leq \\ell < 81$')\n",
    "plt.legend()"
   ]
  },
  {
   "cell_type": "code",
   "execution_count": null,
   "id": "grave-fancy",
   "metadata": {
    "execution": {
     "iopub.status.busy": "2021-11-07T14:16:41.170427Z",
     "iopub.status.idle": "2021-11-07T14:16:41.170576Z",
     "shell.execute_reply": "2021-11-07T14:16:41.170503Z"
    }
   },
   "outputs": [],
   "source": [
    "lives['it'].keys()"
   ]
  },
  {
   "cell_type": "code",
   "execution_count": null,
   "id": "ignored-magnet",
   "metadata": {
    "execution": {
     "iopub.status.busy": "2021-11-07T14:16:41.170914Z",
     "iopub.status.idle": "2021-11-07T14:16:41.171054Z",
     "shell.execute_reply": "2021-11-07T14:16:41.170985Z"
    }
   },
   "outputs": [],
   "source": [
    "def get_avgfa2(fresult, lives, ell0, ellf):\n",
    "    fi = {}\n",
    "    for ego in fresult.keys():\n",
    "        nalt = {}\n",
    "        fi[ego] = {}\n",
    "        for alter in fresult[ego].keys():\n",
    "            ell = lives[ego][alter]['ell']\n",
    "            if (ell >= ell0) and (ell <= ellf):\n",
    "                df = fresult[ego][alter]\n",
    "                for i in df.index:\n",
    "                    a = df.at[i, 'alpha']\n",
    "                    f = df.at[i, 'f']\n",
    "                    nalt[a] = nalt.get(a, 0) + 1\n",
    "                    fi[ego][a] = fi[ego].get(a, 0) + f\n",
    "        for a in fi[ego].keys():\n",
    "            fi[ego][a] /= nalt[a]\n",
    "    \n",
    "    tmp = {}\n",
    "    for ego in fi.keys():\n",
    "        for a in fi[ego].keys():\n",
    "            tmp[a] = tmp.get(a, [])\n",
    "            tmp[a].append(fi[ego][a])\n",
    "    for a in tmp.keys():\n",
    "        tmp[a] = np.mean(tmp[a])\n",
    "        \n",
    "    res = pd.DataFrame.from_dict(tmp, orient='index')\n",
    "    res = res.sort_index()\n",
    "    return res"
   ]
  },
  {
   "cell_type": "code",
   "execution_count": null,
   "id": "postal-sunset",
   "metadata": {
    "execution": {
     "iopub.status.busy": "2021-11-07T14:16:41.171381Z",
     "iopub.status.idle": "2021-11-07T14:16:41.171519Z",
     "shell.execute_reply": "2021-11-07T14:16:41.171451Z"
    }
   },
   "outputs": [],
   "source": [
    "test1b = get_avgfa2(tmpdff, lives['mit'], 51, 101)"
   ]
  },
  {
   "cell_type": "code",
   "execution_count": null,
   "id": "raised-ranch",
   "metadata": {
    "execution": {
     "iopub.status.busy": "2021-11-07T14:16:41.171847Z",
     "iopub.status.idle": "2021-11-07T14:16:41.171986Z",
     "shell.execute_reply": "2021-11-07T14:16:41.171918Z"
    }
   },
   "outputs": [],
   "source": [
    "plt.plot(og.index, og['alpha'], marker=\"o\", markersize=15, ls=\"--\", lw=2, label='original')\n",
    "plt.plot(test1b.index, test1b[0], marker=\"x\", markersize=10, ls=\"-\", lw=2, label=r'$51 \\leq \\ell < 102$')\n",
    "plt.legend()"
   ]
  },
  {
   "cell_type": "code",
   "execution_count": null,
   "id": "environmental-franchise",
   "metadata": {
    "execution": {
     "iopub.status.busy": "2021-11-07T14:16:41.172343Z",
     "iopub.status.idle": "2021-11-07T14:16:41.172483Z",
     "shell.execute_reply": "2021-11-07T14:16:41.172414Z"
    }
   },
   "outputs": [],
   "source": [
    "calls = {}\n",
    "for c in ['uk2', 'uk', 'mit']:    \n",
    "    df = unfiltered[c].loc[unfiltered[c]['aclock'] <= 200]\n",
    "#     if c != 'uk2':\n",
    "#         une = df.groupby('ego')[['uclock']].min()\n",
    "#         deux = pd.DataFrame()\n",
    "#         for ego in df['ego'].unique():\n",
    "#             tmp = df.loc[df['ego'] == ego]\n",
    "#             minday = une.loc[ego]['uclock'] + 10\n",
    "#             df1 = df.loc[df['uclock'] >= minday]\n",
    "#             deux = deux.append(df1).reset_index(drop=True)\n",
    "#         df = deux\n",
    "    uno = pd.DataFrame()\n",
    "    T = max(df['uclock'])\n",
    "    for ego in df['ego'].unique():\n",
    "        df1 = df.loc[df['ego'] == ego]\n",
    "        for alter in df1['alter'].unique():\n",
    "            df2 = df1.loc[df1['alter'] == alter]\n",
    "            mint = min(df2['uclock'])\n",
    "            if mint < (T - 200):\n",
    "                df3 = df2.copy()\n",
    "                df3['aclock'] = df2['uclock'] - mint\n",
    "                uno = uno.append(df3).reset_index(drop=True)\n",
    "    calls[c] = uno\n",
    "    print(f\"done with {c}\")"
   ]
  },
  {
   "cell_type": "code",
   "execution_count": null,
   "id": "latin-myrtle",
   "metadata": {
    "execution": {
     "iopub.status.busy": "2021-11-07T14:16:41.172827Z",
     "iopub.status.idle": "2021-11-07T14:16:41.172975Z",
     "shell.execute_reply": "2021-11-07T14:16:41.172905Z"
    }
   },
   "outputs": [],
   "source": [
    "alldff = {}\n",
    "for c in calls.keys():\n",
    "    alldff[c] = pc.get_f(calls[c], 'all', 15, 67)\n",
    "    \n",
    "with open('../itdata/mtl_all_lambda_alpha_fig2.pickle', 'rb') as handle:\n",
    "    alldff['it'] = pickle.load(handle)\n",
    "    handle.close()"
   ]
  },
  {
   "cell_type": "code",
   "execution_count": null,
   "id": "editorial-trunk",
   "metadata": {
    "execution": {
     "iopub.status.busy": "2021-11-07T14:16:41.173415Z",
     "iopub.status.idle": "2021-11-07T14:16:41.173581Z",
     "shell.execute_reply": "2021-11-07T14:16:41.173509Z"
    }
   },
   "outputs": [],
   "source": [
    "for c in ['uk2', 'uk', 'mit']:\n",
    "    lives[c] = pc.lives_dictionary(calls[c])"
   ]
  },
  {
   "cell_type": "code",
   "execution_count": null,
   "id": "induced-texas",
   "metadata": {
    "execution": {
     "iopub.status.busy": "2021-11-07T14:16:41.173978Z",
     "iopub.status.idle": "2021-11-07T14:16:41.174129Z",
     "shell.execute_reply": "2021-11-07T14:16:41.174058Z"
    }
   },
   "outputs": [],
   "source": [
    "stablec = {}\n",
    "for c in alldff.keys():\n",
    "    b = pc.get_b(alldff[c], 'alpha')\n",
    "    stablec[c] = pc.plot_g(b, 'alpha')"
   ]
  },
  {
   "cell_type": "code",
   "execution_count": null,
   "id": "structural-necessity",
   "metadata": {
    "execution": {
     "iopub.status.busy": "2021-11-07T14:16:41.174494Z",
     "iopub.status.idle": "2021-11-07T14:16:41.174635Z",
     "shell.execute_reply": "2021-11-07T14:16:41.174565Z"
    }
   },
   "outputs": [],
   "source": [
    "stablec2 = {}\n",
    "for c in alldff.keys():\n",
    "    l = 0\n",
    "    stablec2[c] = {}\n",
    "    for ells in [(0,66), (67,134), (135,200)]:\n",
    "        stablec2[c][l] = get_avgfa2(alldff[c], lives[c], ells[0], ells[1])\n",
    "        l += 1"
   ]
  },
  {
   "cell_type": "code",
   "execution_count": null,
   "id": "dying-frontier",
   "metadata": {
    "execution": {
     "iopub.status.busy": "2021-11-07T14:16:41.175033Z",
     "iopub.status.idle": "2021-11-07T14:16:41.175180Z",
     "shell.execute_reply": "2021-11-07T14:16:41.175110Z"
    }
   },
   "outputs": [],
   "source": [
    "plt.figure(figsize=(20, 32))\n",
    "p = 1\n",
    "labels = ['Short Lifetime', 'Middle Lifetime', 'Long Lifetime']\n",
    "cohorts = ['UK2', 'UK', 'USA', 'Italy']\n",
    "for c in ['uk', 'uk2', 'mit', 'it']:\n",
    "    plt.subplot(4,1,p)\n",
    "    plt.xlabel(f\"Lapse in cohort {cohorts[p - 1]}\")\n",
    "    plt.ylabel(r\"$\\bar{f}$\")\n",
    "    plt.xticks(range(0, 201, 15))\n",
    "    for lamb in stablec[c].keys():\n",
    "        l = int(lamb)\n",
    "        plt.plot([15 * x for x in stablec[c][l].index], stablec[c][l]['alpha'], marker=markers[l], ls=\"--\", markersize=15, label=labels[l])\n",
    "    plt.legend()\n",
    "    p += 1"
   ]
  },
  {
   "cell_type": "code",
   "execution_count": null,
   "id": "fossil-display",
   "metadata": {
    "execution": {
     "iopub.status.busy": "2021-11-07T14:16:41.175584Z",
     "iopub.status.idle": "2021-11-07T14:16:41.175736Z",
     "shell.execute_reply": "2021-11-07T14:16:41.175665Z"
    }
   },
   "outputs": [],
   "source": [
    "plt.figure(figsize=(20, 32))\n",
    "p = 1\n",
    "labels = ['Short Lifetime', 'Middle Lifetime', 'Long Lifetime']\n",
    "cohorts = ['UK2', 'UK', 'USA', 'Italy']\n",
    "for c in ['uk', 'uk2', 'mit', 'it']:\n",
    "    plt.subplot(4,1,p)\n",
    "    plt.xlabel(f\"Lapse in cohort {cohorts[p - 1]}\")\n",
    "    plt.ylabel(r\"$\\bar{f}$\")\n",
    "    plt.xticks(range(0, 201, 15))\n",
    "    for lamb in stablec2[c].keys():\n",
    "        l = int(lamb)\n",
    "        plt.plot([15 * x for x in stablec2[c][l].index], stablec2[c][l][0], marker=markers[l], ls=\"--\", markersize=15, label=labels[l])\n",
    "    plt.legend()\n",
    "    p += 1"
   ]
  },
  {
   "cell_type": "markdown",
   "id": "unlimited-infection",
   "metadata": {},
   "source": [
    "## New version of SI C"
   ]
  },
  {
   "cell_type": "code",
   "execution_count": null,
   "id": "ranking-resort",
   "metadata": {
    "execution": {
     "iopub.status.busy": "2021-11-07T14:16:41.176134Z",
     "iopub.status.idle": "2021-11-07T14:16:41.176286Z",
     "shell.execute_reply": "2021-11-07T14:16:41.176215Z"
    },
    "tags": []
   },
   "outputs": [],
   "source": [
    "calls = {}\n",
    "for c in callT.keys():\n",
    "    calls[c] = callT[c][250]\n",
    "        \n",
    "lives = {}\n",
    "for c in calls.keys():\n",
    "    lives[c] = pc.lives_dictionary(calls[c])"
   ]
  },
  {
   "cell_type": "code",
   "execution_count": null,
   "id": "promising-sullivan",
   "metadata": {
    "execution": {
     "iopub.status.busy": "2021-11-07T14:16:41.176682Z",
     "iopub.status.idle": "2021-11-07T14:16:41.176831Z",
     "shell.execute_reply": "2021-11-07T14:16:41.176760Z"
    },
    "tags": []
   },
   "outputs": [],
   "source": [
    "with open('../itdata/mtl_all_lives.pickle', 'rb') as handle:\n",
    "    itlives = pickle.load(handle)\n",
    "    handle.close()\n",
    "    \n",
    "lives['it'] = itlives['all']"
   ]
  },
  {
   "cell_type": "code",
   "execution_count": null,
   "id": "floating-validity",
   "metadata": {
    "execution": {
     "iopub.status.busy": "2021-11-07T14:16:41.177213Z",
     "iopub.status.idle": "2021-11-07T14:16:41.177362Z",
     "shell.execute_reply": "2021-11-07T14:16:41.177291Z"
    },
    "tags": []
   },
   "outputs": [],
   "source": [
    "supCnew = {}\n",
    "for c in alldff.keys():\n",
    "    supCnew[c] = {}\n",
    "    supCnew[c]['s0'] = get_avgfa(alldff[c], lives[c], 0, 66)\n",
    "    supCnew[c]['m0'] = get_avgfa(alldff[c], lives[c], 67, 133)\n",
    "    supCnew[c]['l0'] = get_avgfa(alldff[c], lives[c], 134, 200)"
   ]
  },
  {
   "cell_type": "code",
   "execution_count": null,
   "id": "finnish-bermuda",
   "metadata": {
    "execution": {
     "iopub.status.busy": "2021-11-07T14:16:41.177814Z",
     "iopub.status.idle": "2021-11-07T14:16:41.177957Z",
     "shell.execute_reply": "2021-11-07T14:16:41.177887Z"
    },
    "tags": []
   },
   "outputs": [],
   "source": [
    "plt.figure(figsize=(36, 24))\n",
    "p = 1\n",
    "for c in supCnew.keys():\n",
    "    for lf in supCnew[c].keys():\n",
    "        plt.subplot(4,3,p)\n",
    "        plt.xlabel(fr\"$a$ cohort {c}\")\n",
    "        plt.ylabel(r\"$\\bar{f}$\")\n",
    "        plt.plot(supCnew[c][lf].index, supCnew[c][lf]['f'], marker=\"o\", markersize=13, ls=\"--\", lw=2, label=f\"{lf}\")\n",
    "        plt.legend()\n",
    "        p += 1"
   ]
  },
  {
   "cell_type": "code",
   "execution_count": null,
   "id": "confused-guide",
   "metadata": {
    "execution": {
     "iopub.status.busy": "2021-11-07T14:16:41.178342Z",
     "iopub.status.idle": "2021-11-07T14:16:41.178493Z",
     "shell.execute_reply": "2021-11-07T14:16:41.178422Z"
    },
    "tags": []
   },
   "outputs": [],
   "source": [
    "limits = {}\n",
    "limits['s0'] = (0, 66)\n",
    "limits['s1'] = (0, 40)\n",
    "limits['s2'] = (0, 50)\n",
    "limits['s3'] = (0, 75)\n",
    "\n",
    "limits['m0'] = (67, 133)\n",
    "limits['m1'] = (67, 100)\n",
    "limits['m2'] = (67, 115)\n",
    "limits['m3'] = (67, 150)\n",
    "\n",
    "limits['l0'] = (134, 190)\n",
    "limits['l1'] = (134, 170)\n",
    "limits['l2'] = (134, 180)\n",
    "limits['l3'] = (134, 199)"
   ]
  },
  {
   "cell_type": "code",
   "execution_count": null,
   "id": "written-executive",
   "metadata": {
    "execution": {
     "iopub.status.busy": "2021-11-07T14:16:41.178886Z",
     "iopub.status.idle": "2021-11-07T14:16:41.179044Z",
     "shell.execute_reply": "2021-11-07T14:16:41.178972Z"
    },
    "tags": []
   },
   "outputs": [],
   "source": [
    "supCnew = {}\n",
    "for c in ['uk2', 'uk', 'mit', 'it']:\n",
    "    supCnew[c] = {}\n",
    "    for lf in limits.keys():\n",
    "        supCnew[c][lf] = pc.get_avgfa(alldff[c], lives[c], limits[lf][0], limits[lf][1])"
   ]
  },
  {
   "cell_type": "code",
   "execution_count": null,
   "id": "responsible-circulation",
   "metadata": {
    "execution": {
     "iopub.status.busy": "2021-11-07T14:16:41.179451Z",
     "iopub.status.idle": "2021-11-07T14:16:41.179602Z",
     "shell.execute_reply": "2021-11-07T14:16:41.179531Z"
    },
    "tags": []
   },
   "outputs": [],
   "source": [
    "plt.figure(figsize=(36, 24))\n",
    "p = 1\n",
    "for c in supCnew.keys():\n",
    "    for lf in ['s', 'm', 'l']:\n",
    "        plt.subplot(4,3,p)\n",
    "        plt.xlabel(fr\"$a$ cohort {c}\")\n",
    "        plt.ylabel(r\"$\\bar{f}$\")\n",
    "        for i in range(4):\n",
    "            key = lf + str(i)\n",
    "            if i == 0:\n",
    "                plt.plot(supCnew[c][key].index, supCnew[c][key]['f'], marker=markers[i], markersize=13, ls=\"--\", lw=2, color=\"black\", label=fr\"${limits[key][0]} \\leq \\ell \\leq {limits[key][1]}$\")\n",
    "            else:\n",
    "                plt.plot(supCnew[c][key].index, supCnew[c][key]['f'], marker=markers[i], markersize=13, ls=\"--\", lw=2, label=fr\"${limits[key][0]} \\leq \\ell \\leq {limits[key][1]}$\")\n",
    "        plt.legend()\n",
    "        p += 1"
   ]
  },
  {
   "cell_type": "code",
   "execution_count": null,
   "id": "cheap-roulette",
   "metadata": {
    "execution": {
     "iopub.status.busy": "2021-11-07T14:16:41.180005Z",
     "iopub.status.idle": "2021-11-07T14:16:41.180146Z",
     "shell.execute_reply": "2021-11-07T14:16:41.180077Z"
    },
    "tags": []
   },
   "outputs": [],
   "source": [
    "for c in supCnew.keys():\n",
    "    tmp = pd.DataFrame(index=list(range(14)))\n",
    "    for series in supCnew[c].keys():\n",
    "        data = supCnew[c][series].copy(deep=True)\n",
    "        data.columns = [f'{series}']\n",
    "        tmp = tmp.merge(data, left_index=True, right_index=True, how='outer')\n",
    "    tmp = tmp.fillna('nan')\n",
    "    tmp.index.rename('a', inplace=True)\n",
    "    tmp.to_csv(f\"../commpatterns/PNAS_paper/SI/figs/SIc2_{c}.dat\", header=True, sep=\"\\t\")"
   ]
  },
  {
   "cell_type": "code",
   "execution_count": null,
   "id": "reliable-plaintiff",
   "metadata": {
    "execution": {
     "iopub.status.busy": "2021-11-07T14:16:41.180552Z",
     "iopub.status.idle": "2021-11-07T14:16:41.180747Z",
     "shell.execute_reply": "2021-11-07T14:16:41.180676Z"
    },
    "tags": []
   },
   "outputs": [],
   "source": [
    "tmp"
   ]
  },
  {
   "cell_type": "code",
   "execution_count": null,
   "id": "outside-brain",
   "metadata": {
    "execution": {
     "iopub.status.busy": "2021-11-07T14:16:41.181136Z",
     "iopub.status.idle": "2021-11-07T14:16:41.181283Z",
     "shell.execute_reply": "2021-11-07T14:16:41.181213Z"
    },
    "tags": []
   },
   "outputs": [],
   "source": [
    "tmp = {}\n",
    "for c in lives.keys():\n",
    "    tmp[c] = []\n",
    "    for ego in lives[c].keys():\n",
    "        for alter in lives[c][ego].keys():\n",
    "            ell = lives[c][ego][alter]['ell']\n",
    "            tmp[c].append(ell)"
   ]
  },
  {
   "cell_type": "code",
   "execution_count": null,
   "id": "obvious-wallpaper",
   "metadata": {
    "execution": {
     "iopub.status.busy": "2021-11-07T14:16:41.181683Z",
     "iopub.status.idle": "2021-11-07T14:16:41.181840Z",
     "shell.execute_reply": "2021-11-07T14:16:41.181768Z"
    },
    "tags": []
   },
   "outputs": [],
   "source": [
    "lfh = {}\n",
    "for c in tmp.keys():\n",
    "    lfh[c] = pc.histogram(tmp[c], 20, False)"
   ]
  },
  {
   "cell_type": "code",
   "execution_count": null,
   "id": "decreased-chess",
   "metadata": {
    "execution": {
     "iopub.status.busy": "2021-11-07T14:16:41.182229Z",
     "iopub.status.idle": "2021-11-07T14:16:41.182376Z",
     "shell.execute_reply": "2021-11-07T14:16:41.182305Z"
    },
    "tags": []
   },
   "outputs": [],
   "source": [
    "plt.figure(figsize=(20, 30))\n",
    "p=1\n",
    "for c in lfh.keys():\n",
    "    plt.subplot(3,1,p)\n",
    "    #plt.xtick(range(201))\n",
    "    plt.xlabel(f\"Cohort {c}\")\n",
    "    plt.plot(lfh[c]['label'], lfh[c]['h'])\n",
    "    p += 1"
   ]
  }
 ],
 "metadata": {
  "kernelspec": {
   "display_name": "Python 3 (ipykernel)",
   "language": "python",
   "name": "python3"
  },
  "language_info": {
   "codemirror_mode": {
    "name": "ipython",
    "version": 3
   },
   "file_extension": ".py",
   "mimetype": "text/x-python",
   "name": "python",
   "nbconvert_exporter": "python",
   "pygments_lexer": "ipython3",
   "version": "3.10.2"
  },
  "toc-autonumbering": true
 },
 "nbformat": 4,
 "nbformat_minor": 5
}
